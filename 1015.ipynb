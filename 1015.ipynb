{
  "nbformat": 4,
  "nbformat_minor": 0,
  "metadata": {
    "colab": {
      "name": "1015.ipynb",
      "provenance": [],
      "collapsed_sections": [],
      "include_colab_link": true
    },
    "kernelspec": {
      "name": "ir",
      "display_name": "R"
    }
  },
  "cells": [
    {
      "cell_type": "markdown",
      "metadata": {
        "id": "view-in-github",
        "colab_type": "text"
      },
      "source": [
        "<a href=\"https://colab.research.google.com/github/NickLin910221/nutn_DBscience_course/blob/master/1015.ipynb\" target=\"_parent\"><img src=\"https://colab.research.google.com/assets/colab-badge.svg\" alt=\"Open In Colab\"/></a>"
      ]
    },
    {
      "cell_type": "code",
      "metadata": {
        "id": "RcCX8klhV_Ia"
      },
      "source": [
        "a = 5\n",
        "b = 3.8\n",
        "c = -1"
      ],
      "execution_count": 1,
      "outputs": []
    },
    {
      "cell_type": "code",
      "metadata": {
        "id": "tnay8pJ4WDC-",
        "outputId": "de712879-c3d0-40a7-c31d-75ea9839d833",
        "colab": {
          "base_uri": "https://localhost:8080/",
          "height": 68
        }
      },
      "source": [
        "str(a)\n",
        "str(b)\n",
        "str(c)"
      ],
      "execution_count": 2,
      "outputs": [
        {
          "output_type": "stream",
          "text": [
            " num 5\n",
            " num 3.8\n",
            " num -1\n"
          ],
          "name": "stdout"
        }
      ]
    },
    {
      "cell_type": "code",
      "metadata": {
        "id": "hIvXTL9TWZxR",
        "outputId": "954dd654-2a83-47fa-ae30-8cda44a130e6",
        "colab": {
          "base_uri": "https://localhost:8080/",
          "height": 51
        }
      },
      "source": [
        "is.numeric(a)\n",
        "is.numeric(b)"
      ],
      "execution_count": 3,
      "outputs": [
        {
          "output_type": "display_data",
          "data": {
            "text/plain": [
              "[1] TRUE"
            ],
            "text/latex": "TRUE",
            "text/markdown": "TRUE",
            "text/html": [
              "TRUE"
            ]
          },
          "metadata": {
            "tags": []
          }
        },
        {
          "output_type": "display_data",
          "data": {
            "text/plain": [
              "[1] TRUE"
            ],
            "text/latex": "TRUE",
            "text/markdown": "TRUE",
            "text/html": [
              "TRUE"
            ]
          },
          "metadata": {
            "tags": []
          }
        }
      ]
    },
    {
      "cell_type": "code",
      "metadata": {
        "id": "SqYU4OWOXbsv",
        "outputId": "d88941d5-4cb8-4447-a122-7b4bfcb104c3",
        "colab": {
          "base_uri": "https://localhost:8080/",
          "height": 51
        }
      },
      "source": [
        "is.integer(a)\n",
        "is.integer(b)"
      ],
      "execution_count": 4,
      "outputs": [
        {
          "output_type": "display_data",
          "data": {
            "text/plain": [
              "[1] FALSE"
            ],
            "text/latex": "FALSE",
            "text/markdown": "FALSE",
            "text/html": [
              "FALSE"
            ]
          },
          "metadata": {
            "tags": []
          }
        },
        {
          "output_type": "display_data",
          "data": {
            "text/plain": [
              "[1] FALSE"
            ],
            "text/latex": "FALSE",
            "text/markdown": "FALSE",
            "text/html": [
              "FALSE"
            ]
          },
          "metadata": {
            "tags": []
          }
        }
      ]
    },
    {
      "cell_type": "code",
      "metadata": {
        "id": "udEcFN_4XhcK"
      },
      "source": [
        "d = \"Hello World\""
      ],
      "execution_count": 5,
      "outputs": []
    },
    {
      "cell_type": "code",
      "metadata": {
        "id": "fgQ_B2TsXp4v",
        "outputId": "eede2334-f5f6-4cbf-f25e-50ef8bfe969c",
        "colab": {
          "base_uri": "https://localhost:8080/",
          "height": 34
        }
      },
      "source": [
        "str(d)"
      ],
      "execution_count": 6,
      "outputs": [
        {
          "output_type": "stream",
          "text": [
            " chr \"Hello World\"\n"
          ],
          "name": "stdout"
        }
      ]
    },
    {
      "cell_type": "code",
      "metadata": {
        "id": "d3fGmYiKXq-P"
      },
      "source": [
        "f = c(5,4,3,2,1)\n",
        "g = c(\"蔡英文\",\"陳水扁\",\"馬英九\")"
      ],
      "execution_count": 7,
      "outputs": []
    },
    {
      "cell_type": "code",
      "metadata": {
        "id": "8ctTccr5a1K9",
        "outputId": "09694543-11ff-476b-991b-69b8b6c73fad",
        "colab": {
          "base_uri": "https://localhost:8080/",
          "height": 68
        }
      },
      "source": [
        "f[2]\n",
        "g[3]\n",
        "g[c(2,3)]"
      ],
      "execution_count": 8,
      "outputs": [
        {
          "output_type": "display_data",
          "data": {
            "text/plain": [
              "[1] 4"
            ],
            "text/latex": "4",
            "text/markdown": "4",
            "text/html": [
              "4"
            ]
          },
          "metadata": {
            "tags": []
          }
        },
        {
          "output_type": "display_data",
          "data": {
            "text/plain": [
              "[1] \"馬英九\""
            ],
            "text/latex": "'馬英九'",
            "text/markdown": "'馬英九'",
            "text/html": [
              "'馬英九'"
            ]
          },
          "metadata": {
            "tags": []
          }
        },
        {
          "output_type": "display_data",
          "data": {
            "text/plain": [
              "[1] \"陳水扁\" \"馬英九\""
            ],
            "text/latex": "\\begin{enumerate*}\n\\item '陳水扁'\n\\item '馬英九'\n\\end{enumerate*}\n",
            "text/markdown": "1. '陳水扁'\n2. '馬英九'\n\n\n",
            "text/html": [
              "<style>\n",
              ".list-inline {list-style: none; margin:0; padding: 0}\n",
              ".list-inline>li {display: inline-block}\n",
              ".list-inline>li:not(:last-child)::after {content: \"\\00b7\"; padding: 0 .5ex}\n",
              "</style>\n",
              "<ol class=list-inline><li>'陳水扁'</li><li>'馬英九'</li></ol>\n"
            ]
          },
          "metadata": {
            "tags": []
          }
        }
      ]
    },
    {
      "cell_type": "code",
      "metadata": {
        "id": "xAkgYLYSa7ir"
      },
      "source": [
        "h = c(1,2,3,4,5,6,7,8)\n",
        "i = c(2,3,4,5,6,7,8,9)"
      ],
      "execution_count": 9,
      "outputs": []
    },
    {
      "cell_type": "code",
      "metadata": {
        "id": "LUwp467ybEOY",
        "outputId": "ddbfaf88-7c08-44e1-cb83-9ad77c87e436",
        "colab": {
          "base_uri": "https://localhost:8080/",
          "height": 34
        }
      },
      "source": [
        "h*i"
      ],
      "execution_count": 10,
      "outputs": [
        {
          "output_type": "display_data",
          "data": {
            "text/plain": [
              "[1]  2  6 12 20 30 42 56 72"
            ],
            "text/latex": "\\begin{enumerate*}\n\\item 2\n\\item 6\n\\item 12\n\\item 20\n\\item 30\n\\item 42\n\\item 56\n\\item 72\n\\end{enumerate*}\n",
            "text/markdown": "1. 2\n2. 6\n3. 12\n4. 20\n5. 30\n6. 42\n7. 56\n8. 72\n\n\n",
            "text/html": [
              "<style>\n",
              ".list-inline {list-style: none; margin:0; padding: 0}\n",
              ".list-inline>li {display: inline-block}\n",
              ".list-inline>li:not(:last-child)::after {content: \"\\00b7\"; padding: 0 .5ex}\n",
              "</style>\n",
              "<ol class=list-inline><li>2</li><li>6</li><li>12</li><li>20</li><li>30</li><li>42</li><li>56</li><li>72</li></ol>\n"
            ]
          },
          "metadata": {
            "tags": []
          }
        }
      ]
    },
    {
      "cell_type": "code",
      "metadata": {
        "id": "dSXXIsqYbFSf",
        "outputId": "d770ba4b-51d6-426d-f75c-e485542e365c",
        "colab": {
          "base_uri": "https://localhost:8080/",
          "height": 34
        }
      },
      "source": [
        "h^3"
      ],
      "execution_count": 11,
      "outputs": [
        {
          "output_type": "display_data",
          "data": {
            "text/plain": [
              "[1]   1   8  27  64 125 216 343 512"
            ],
            "text/latex": "\\begin{enumerate*}\n\\item 1\n\\item 8\n\\item 27\n\\item 64\n\\item 125\n\\item 216\n\\item 343\n\\item 512\n\\end{enumerate*}\n",
            "text/markdown": "1. 1\n2. 8\n3. 27\n4. 64\n5. 125\n6. 216\n7. 343\n8. 512\n\n\n",
            "text/html": [
              "<style>\n",
              ".list-inline {list-style: none; margin:0; padding: 0}\n",
              ".list-inline>li {display: inline-block}\n",
              ".list-inline>li:not(:last-child)::after {content: \"\\00b7\"; padding: 0 .5ex}\n",
              "</style>\n",
              "<ol class=list-inline><li>1</li><li>8</li><li>27</li><li>64</li><li>125</li><li>216</li><li>343</li><li>512</li></ol>\n"
            ]
          },
          "metadata": {
            "tags": []
          }
        }
      ]
    },
    {
      "cell_type": "code",
      "metadata": {
        "id": "7Fl0vJ5obI9-",
        "outputId": "d5956505-4578-4ff5-8fa0-ab6024c1b45c",
        "colab": {
          "base_uri": "https://localhost:8080/",
          "height": 34
        }
      },
      "source": [
        "i>5"
      ],
      "execution_count": 12,
      "outputs": [
        {
          "output_type": "display_data",
          "data": {
            "text/plain": [
              "[1] FALSE FALSE FALSE FALSE  TRUE  TRUE  TRUE  TRUE"
            ],
            "text/latex": "\\begin{enumerate*}\n\\item FALSE\n\\item FALSE\n\\item FALSE\n\\item FALSE\n\\item TRUE\n\\item TRUE\n\\item TRUE\n\\item TRUE\n\\end{enumerate*}\n",
            "text/markdown": "1. FALSE\n2. FALSE\n3. FALSE\n4. FALSE\n5. TRUE\n6. TRUE\n7. TRUE\n8. TRUE\n\n\n",
            "text/html": [
              "<style>\n",
              ".list-inline {list-style: none; margin:0; padding: 0}\n",
              ".list-inline>li {display: inline-block}\n",
              ".list-inline>li:not(:last-child)::after {content: \"\\00b7\"; padding: 0 .5ex}\n",
              "</style>\n",
              "<ol class=list-inline><li>FALSE</li><li>FALSE</li><li>FALSE</li><li>FALSE</li><li>TRUE</li><li>TRUE</li><li>TRUE</li><li>TRUE</li></ol>\n"
            ]
          },
          "metadata": {
            "tags": []
          }
        }
      ]
    },
    {
      "cell_type": "code",
      "metadata": {
        "id": "fl4_A2gbbJse",
        "outputId": "e1393b25-8c20-4732-d3b2-05f623ccccf1",
        "colab": {
          "base_uri": "https://localhost:8080/",
          "height": 68
        }
      },
      "source": [
        "gender = c(\"男\",\"女\",\"男\",\"男\",\"女\",\"中\")\n",
        "gender = factor(gender)\n",
        "gender\n",
        "levels(gender)"
      ],
      "execution_count": 13,
      "outputs": [
        {
          "output_type": "display_data",
          "data": {
            "text/plain": [
              "[1] 男 女 男 男 女 中\n",
              "Levels: 中 女 男"
            ],
            "text/latex": "\\begin{enumerate*}\n\\item 男\n\\item 女\n\\item 男\n\\item 男\n\\item 女\n\\item 中\n\\end{enumerate*}\n\n\\emph{Levels}: \\begin{enumerate*}\n\\item '中'\n\\item '女'\n\\item '男'\n\\end{enumerate*}\n",
            "text/markdown": "1. 男\n2. 女\n3. 男\n4. 男\n5. 女\n6. 中\n\n\n\n**Levels**: 1. '中'\n2. '女'\n3. '男'\n\n\n",
            "text/html": [
              "<style>\n",
              ".list-inline {list-style: none; margin:0; padding: 0}\n",
              ".list-inline>li {display: inline-block}\n",
              ".list-inline>li:not(:last-child)::after {content: \"\\00b7\"; padding: 0 .5ex}\n",
              "</style>\n",
              "<ol class=list-inline><li>男</li><li>女</li><li>男</li><li>男</li><li>女</li><li>中</li></ol>\n",
              "\n",
              "<details>\n",
              "\t<summary style=display:list-item;cursor:pointer>\n",
              "\t\t<strong>Levels</strong>:\n",
              "\t</summary>\n",
              "\t<style>\n",
              "\t.list-inline {list-style: none; margin:0; padding: 0}\n",
              "\t.list-inline>li {display: inline-block}\n",
              "\t.list-inline>li:not(:last-child)::after {content: \"\\00b7\"; padding: 0 .5ex}\n",
              "\t</style>\n",
              "\t<ol class=list-inline><li>'中'</li><li>'女'</li><li>'男'</li></ol>\n",
              "</details>"
            ]
          },
          "metadata": {
            "tags": []
          }
        },
        {
          "output_type": "display_data",
          "data": {
            "text/plain": [
              "[1] \"中\" \"女\" \"男\""
            ],
            "text/latex": "\\begin{enumerate*}\n\\item '中'\n\\item '女'\n\\item '男'\n\\end{enumerate*}\n",
            "text/markdown": "1. '中'\n2. '女'\n3. '男'\n\n\n",
            "text/html": [
              "<style>\n",
              ".list-inline {list-style: none; margin:0; padding: 0}\n",
              ".list-inline>li {display: inline-block}\n",
              ".list-inline>li:not(:last-child)::after {content: \"\\00b7\"; padding: 0 .5ex}\n",
              "</style>\n",
              "<ol class=list-inline><li>'中'</li><li>'女'</li><li>'男'</li></ol>\n"
            ]
          },
          "metadata": {
            "tags": []
          }
        }
      ]
    },
    {
      "cell_type": "code",
      "metadata": {
        "id": "pHos1Batcc2I",
        "outputId": "9312f1e9-9ef5-42fc-eb08-bd6d627f9a2e",
        "colab": {
          "base_uri": "https://localhost:8080/",
          "height": 133
        }
      },
      "source": [
        "j = matrix(c(1:12),nrow = 3,ncol = 4)\n",
        "j"
      ],
      "execution_count": 15,
      "outputs": [
        {
          "output_type": "display_data",
          "data": {
            "text/plain": [
              "     [,1] [,2] [,3] [,4]\n",
              "[1,] 1    4    7    10  \n",
              "[2,] 2    5    8    11  \n",
              "[3,] 3    6    9    12  "
            ],
            "text/latex": "A matrix: 3 × 4 of type int\n\\begin{tabular}{llll}\n\t 1 & 4 & 7 & 10\\\\\n\t 2 & 5 & 8 & 11\\\\\n\t 3 & 6 & 9 & 12\\\\\n\\end{tabular}\n",
            "text/markdown": "\nA matrix: 3 × 4 of type int\n\n| 1 | 4 | 7 | 10 |\n| 2 | 5 | 8 | 11 |\n| 3 | 6 | 9 | 12 |\n\n",
            "text/html": [
              "<table>\n",
              "<caption>A matrix: 3 × 4 of type int</caption>\n",
              "<tbody>\n",
              "\t<tr><td>1</td><td>4</td><td>7</td><td>10</td></tr>\n",
              "\t<tr><td>2</td><td>5</td><td>8</td><td>11</td></tr>\n",
              "\t<tr><td>3</td><td>6</td><td>9</td><td>12</td></tr>\n",
              "</tbody>\n",
              "</table>\n"
            ]
          },
          "metadata": {
            "tags": []
          }
        }
      ]
    },
    {
      "cell_type": "code",
      "metadata": {
        "id": "1lY4Dsp5dNJW",
        "outputId": "007f56dc-0adc-42a2-fb7f-6b4d1abb930a",
        "colab": {
          "base_uri": "https://localhost:8080/",
          "height": 51
        }
      },
      "source": [
        "j[2,2]\n",
        "j[,2]"
      ],
      "execution_count": 16,
      "outputs": [
        {
          "output_type": "display_data",
          "data": {
            "text/plain": [
              "[1] 5"
            ],
            "text/latex": "5",
            "text/markdown": "5",
            "text/html": [
              "5"
            ]
          },
          "metadata": {
            "tags": []
          }
        },
        {
          "output_type": "display_data",
          "data": {
            "text/plain": [
              "[1] 4 5 6"
            ],
            "text/latex": "\\begin{enumerate*}\n\\item 4\n\\item 5\n\\item 6\n\\end{enumerate*}\n",
            "text/markdown": "1. 4\n2. 5\n3. 6\n\n\n",
            "text/html": [
              "<style>\n",
              ".list-inline {list-style: none; margin:0; padding: 0}\n",
              ".list-inline>li {display: inline-block}\n",
              ".list-inline>li:not(:last-child)::after {content: \"\\00b7\"; padding: 0 .5ex}\n",
              "</style>\n",
              "<ol class=list-inline><li>4</li><li>5</li><li>6</li></ol>\n"
            ]
          },
          "metadata": {
            "tags": []
          }
        }
      ]
    },
    {
      "cell_type": "code",
      "metadata": {
        "id": "qCkA-adygDix",
        "outputId": "66c3cea5-6b3f-448c-c2b1-64c88cec875c",
        "colab": {
          "base_uri": "https://localhost:8080/",
          "height": 183
        }
      },
      "source": [
        "score = data.frame(Student_ID=c(1,2,3,4,5),name=c(\"Helen\",\"Lun\",\"Tracy\",\"Ivy\",\"Joe\"),score=c(85,65.1,44.5,54.1,98))\n",
        "score"
      ],
      "execution_count": 17,
      "outputs": [
        {
          "output_type": "display_data",
          "data": {
            "text/plain": [
              "  Student_ID name  score\n",
              "1 1          Helen 85.0 \n",
              "2 2          Lun   65.1 \n",
              "3 3          Tracy 44.5 \n",
              "4 4          Ivy   54.1 \n",
              "5 5          Joe   98.0 "
            ],
            "text/latex": "A data.frame: 5 × 3\n\\begin{tabular}{lll}\n Student\\_ID & name & score\\\\\n <dbl> & <chr> & <dbl>\\\\\n\\hline\n\t 1 & Helen & 85.0\\\\\n\t 2 & Lun   & 65.1\\\\\n\t 3 & Tracy & 44.5\\\\\n\t 4 & Ivy   & 54.1\\\\\n\t 5 & Joe   & 98.0\\\\\n\\end{tabular}\n",
            "text/markdown": "\nA data.frame: 5 × 3\n\n| Student_ID &lt;dbl&gt; | name &lt;chr&gt; | score &lt;dbl&gt; |\n|---|---|---|\n| 1 | Helen | 85.0 |\n| 2 | Lun   | 65.1 |\n| 3 | Tracy | 44.5 |\n| 4 | Ivy   | 54.1 |\n| 5 | Joe   | 98.0 |\n\n",
            "text/html": [
              "<table>\n",
              "<caption>A data.frame: 5 × 3</caption>\n",
              "<thead>\n",
              "\t<tr><th scope=col>Student_ID</th><th scope=col>name</th><th scope=col>score</th></tr>\n",
              "\t<tr><th scope=col>&lt;dbl&gt;</th><th scope=col>&lt;chr&gt;</th><th scope=col>&lt;dbl&gt;</th></tr>\n",
              "</thead>\n",
              "<tbody>\n",
              "\t<tr><td>1</td><td>Helen</td><td>85.0</td></tr>\n",
              "\t<tr><td>2</td><td>Lun  </td><td>65.1</td></tr>\n",
              "\t<tr><td>3</td><td>Tracy</td><td>44.5</td></tr>\n",
              "\t<tr><td>4</td><td>Ivy  </td><td>54.1</td></tr>\n",
              "\t<tr><td>5</td><td>Joe  </td><td>98.0</td></tr>\n",
              "</tbody>\n",
              "</table>\n"
            ]
          },
          "metadata": {
            "tags": []
          }
        }
      ]
    },
    {
      "cell_type": "code",
      "metadata": {
        "id": "G8Y5yPYhiHDa",
        "outputId": "37e1dc38-65bc-4358-bb6c-6c144a6e7e41",
        "colab": {
          "base_uri": "https://localhost:8080/",
          "height": 68
        }
      },
      "source": [
        "install.packages(\"SportsAnalytics\")"
      ],
      "execution_count": 51,
      "outputs": [
        {
          "output_type": "stream",
          "text": [
            "Installing package into ‘/usr/local/lib/R/site-library’\n",
            "(as ‘lib’ is unspecified)\n",
            "\n"
          ],
          "name": "stderr"
        }
      ]
    },
    {
      "cell_type": "code",
      "metadata": {
        "id": "OmqYf19miVma",
        "outputId": "834267a2-e091-4f0c-af2a-3b6c7c6b6eef",
        "colab": {
          "base_uri": "https://localhost:8080/",
          "height": 1000
        }
      },
      "source": [
        "library(SportsAnalytics)\n",
        "NBA1920 = fetch_NBAPlayerStatistics(\"19-20\")\n",
        "NBA1920"
      ],
      "execution_count": 52,
      "outputs": [
        {
          "output_type": "display_data",
          "data": {
            "text/plain": [
              "    League Name             Team Position GamesPlayed TotalMinutesPlayed\n",
              "1   NBA    Steven Adams     OKL  C        63          1679              \n",
              "2   NBA    Bam Adebayo      MIA  PF       72          2415              \n",
              "3   NBA    Lamarcu Aldridge SAN  C        53          1757              \n",
              "4   NBA    Kyle Alexander   MIA  PF        2            13              \n",
              "5   NBA    Alexander-walke  NOR  SG       47           590              \n",
              "6   NBA    Grayson Allen    MEM  SG       38           721              \n",
              "7   NBA    Jarrett Allen    BRO  PF       70          1854              \n",
              "8   NBA    Kadeem Allen     NYK  SG       10           118              \n",
              "9   NBA    Al-farouq Aminu  ORL  SF       18           381              \n",
              "10  NBA    Justin Anderson  BRO  SF       10           108              \n",
              "11  NBA    Kyle Anderson    MEM  PF       67          1330              \n",
              "12  NBA    Ryan Anderson    HOU  PF        2            14              \n",
              "13  NBA    G Antetokounmpo  MIL  PF       63          1914              \n",
              "14  NBA    K Antetokounmpo  LAL  PF        4            19              \n",
              "15  NBA    T Antetokounmpo  MIL  SF       20           129              \n",
              "16  NBA    Carmelo Anthony  POR  PF       58          1904              \n",
              "17  NBA    Og Anunoby       TOR  SF       69          2069              \n",
              "18  NBA    Rya Arcidiacono  CHI  PG       58           930              \n",
              "19  NBA    Trevor Ariza     SAC  SF       53          1489              \n",
              "20  NBA    D.j. Augustin    ORL  PG       57          1418              \n",
              "21  NBA    Deandre Ayton    PHO  C        38          1235              \n",
              "22  NBA    Dwayne Bacon     CHA  SG       39           689              \n",
              "23  NBA    Marvin Bagley    SAC  PF       13           333              \n",
              "24  NBA    Lonzo Ball       NOR  PG       63          2023              \n",
              "25  NBA    Mohamed Bamba    ORL  C        62           879              \n",
              "26  NBA    J.j. Barea       DAL  PG       29           453              \n",
              "27  NBA    Harrison Barnes  SAC  SF       72          2481              \n",
              "28  NBA    Rj Barrett       NYK  SF       56          1705              \n",
              "29  NBA    Will Barton      DEN  SF       58          1918              \n",
              "30  NBA    Keit Bates-diop  DEN  SF       44           743              \n",
              "⋮   ⋮      ⋮                ⋮    ⋮        ⋮           ⋮                 \n",
              "500 NBA    T.j. Warren      IND  SF       67          2204              \n",
              "501 NBA    Pj Washington    CHA  PF       58          1758              \n",
              "502 NBA    Yuta Watanabe    MEM  SF       18           105              \n",
              "503 NBA    Tremont Waters   BOS  PG       11           120              \n",
              "504 NBA    Paul Watson      TOR  SF       10            86              \n",
              "505 NBA    Qu Weatherspoon  SAN  SG       10            77              \n",
              "506 NBA    Russel Westbrook HOU  PG       57          2048              \n",
              "507 NBA    Coby White       CHI  PG       65          1678              \n",
              "508 NBA    Derrick White    SAN  PG       68          1680              \n",
              "509 NBA    Hassa Whiteside  POR  C        67          2008              \n",
              "510 NBA    Andrew Wiggins   GSW  SF       54          1857              \n",
              "511 NBA    Grant Williams   BOS  PF       69          1043              \n",
              "512 NBA    Johnath Williams WAS  PF       14           179              \n",
              "513 NBA    Kenric Williams  NOR  SF       39           827              \n",
              "514 NBA    Lou Williams     LAC  SG       65          1866              \n",
              "515 NBA    Marvin Williams  MIL  PF       58          1128              \n",
              "516 NBA    Robert Williams  BOS  PF       28           389              \n",
              "517 NBA    N Williams-goss  UTA  PG        9            50              \n",
              "518 NBA    Zion Williamson  NOR  PF       24           667              \n",
              "519 NBA    D.j. Wilson      MIL  PF       36           363              \n",
              "520 NBA    Justise Winslow  MIA  SF       11           353              \n",
              "521 NBA    Christian Wood   DET  PF       62          1319              \n",
              "522 NBA    Delon Wright     DAL  SG       73          1570              \n",
              "523 NBA    Wright-foreman   UTA  PG        4            45              \n",
              "524 NBA    Thaddeus Young   CHI  PF       64          1594              \n",
              "525 NBA    Trae Young       ATL  PG       60          2119              \n",
              "526 NBA    Cody Zeller      CHA  C        58          1343              \n",
              "527 NBA    Tyler Zeller     SAN  C         1             4              \n",
              "528 NBA    Ante Zizic       CLE  C        22           222              \n",
              "529 NBA    Ivica Zubac      LAC  C        72          1326              \n",
              "    FieldGoalsMade FieldGoalsAttempted ThreesMade ThreesAttempted ⋯ Steals\n",
              "1   283             478                  1          3             ⋯ 51    \n",
              "2   440             791                  2         14             ⋯ 82    \n",
              "3   391             794                 61        157             ⋯ 36    \n",
              "4     1               2                  0          0             ⋯  0    \n",
              "5    98             266                 46        133             ⋯ 17    \n",
              "6   117             251                 57        141             ⋯ 12    \n",
              "7   302             465                  0          6             ⋯ 40    \n",
              "8    19              44                  5         16             ⋯  5    \n",
              "9    25              86                  9         36             ⋯ 18    \n",
              "10   10              38                  6         29             ⋯  0    \n",
              "11  157             331                 24         85             ⋯ 52    \n",
              "12    2               7                  1          5             ⋯  1    \n",
              "13  685            1238                 89        293             ⋯ 61    \n",
              "14    3               3                  0          0             ⋯  0    \n",
              "15   24              48                  0         10             ⋯  7    \n",
              "16  336             782                 87        226             ⋯ 49    \n",
              "17  286             566                 89        228             ⋯ 97    \n",
              "18   90             220                 54        138             ⋯ 27    \n",
              "19  142             324                 77        207             ⋯ 68    \n",
              "20  184             461                 70        201             ⋯ 33    \n",
              "21  310             568                  3         13             ⋯ 25    \n",
              "22   85             244                 19         67             ⋯ 23    \n",
              "23   78             167                  4         22             ⋯  6    \n",
              "24  277             687                148        395             ⋯ 89    \n",
              "25  132             286                 37        107             ⋯ 23    \n",
              "26   85             207                 32         85             ⋯  5    \n",
              "27  365             792                102        268             ⋯ 43    \n",
              "28  292             726                 63        197             ⋯ 55    \n",
              "29  332             738                108        288             ⋯ 62    \n",
              "30  100             234                 34        103             ⋯ 19    \n",
              "⋮   ⋮              ⋮                   ⋮          ⋮               ⋱ ⋮     \n",
              "500 534             997                 91        226             ⋯ 78    \n",
              "501 268             589                 86        230             ⋯ 52    \n",
              "502  15              34                  3          8             ⋯  4    \n",
              "503  14              49                  4         24             ⋯ 10    \n",
              "504  10              26                  4         12             ⋯  4    \n",
              "505   5              17                  1          5             ⋯  3    \n",
              "506 604            1281                 55        213             ⋯ 95    \n",
              "507 312             792                133        376             ⋯ 49    \n",
              "508 253             552                 79        216             ⋯ 45    \n",
              "509 436             702                  4          7             ⋯ 26    \n",
              "510 437             978                111        334             ⋯ 45    \n",
              "511  87             211                 24         96             ⋯ 31    \n",
              "512  19              34                  0          2             ⋯  1    \n",
              "513  51             147                 25         97             ⋯ 27    \n",
              "514 391             936                111        315             ⋯ 43    \n",
              "515 119             267                 56        156             ⋯ 35    \n",
              "516  64              88                  0          0             ⋯ 23    \n",
              "517   5              16                  2          7             ⋯  3    \n",
              "518 210             360                  6         14             ⋯ 16    \n",
              "519  52             132                 18         73             ⋯  3    \n",
              "520  50             129                  6         27             ⋯  8    \n",
              "521 288             508                 54        140             ⋯ 34    \n",
              "522 190             412                 47        128             ⋯ 84    \n",
              "523   7              20                  2         10             ⋯  2    \n",
              "524 269             602                 79        223             ⋯ 92    \n",
              "525 546            1249                205        568             ⋯ 65    \n",
              "526 251             480                 18         75             ⋯ 40    \n",
              "527   1               4                  0          0             ⋯  0    \n",
              "528  41              72                  0          0             ⋯  7    \n",
              "529 236             387                  0          2             ⋯ 16    \n",
              "    Turnovers Blocks PersonalFouls Disqualifications TotalPoints Technicals\n",
              "1    95       68     122           1                  684        2         \n",
              "2   203       93     182           2                 1146        0         \n",
              "3    74       87     128           1                 1001        0         \n",
              "4     1        0       1           0                    2        0         \n",
              "5    54        8      57           0                  267        0         \n",
              "6    33        2      53           0                  330        1         \n",
              "7    77       92     162           2                  775        1         \n",
              "8     8        2       7           0                   50        0         \n",
              "9    17        8      27           0                   78        0         \n",
              "10    4        6      13           0                   28        0         \n",
              "11   66       37     111           0                  390        0         \n",
              "12    1        0       1           0                    5        0         \n",
              "13  230       66     195           5                 1857        3         \n",
              "14    1        0       2           0                    7        0         \n",
              "15   12        2      18           0                   55        0         \n",
              "16  100       27     171           0                  895        6         \n",
              "17   79       45     167           4                  733        0         \n",
              "18   37        3      96           1                  261        1         \n",
              "19   56       16     111           0                  423        2         \n",
              "20   86        1      72           0                  599        1         \n",
              "21   80       58     117           0                  690        2         \n",
              "22   37        2      52           0                  224        0         \n",
              "23   18       12      43           0                  185        1         \n",
              "24  192       37     128           0                  745        0         \n",
              "25   42       85     116           2                  332        1         \n",
              "26   38        2      27           0                  222        0         \n",
              "27   88       12      93           0                 1046        0         \n",
              "28  126       17     122           0                  803        0         \n",
              "29   89       29     121           0                  876        2         \n",
              "30   17       24      43           0                  288        0         \n",
              "⋮   ⋮         ⋮      ⋮             ⋮                 ⋮           ⋮         \n",
              "500  86        34    187           2                 1326         7        \n",
              "501  93        45    158           0                  710         0        \n",
              "502   2         1      9           0                   36         0        \n",
              "503  15         2     13           0                   40         0        \n",
              "504   3         1      5           0                   31         0        \n",
              "505   5         1      8           0                   12         0        \n",
              "506 255        20    199           2                 1553        10        \n",
              "507 109         6    117           1                  859         0        \n",
              "508  89        58    152           0                  765         0        \n",
              "509 120       196    196           1                 1040         7        \n",
              "510 131        52    127           1                 1175         1        \n",
              "511  50        35    163           2                  237         0        \n",
              "512   5         8     16           0                   45         0        \n",
              "513  22        21     88           0                  136         1        \n",
              "514 182        12     80           0                 1185         3        \n",
              "515  33        31    103           1                  343         0        \n",
              "516  20        35     48           0                  150         0        \n",
              "517   3         1      6           0                   14         0        \n",
              "518  59         9     42           0                  540         0        \n",
              "519  19         5     33           0                  133         0        \n",
              "520  24         5     38           0                  124         0        \n",
              "521  84        55     98           0                  811         1        \n",
              "522  73        22     93           0                  504         0        \n",
              "523   3         0      5           0                   19         0        \n",
              "524 102        23    134           1                  659         4        \n",
              "525 289         8    104           0                 1778         7        \n",
              "526  75        27    140           1                  642         0        \n",
              "527   0         0      0           0                    2         0        \n",
              "528  10         5     27           0                   96         0        \n",
              "529  61        66    168           2                  596         1        \n",
              "    Ejections FlagrantFouls GamesStarted\n",
              "1   0         0             63          \n",
              "2   0         0             72          \n",
              "3   0         0             53          \n",
              "4   0         0              0          \n",
              "5   0         0              1          \n",
              "6   0         0              0          \n",
              "7   0         0             64          \n",
              "8   0         0              0          \n",
              "9   0         0              2          \n",
              "10  0         0              1          \n",
              "11  0         0             28          \n",
              "12  0         0              0          \n",
              "13  0         0             63          \n",
              "14  0         0              0          \n",
              "15  0         0              2          \n",
              "16  0         0             58          \n",
              "17  0         0             68          \n",
              "18  0         0              4          \n",
              "19  0         0             21          \n",
              "20  0         0             13          \n",
              "21  0         0             32          \n",
              "22  0         0             11          \n",
              "23  0         0              6          \n",
              "24  0         0             54          \n",
              "25  0         0              0          \n",
              "26  0         0              6          \n",
              "27  0         0             72          \n",
              "28  0         0             55          \n",
              "29  0         0             58          \n",
              "30  0         0              0          \n",
              "⋮   ⋮         ⋮             ⋮           \n",
              "500 0         0             67          \n",
              "501 0         0             57          \n",
              "502 0         0              0          \n",
              "503 0         0              1          \n",
              "504 0         0              0          \n",
              "505 0         0              0          \n",
              "506 0         0             57          \n",
              "507 0         0              2          \n",
              "508 0         0             20          \n",
              "509 0         0             61          \n",
              "510 0         0             54          \n",
              "511 0         0              5          \n",
              "512 0         0              6          \n",
              "513 0         0             18          \n",
              "514 0         0              8          \n",
              "515 0         0              1          \n",
              "516 0         0              1          \n",
              "517 0         0              0          \n",
              "518 0         0             24          \n",
              "519 0         0              1          \n",
              "520 0         0              5          \n",
              "521 0         0             12          \n",
              "522 0         0              6          \n",
              "523 0         0              0          \n",
              "524 0         0             16          \n",
              "525 0         0             60          \n",
              "526 0         0             39          \n",
              "527 0         0              0          \n",
              "528 0         0              0          \n",
              "529 0         0             70          "
            ],
            "text/latex": "A data.frame: 529 × 25\n\\begin{tabular}{lllllllllllllllllllll}\n League & Name & Team & Position & GamesPlayed & TotalMinutesPlayed & FieldGoalsMade & FieldGoalsAttempted & ThreesMade & ThreesAttempted & ⋯ & Steals & Turnovers & Blocks & PersonalFouls & Disqualifications & TotalPoints & Technicals & Ejections & FlagrantFouls & GamesStarted\\\\\n <fct> & <chr> & <fct> & <fct> & <int> & <int> & <int> & <int> & <int> & <int> & ⋯ & <int> & <int> & <int> & <int> & <int> & <int> & <int> & <int> & <int> & <int>\\\\\n\\hline\n\t NBA & Steven Adams     & OKL & C  & 63 & 1679 & 283 &  478 &   1 &   3 & ⋯ & 51 &  95 & 68 & 122 & 1 &  684 & 2 & 0 & 0 & 63\\\\\n\t NBA & Bam Adebayo      & MIA & PF & 72 & 2415 & 440 &  791 &   2 &  14 & ⋯ & 82 & 203 & 93 & 182 & 2 & 1146 & 0 & 0 & 0 & 72\\\\\n\t NBA & Lamarcu Aldridge & SAN & C  & 53 & 1757 & 391 &  794 &  61 & 157 & ⋯ & 36 &  74 & 87 & 128 & 1 & 1001 & 0 & 0 & 0 & 53\\\\\n\t NBA & Kyle Alexander   & MIA & PF &  2 &   13 &   1 &    2 &   0 &   0 & ⋯ &  0 &   1 &  0 &   1 & 0 &    2 & 0 & 0 & 0 &  0\\\\\n\t NBA & Alexander-walke  & NOR & SG & 47 &  590 &  98 &  266 &  46 & 133 & ⋯ & 17 &  54 &  8 &  57 & 0 &  267 & 0 & 0 & 0 &  1\\\\\n\t NBA & Grayson Allen    & MEM & SG & 38 &  721 & 117 &  251 &  57 & 141 & ⋯ & 12 &  33 &  2 &  53 & 0 &  330 & 1 & 0 & 0 &  0\\\\\n\t NBA & Jarrett Allen    & BRO & PF & 70 & 1854 & 302 &  465 &   0 &   6 & ⋯ & 40 &  77 & 92 & 162 & 2 &  775 & 1 & 0 & 0 & 64\\\\\n\t NBA & Kadeem Allen     & NYK & SG & 10 &  118 &  19 &   44 &   5 &  16 & ⋯ &  5 &   8 &  2 &   7 & 0 &   50 & 0 & 0 & 0 &  0\\\\\n\t NBA & Al-farouq Aminu  & ORL & SF & 18 &  381 &  25 &   86 &   9 &  36 & ⋯ & 18 &  17 &  8 &  27 & 0 &   78 & 0 & 0 & 0 &  2\\\\\n\t NBA & Justin Anderson  & BRO & SF & 10 &  108 &  10 &   38 &   6 &  29 & ⋯ &  0 &   4 &  6 &  13 & 0 &   28 & 0 & 0 & 0 &  1\\\\\n\t NBA & Kyle Anderson    & MEM & PF & 67 & 1330 & 157 &  331 &  24 &  85 & ⋯ & 52 &  66 & 37 & 111 & 0 &  390 & 0 & 0 & 0 & 28\\\\\n\t NBA & Ryan Anderson    & HOU & PF &  2 &   14 &   2 &    7 &   1 &   5 & ⋯ &  1 &   1 &  0 &   1 & 0 &    5 & 0 & 0 & 0 &  0\\\\\n\t NBA & G Antetokounmpo  & MIL & PF & 63 & 1914 & 685 & 1238 &  89 & 293 & ⋯ & 61 & 230 & 66 & 195 & 5 & 1857 & 3 & 0 & 0 & 63\\\\\n\t NBA & K Antetokounmpo  & LAL & PF &  4 &   19 &   3 &    3 &   0 &   0 & ⋯ &  0 &   1 &  0 &   2 & 0 &    7 & 0 & 0 & 0 &  0\\\\\n\t NBA & T Antetokounmpo  & MIL & SF & 20 &  129 &  24 &   48 &   0 &  10 & ⋯ &  7 &  12 &  2 &  18 & 0 &   55 & 0 & 0 & 0 &  2\\\\\n\t NBA & Carmelo Anthony  & POR & PF & 58 & 1904 & 336 &  782 &  87 & 226 & ⋯ & 49 & 100 & 27 & 171 & 0 &  895 & 6 & 0 & 0 & 58\\\\\n\t NBA & Og Anunoby       & TOR & SF & 69 & 2069 & 286 &  566 &  89 & 228 & ⋯ & 97 &  79 & 45 & 167 & 4 &  733 & 0 & 0 & 0 & 68\\\\\n\t NBA & Rya Arcidiacono  & CHI & PG & 58 &  930 &  90 &  220 &  54 & 138 & ⋯ & 27 &  37 &  3 &  96 & 1 &  261 & 1 & 0 & 0 &  4\\\\\n\t NBA & Trevor Ariza     & SAC & SF & 53 & 1489 & 142 &  324 &  77 & 207 & ⋯ & 68 &  56 & 16 & 111 & 0 &  423 & 2 & 0 & 0 & 21\\\\\n\t NBA & D.j. Augustin    & ORL & PG & 57 & 1418 & 184 &  461 &  70 & 201 & ⋯ & 33 &  86 &  1 &  72 & 0 &  599 & 1 & 0 & 0 & 13\\\\\n\t NBA & Deandre Ayton    & PHO & C  & 38 & 1235 & 310 &  568 &   3 &  13 & ⋯ & 25 &  80 & 58 & 117 & 0 &  690 & 2 & 0 & 0 & 32\\\\\n\t NBA & Dwayne Bacon     & CHA & SG & 39 &  689 &  85 &  244 &  19 &  67 & ⋯ & 23 &  37 &  2 &  52 & 0 &  224 & 0 & 0 & 0 & 11\\\\\n\t NBA & Marvin Bagley    & SAC & PF & 13 &  333 &  78 &  167 &   4 &  22 & ⋯ &  6 &  18 & 12 &  43 & 0 &  185 & 1 & 0 & 0 &  6\\\\\n\t NBA & Lonzo Ball       & NOR & PG & 63 & 2023 & 277 &  687 & 148 & 395 & ⋯ & 89 & 192 & 37 & 128 & 0 &  745 & 0 & 0 & 0 & 54\\\\\n\t NBA & Mohamed Bamba    & ORL & C  & 62 &  879 & 132 &  286 &  37 & 107 & ⋯ & 23 &  42 & 85 & 116 & 2 &  332 & 1 & 0 & 0 &  0\\\\\n\t NBA & J.j. Barea       & DAL & PG & 29 &  453 &  85 &  207 &  32 &  85 & ⋯ &  5 &  38 &  2 &  27 & 0 &  222 & 0 & 0 & 0 &  6\\\\\n\t NBA & Harrison Barnes  & SAC & SF & 72 & 2481 & 365 &  792 & 102 & 268 & ⋯ & 43 &  88 & 12 &  93 & 0 & 1046 & 0 & 0 & 0 & 72\\\\\n\t NBA & Rj Barrett       & NYK & SF & 56 & 1705 & 292 &  726 &  63 & 197 & ⋯ & 55 & 126 & 17 & 122 & 0 &  803 & 0 & 0 & 0 & 55\\\\\n\t NBA & Will Barton      & DEN & SF & 58 & 1918 & 332 &  738 & 108 & 288 & ⋯ & 62 &  89 & 29 & 121 & 0 &  876 & 2 & 0 & 0 & 58\\\\\n\t NBA & Keit Bates-diop  & DEN & SF & 44 &  743 & 100 &  234 &  34 & 103 & ⋯ & 19 &  17 & 24 &  43 & 0 &  288 & 0 & 0 & 0 &  0\\\\\n\t ⋮ & ⋮ & ⋮ & ⋮ & ⋮ & ⋮ & ⋮ & ⋮ & ⋮ & ⋮ & ⋱ & ⋮ & ⋮ & ⋮ & ⋮ & ⋮ & ⋮ & ⋮ & ⋮ & ⋮ & ⋮\\\\\n\t NBA & T.j. Warren      & IND & SF & 67 & 2204 & 534 &  997 &  91 & 226 & ⋯ & 78 &  86 &  34 & 187 & 2 & 1326 &  7 & 0 & 0 & 67\\\\\n\t NBA & Pj Washington    & CHA & PF & 58 & 1758 & 268 &  589 &  86 & 230 & ⋯ & 52 &  93 &  45 & 158 & 0 &  710 &  0 & 0 & 0 & 57\\\\\n\t NBA & Yuta Watanabe    & MEM & SF & 18 &  105 &  15 &   34 &   3 &   8 & ⋯ &  4 &   2 &   1 &   9 & 0 &   36 &  0 & 0 & 0 &  0\\\\\n\t NBA & Tremont Waters   & BOS & PG & 11 &  120 &  14 &   49 &   4 &  24 & ⋯ & 10 &  15 &   2 &  13 & 0 &   40 &  0 & 0 & 0 &  1\\\\\n\t NBA & Paul Watson      & TOR & SF & 10 &   86 &  10 &   26 &   4 &  12 & ⋯ &  4 &   3 &   1 &   5 & 0 &   31 &  0 & 0 & 0 &  0\\\\\n\t NBA & Qu Weatherspoon  & SAN & SG & 10 &   77 &   5 &   17 &   1 &   5 & ⋯ &  3 &   5 &   1 &   8 & 0 &   12 &  0 & 0 & 0 &  0\\\\\n\t NBA & Russel Westbrook & HOU & PG & 57 & 2048 & 604 & 1281 &  55 & 213 & ⋯ & 95 & 255 &  20 & 199 & 2 & 1553 & 10 & 0 & 0 & 57\\\\\n\t NBA & Coby White       & CHI & PG & 65 & 1678 & 312 &  792 & 133 & 376 & ⋯ & 49 & 109 &   6 & 117 & 1 &  859 &  0 & 0 & 0 &  2\\\\\n\t NBA & Derrick White    & SAN & PG & 68 & 1680 & 253 &  552 &  79 & 216 & ⋯ & 45 &  89 &  58 & 152 & 0 &  765 &  0 & 0 & 0 & 20\\\\\n\t NBA & Hassa Whiteside  & POR & C  & 67 & 2008 & 436 &  702 &   4 &   7 & ⋯ & 26 & 120 & 196 & 196 & 1 & 1040 &  7 & 0 & 0 & 61\\\\\n\t NBA & Andrew Wiggins   & GSW & SF & 54 & 1857 & 437 &  978 & 111 & 334 & ⋯ & 45 & 131 &  52 & 127 & 1 & 1175 &  1 & 0 & 0 & 54\\\\\n\t NBA & Grant Williams   & BOS & PF & 69 & 1043 &  87 &  211 &  24 &  96 & ⋯ & 31 &  50 &  35 & 163 & 2 &  237 &  0 & 0 & 0 &  5\\\\\n\t NBA & Johnath Williams & WAS & PF & 14 &  179 &  19 &   34 &   0 &   2 & ⋯ &  1 &   5 &   8 &  16 & 0 &   45 &  0 & 0 & 0 &  6\\\\\n\t NBA & Kenric Williams  & NOR & SF & 39 &  827 &  51 &  147 &  25 &  97 & ⋯ & 27 &  22 &  21 &  88 & 0 &  136 &  1 & 0 & 0 & 18\\\\\n\t NBA & Lou Williams     & LAC & SG & 65 & 1866 & 391 &  936 & 111 & 315 & ⋯ & 43 & 182 &  12 &  80 & 0 & 1185 &  3 & 0 & 0 &  8\\\\\n\t NBA & Marvin Williams  & MIL & PF & 58 & 1128 & 119 &  267 &  56 & 156 & ⋯ & 35 &  33 &  31 & 103 & 1 &  343 &  0 & 0 & 0 &  1\\\\\n\t NBA & Robert Williams  & BOS & PF & 28 &  389 &  64 &   88 &   0 &   0 & ⋯ & 23 &  20 &  35 &  48 & 0 &  150 &  0 & 0 & 0 &  1\\\\\n\t NBA & N Williams-goss  & UTA & PG &  9 &   50 &   5 &   16 &   2 &   7 & ⋯ &  3 &   3 &   1 &   6 & 0 &   14 &  0 & 0 & 0 &  0\\\\\n\t NBA & Zion Williamson  & NOR & PF & 24 &  667 & 210 &  360 &   6 &  14 & ⋯ & 16 &  59 &   9 &  42 & 0 &  540 &  0 & 0 & 0 & 24\\\\\n\t NBA & D.j. Wilson      & MIL & PF & 36 &  363 &  52 &  132 &  18 &  73 & ⋯ &  3 &  19 &   5 &  33 & 0 &  133 &  0 & 0 & 0 &  1\\\\\n\t NBA & Justise Winslow  & MIA & SF & 11 &  353 &  50 &  129 &   6 &  27 & ⋯ &  8 &  24 &   5 &  38 & 0 &  124 &  0 & 0 & 0 &  5\\\\\n\t NBA & Christian Wood   & DET & PF & 62 & 1319 & 288 &  508 &  54 & 140 & ⋯ & 34 &  84 &  55 &  98 & 0 &  811 &  1 & 0 & 0 & 12\\\\\n\t NBA & Delon Wright     & DAL & SG & 73 & 1570 & 190 &  412 &  47 & 128 & ⋯ & 84 &  73 &  22 &  93 & 0 &  504 &  0 & 0 & 0 &  6\\\\\n\t NBA & Wright-foreman   & UTA & PG &  4 &   45 &   7 &   20 &   2 &  10 & ⋯ &  2 &   3 &   0 &   5 & 0 &   19 &  0 & 0 & 0 &  0\\\\\n\t NBA & Thaddeus Young   & CHI & PF & 64 & 1594 & 269 &  602 &  79 & 223 & ⋯ & 92 & 102 &  23 & 134 & 1 &  659 &  4 & 0 & 0 & 16\\\\\n\t NBA & Trae Young       & ATL & PG & 60 & 2119 & 546 & 1249 & 205 & 568 & ⋯ & 65 & 289 &   8 & 104 & 0 & 1778 &  7 & 0 & 0 & 60\\\\\n\t NBA & Cody Zeller      & CHA & C  & 58 & 1343 & 251 &  480 &  18 &  75 & ⋯ & 40 &  75 &  27 & 140 & 1 &  642 &  0 & 0 & 0 & 39\\\\\n\t NBA & Tyler Zeller     & SAN & C  &  1 &    4 &   1 &    4 &   0 &   0 & ⋯ &  0 &   0 &   0 &   0 & 0 &    2 &  0 & 0 & 0 &  0\\\\\n\t NBA & Ante Zizic       & CLE & C  & 22 &  222 &  41 &   72 &   0 &   0 & ⋯ &  7 &  10 &   5 &  27 & 0 &   96 &  0 & 0 & 0 &  0\\\\\n\t NBA & Ivica Zubac      & LAC & C  & 72 & 1326 & 236 &  387 &   0 &   2 & ⋯ & 16 &  61 &  66 & 168 & 2 &  596 &  1 & 0 & 0 & 70\\\\\n\\end{tabular}\n",
            "text/markdown": "\nA data.frame: 529 × 25\n\n| League &lt;fct&gt; | Name &lt;chr&gt; | Team &lt;fct&gt; | Position &lt;fct&gt; | GamesPlayed &lt;int&gt; | TotalMinutesPlayed &lt;int&gt; | FieldGoalsMade &lt;int&gt; | FieldGoalsAttempted &lt;int&gt; | ThreesMade &lt;int&gt; | ThreesAttempted &lt;int&gt; | ⋯ ⋯ | Steals &lt;int&gt; | Turnovers &lt;int&gt; | Blocks &lt;int&gt; | PersonalFouls &lt;int&gt; | Disqualifications &lt;int&gt; | TotalPoints &lt;int&gt; | Technicals &lt;int&gt; | Ejections &lt;int&gt; | FlagrantFouls &lt;int&gt; | GamesStarted &lt;int&gt; |\n|---|---|---|---|---|---|---|---|---|---|---|---|---|---|---|---|---|---|---|---|---|\n| NBA | Steven Adams     | OKL | C  | 63 | 1679 | 283 |  478 |   1 |   3 | ⋯ | 51 |  95 | 68 | 122 | 1 |  684 | 2 | 0 | 0 | 63 |\n| NBA | Bam Adebayo      | MIA | PF | 72 | 2415 | 440 |  791 |   2 |  14 | ⋯ | 82 | 203 | 93 | 182 | 2 | 1146 | 0 | 0 | 0 | 72 |\n| NBA | Lamarcu Aldridge | SAN | C  | 53 | 1757 | 391 |  794 |  61 | 157 | ⋯ | 36 |  74 | 87 | 128 | 1 | 1001 | 0 | 0 | 0 | 53 |\n| NBA | Kyle Alexander   | MIA | PF |  2 |   13 |   1 |    2 |   0 |   0 | ⋯ |  0 |   1 |  0 |   1 | 0 |    2 | 0 | 0 | 0 |  0 |\n| NBA | Alexander-walke  | NOR | SG | 47 |  590 |  98 |  266 |  46 | 133 | ⋯ | 17 |  54 |  8 |  57 | 0 |  267 | 0 | 0 | 0 |  1 |\n| NBA | Grayson Allen    | MEM | SG | 38 |  721 | 117 |  251 |  57 | 141 | ⋯ | 12 |  33 |  2 |  53 | 0 |  330 | 1 | 0 | 0 |  0 |\n| NBA | Jarrett Allen    | BRO | PF | 70 | 1854 | 302 |  465 |   0 |   6 | ⋯ | 40 |  77 | 92 | 162 | 2 |  775 | 1 | 0 | 0 | 64 |\n| NBA | Kadeem Allen     | NYK | SG | 10 |  118 |  19 |   44 |   5 |  16 | ⋯ |  5 |   8 |  2 |   7 | 0 |   50 | 0 | 0 | 0 |  0 |\n| NBA | Al-farouq Aminu  | ORL | SF | 18 |  381 |  25 |   86 |   9 |  36 | ⋯ | 18 |  17 |  8 |  27 | 0 |   78 | 0 | 0 | 0 |  2 |\n| NBA | Justin Anderson  | BRO | SF | 10 |  108 |  10 |   38 |   6 |  29 | ⋯ |  0 |   4 |  6 |  13 | 0 |   28 | 0 | 0 | 0 |  1 |\n| NBA | Kyle Anderson    | MEM | PF | 67 | 1330 | 157 |  331 |  24 |  85 | ⋯ | 52 |  66 | 37 | 111 | 0 |  390 | 0 | 0 | 0 | 28 |\n| NBA | Ryan Anderson    | HOU | PF |  2 |   14 |   2 |    7 |   1 |   5 | ⋯ |  1 |   1 |  0 |   1 | 0 |    5 | 0 | 0 | 0 |  0 |\n| NBA | G Antetokounmpo  | MIL | PF | 63 | 1914 | 685 | 1238 |  89 | 293 | ⋯ | 61 | 230 | 66 | 195 | 5 | 1857 | 3 | 0 | 0 | 63 |\n| NBA | K Antetokounmpo  | LAL | PF |  4 |   19 |   3 |    3 |   0 |   0 | ⋯ |  0 |   1 |  0 |   2 | 0 |    7 | 0 | 0 | 0 |  0 |\n| NBA | T Antetokounmpo  | MIL | SF | 20 |  129 |  24 |   48 |   0 |  10 | ⋯ |  7 |  12 |  2 |  18 | 0 |   55 | 0 | 0 | 0 |  2 |\n| NBA | Carmelo Anthony  | POR | PF | 58 | 1904 | 336 |  782 |  87 | 226 | ⋯ | 49 | 100 | 27 | 171 | 0 |  895 | 6 | 0 | 0 | 58 |\n| NBA | Og Anunoby       | TOR | SF | 69 | 2069 | 286 |  566 |  89 | 228 | ⋯ | 97 |  79 | 45 | 167 | 4 |  733 | 0 | 0 | 0 | 68 |\n| NBA | Rya Arcidiacono  | CHI | PG | 58 |  930 |  90 |  220 |  54 | 138 | ⋯ | 27 |  37 |  3 |  96 | 1 |  261 | 1 | 0 | 0 |  4 |\n| NBA | Trevor Ariza     | SAC | SF | 53 | 1489 | 142 |  324 |  77 | 207 | ⋯ | 68 |  56 | 16 | 111 | 0 |  423 | 2 | 0 | 0 | 21 |\n| NBA | D.j. Augustin    | ORL | PG | 57 | 1418 | 184 |  461 |  70 | 201 | ⋯ | 33 |  86 |  1 |  72 | 0 |  599 | 1 | 0 | 0 | 13 |\n| NBA | Deandre Ayton    | PHO | C  | 38 | 1235 | 310 |  568 |   3 |  13 | ⋯ | 25 |  80 | 58 | 117 | 0 |  690 | 2 | 0 | 0 | 32 |\n| NBA | Dwayne Bacon     | CHA | SG | 39 |  689 |  85 |  244 |  19 |  67 | ⋯ | 23 |  37 |  2 |  52 | 0 |  224 | 0 | 0 | 0 | 11 |\n| NBA | Marvin Bagley    | SAC | PF | 13 |  333 |  78 |  167 |   4 |  22 | ⋯ |  6 |  18 | 12 |  43 | 0 |  185 | 1 | 0 | 0 |  6 |\n| NBA | Lonzo Ball       | NOR | PG | 63 | 2023 | 277 |  687 | 148 | 395 | ⋯ | 89 | 192 | 37 | 128 | 0 |  745 | 0 | 0 | 0 | 54 |\n| NBA | Mohamed Bamba    | ORL | C  | 62 |  879 | 132 |  286 |  37 | 107 | ⋯ | 23 |  42 | 85 | 116 | 2 |  332 | 1 | 0 | 0 |  0 |\n| NBA | J.j. Barea       | DAL | PG | 29 |  453 |  85 |  207 |  32 |  85 | ⋯ |  5 |  38 |  2 |  27 | 0 |  222 | 0 | 0 | 0 |  6 |\n| NBA | Harrison Barnes  | SAC | SF | 72 | 2481 | 365 |  792 | 102 | 268 | ⋯ | 43 |  88 | 12 |  93 | 0 | 1046 | 0 | 0 | 0 | 72 |\n| NBA | Rj Barrett       | NYK | SF | 56 | 1705 | 292 |  726 |  63 | 197 | ⋯ | 55 | 126 | 17 | 122 | 0 |  803 | 0 | 0 | 0 | 55 |\n| NBA | Will Barton      | DEN | SF | 58 | 1918 | 332 |  738 | 108 | 288 | ⋯ | 62 |  89 | 29 | 121 | 0 |  876 | 2 | 0 | 0 | 58 |\n| NBA | Keit Bates-diop  | DEN | SF | 44 |  743 | 100 |  234 |  34 | 103 | ⋯ | 19 |  17 | 24 |  43 | 0 |  288 | 0 | 0 | 0 |  0 |\n| ⋮ | ⋮ | ⋮ | ⋮ | ⋮ | ⋮ | ⋮ | ⋮ | ⋮ | ⋮ | ⋱ | ⋮ | ⋮ | ⋮ | ⋮ | ⋮ | ⋮ | ⋮ | ⋮ | ⋮ | ⋮ |\n| NBA | T.j. Warren      | IND | SF | 67 | 2204 | 534 |  997 |  91 | 226 | ⋯ | 78 |  86 |  34 | 187 | 2 | 1326 |  7 | 0 | 0 | 67 |\n| NBA | Pj Washington    | CHA | PF | 58 | 1758 | 268 |  589 |  86 | 230 | ⋯ | 52 |  93 |  45 | 158 | 0 |  710 |  0 | 0 | 0 | 57 |\n| NBA | Yuta Watanabe    | MEM | SF | 18 |  105 |  15 |   34 |   3 |   8 | ⋯ |  4 |   2 |   1 |   9 | 0 |   36 |  0 | 0 | 0 |  0 |\n| NBA | Tremont Waters   | BOS | PG | 11 |  120 |  14 |   49 |   4 |  24 | ⋯ | 10 |  15 |   2 |  13 | 0 |   40 |  0 | 0 | 0 |  1 |\n| NBA | Paul Watson      | TOR | SF | 10 |   86 |  10 |   26 |   4 |  12 | ⋯ |  4 |   3 |   1 |   5 | 0 |   31 |  0 | 0 | 0 |  0 |\n| NBA | Qu Weatherspoon  | SAN | SG | 10 |   77 |   5 |   17 |   1 |   5 | ⋯ |  3 |   5 |   1 |   8 | 0 |   12 |  0 | 0 | 0 |  0 |\n| NBA | Russel Westbrook | HOU | PG | 57 | 2048 | 604 | 1281 |  55 | 213 | ⋯ | 95 | 255 |  20 | 199 | 2 | 1553 | 10 | 0 | 0 | 57 |\n| NBA | Coby White       | CHI | PG | 65 | 1678 | 312 |  792 | 133 | 376 | ⋯ | 49 | 109 |   6 | 117 | 1 |  859 |  0 | 0 | 0 |  2 |\n| NBA | Derrick White    | SAN | PG | 68 | 1680 | 253 |  552 |  79 | 216 | ⋯ | 45 |  89 |  58 | 152 | 0 |  765 |  0 | 0 | 0 | 20 |\n| NBA | Hassa Whiteside  | POR | C  | 67 | 2008 | 436 |  702 |   4 |   7 | ⋯ | 26 | 120 | 196 | 196 | 1 | 1040 |  7 | 0 | 0 | 61 |\n| NBA | Andrew Wiggins   | GSW | SF | 54 | 1857 | 437 |  978 | 111 | 334 | ⋯ | 45 | 131 |  52 | 127 | 1 | 1175 |  1 | 0 | 0 | 54 |\n| NBA | Grant Williams   | BOS | PF | 69 | 1043 |  87 |  211 |  24 |  96 | ⋯ | 31 |  50 |  35 | 163 | 2 |  237 |  0 | 0 | 0 |  5 |\n| NBA | Johnath Williams | WAS | PF | 14 |  179 |  19 |   34 |   0 |   2 | ⋯ |  1 |   5 |   8 |  16 | 0 |   45 |  0 | 0 | 0 |  6 |\n| NBA | Kenric Williams  | NOR | SF | 39 |  827 |  51 |  147 |  25 |  97 | ⋯ | 27 |  22 |  21 |  88 | 0 |  136 |  1 | 0 | 0 | 18 |\n| NBA | Lou Williams     | LAC | SG | 65 | 1866 | 391 |  936 | 111 | 315 | ⋯ | 43 | 182 |  12 |  80 | 0 | 1185 |  3 | 0 | 0 |  8 |\n| NBA | Marvin Williams  | MIL | PF | 58 | 1128 | 119 |  267 |  56 | 156 | ⋯ | 35 |  33 |  31 | 103 | 1 |  343 |  0 | 0 | 0 |  1 |\n| NBA | Robert Williams  | BOS | PF | 28 |  389 |  64 |   88 |   0 |   0 | ⋯ | 23 |  20 |  35 |  48 | 0 |  150 |  0 | 0 | 0 |  1 |\n| NBA | N Williams-goss  | UTA | PG |  9 |   50 |   5 |   16 |   2 |   7 | ⋯ |  3 |   3 |   1 |   6 | 0 |   14 |  0 | 0 | 0 |  0 |\n| NBA | Zion Williamson  | NOR | PF | 24 |  667 | 210 |  360 |   6 |  14 | ⋯ | 16 |  59 |   9 |  42 | 0 |  540 |  0 | 0 | 0 | 24 |\n| NBA | D.j. Wilson      | MIL | PF | 36 |  363 |  52 |  132 |  18 |  73 | ⋯ |  3 |  19 |   5 |  33 | 0 |  133 |  0 | 0 | 0 |  1 |\n| NBA | Justise Winslow  | MIA | SF | 11 |  353 |  50 |  129 |   6 |  27 | ⋯ |  8 |  24 |   5 |  38 | 0 |  124 |  0 | 0 | 0 |  5 |\n| NBA | Christian Wood   | DET | PF | 62 | 1319 | 288 |  508 |  54 | 140 | ⋯ | 34 |  84 |  55 |  98 | 0 |  811 |  1 | 0 | 0 | 12 |\n| NBA | Delon Wright     | DAL | SG | 73 | 1570 | 190 |  412 |  47 | 128 | ⋯ | 84 |  73 |  22 |  93 | 0 |  504 |  0 | 0 | 0 |  6 |\n| NBA | Wright-foreman   | UTA | PG |  4 |   45 |   7 |   20 |   2 |  10 | ⋯ |  2 |   3 |   0 |   5 | 0 |   19 |  0 | 0 | 0 |  0 |\n| NBA | Thaddeus Young   | CHI | PF | 64 | 1594 | 269 |  602 |  79 | 223 | ⋯ | 92 | 102 |  23 | 134 | 1 |  659 |  4 | 0 | 0 | 16 |\n| NBA | Trae Young       | ATL | PG | 60 | 2119 | 546 | 1249 | 205 | 568 | ⋯ | 65 | 289 |   8 | 104 | 0 | 1778 |  7 | 0 | 0 | 60 |\n| NBA | Cody Zeller      | CHA | C  | 58 | 1343 | 251 |  480 |  18 |  75 | ⋯ | 40 |  75 |  27 | 140 | 1 |  642 |  0 | 0 | 0 | 39 |\n| NBA | Tyler Zeller     | SAN | C  |  1 |    4 |   1 |    4 |   0 |   0 | ⋯ |  0 |   0 |   0 |   0 | 0 |    2 |  0 | 0 | 0 |  0 |\n| NBA | Ante Zizic       | CLE | C  | 22 |  222 |  41 |   72 |   0 |   0 | ⋯ |  7 |  10 |   5 |  27 | 0 |   96 |  0 | 0 | 0 |  0 |\n| NBA | Ivica Zubac      | LAC | C  | 72 | 1326 | 236 |  387 |   0 |   2 | ⋯ | 16 |  61 |  66 | 168 | 2 |  596 |  1 | 0 | 0 | 70 |\n\n",
            "text/html": [
              "<table>\n",
              "<caption>A data.frame: 529 × 25</caption>\n",
              "<thead>\n",
              "\t<tr><th scope=col>League</th><th scope=col>Name</th><th scope=col>Team</th><th scope=col>Position</th><th scope=col>GamesPlayed</th><th scope=col>TotalMinutesPlayed</th><th scope=col>FieldGoalsMade</th><th scope=col>FieldGoalsAttempted</th><th scope=col>ThreesMade</th><th scope=col>ThreesAttempted</th><th scope=col>⋯</th><th scope=col>Steals</th><th scope=col>Turnovers</th><th scope=col>Blocks</th><th scope=col>PersonalFouls</th><th scope=col>Disqualifications</th><th scope=col>TotalPoints</th><th scope=col>Technicals</th><th scope=col>Ejections</th><th scope=col>FlagrantFouls</th><th scope=col>GamesStarted</th></tr>\n",
              "\t<tr><th scope=col>&lt;fct&gt;</th><th scope=col>&lt;chr&gt;</th><th scope=col>&lt;fct&gt;</th><th scope=col>&lt;fct&gt;</th><th scope=col>&lt;int&gt;</th><th scope=col>&lt;int&gt;</th><th scope=col>&lt;int&gt;</th><th scope=col>&lt;int&gt;</th><th scope=col>&lt;int&gt;</th><th scope=col>&lt;int&gt;</th><th scope=col>⋯</th><th scope=col>&lt;int&gt;</th><th scope=col>&lt;int&gt;</th><th scope=col>&lt;int&gt;</th><th scope=col>&lt;int&gt;</th><th scope=col>&lt;int&gt;</th><th scope=col>&lt;int&gt;</th><th scope=col>&lt;int&gt;</th><th scope=col>&lt;int&gt;</th><th scope=col>&lt;int&gt;</th><th scope=col>&lt;int&gt;</th></tr>\n",
              "</thead>\n",
              "<tbody>\n",
              "\t<tr><td>NBA</td><td>Steven Adams    </td><td>OKL</td><td>C </td><td>63</td><td>1679</td><td>283</td><td> 478</td><td>  1</td><td>  3</td><td>⋯</td><td>51</td><td> 95</td><td>68</td><td>122</td><td>1</td><td> 684</td><td>2</td><td>0</td><td>0</td><td>63</td></tr>\n",
              "\t<tr><td>NBA</td><td>Bam Adebayo     </td><td>MIA</td><td>PF</td><td>72</td><td>2415</td><td>440</td><td> 791</td><td>  2</td><td> 14</td><td>⋯</td><td>82</td><td>203</td><td>93</td><td>182</td><td>2</td><td>1146</td><td>0</td><td>0</td><td>0</td><td>72</td></tr>\n",
              "\t<tr><td>NBA</td><td>Lamarcu Aldridge</td><td>SAN</td><td>C </td><td>53</td><td>1757</td><td>391</td><td> 794</td><td> 61</td><td>157</td><td>⋯</td><td>36</td><td> 74</td><td>87</td><td>128</td><td>1</td><td>1001</td><td>0</td><td>0</td><td>0</td><td>53</td></tr>\n",
              "\t<tr><td>NBA</td><td>Kyle Alexander  </td><td>MIA</td><td>PF</td><td> 2</td><td>  13</td><td>  1</td><td>   2</td><td>  0</td><td>  0</td><td>⋯</td><td> 0</td><td>  1</td><td> 0</td><td>  1</td><td>0</td><td>   2</td><td>0</td><td>0</td><td>0</td><td> 0</td></tr>\n",
              "\t<tr><td>NBA</td><td>Alexander-walke </td><td>NOR</td><td>SG</td><td>47</td><td> 590</td><td> 98</td><td> 266</td><td> 46</td><td>133</td><td>⋯</td><td>17</td><td> 54</td><td> 8</td><td> 57</td><td>0</td><td> 267</td><td>0</td><td>0</td><td>0</td><td> 1</td></tr>\n",
              "\t<tr><td>NBA</td><td>Grayson Allen   </td><td>MEM</td><td>SG</td><td>38</td><td> 721</td><td>117</td><td> 251</td><td> 57</td><td>141</td><td>⋯</td><td>12</td><td> 33</td><td> 2</td><td> 53</td><td>0</td><td> 330</td><td>1</td><td>0</td><td>0</td><td> 0</td></tr>\n",
              "\t<tr><td>NBA</td><td>Jarrett Allen   </td><td>BRO</td><td>PF</td><td>70</td><td>1854</td><td>302</td><td> 465</td><td>  0</td><td>  6</td><td>⋯</td><td>40</td><td> 77</td><td>92</td><td>162</td><td>2</td><td> 775</td><td>1</td><td>0</td><td>0</td><td>64</td></tr>\n",
              "\t<tr><td>NBA</td><td>Kadeem Allen    </td><td>NYK</td><td>SG</td><td>10</td><td> 118</td><td> 19</td><td>  44</td><td>  5</td><td> 16</td><td>⋯</td><td> 5</td><td>  8</td><td> 2</td><td>  7</td><td>0</td><td>  50</td><td>0</td><td>0</td><td>0</td><td> 0</td></tr>\n",
              "\t<tr><td>NBA</td><td>Al-farouq Aminu </td><td>ORL</td><td>SF</td><td>18</td><td> 381</td><td> 25</td><td>  86</td><td>  9</td><td> 36</td><td>⋯</td><td>18</td><td> 17</td><td> 8</td><td> 27</td><td>0</td><td>  78</td><td>0</td><td>0</td><td>0</td><td> 2</td></tr>\n",
              "\t<tr><td>NBA</td><td>Justin Anderson </td><td>BRO</td><td>SF</td><td>10</td><td> 108</td><td> 10</td><td>  38</td><td>  6</td><td> 29</td><td>⋯</td><td> 0</td><td>  4</td><td> 6</td><td> 13</td><td>0</td><td>  28</td><td>0</td><td>0</td><td>0</td><td> 1</td></tr>\n",
              "\t<tr><td>NBA</td><td>Kyle Anderson   </td><td>MEM</td><td>PF</td><td>67</td><td>1330</td><td>157</td><td> 331</td><td> 24</td><td> 85</td><td>⋯</td><td>52</td><td> 66</td><td>37</td><td>111</td><td>0</td><td> 390</td><td>0</td><td>0</td><td>0</td><td>28</td></tr>\n",
              "\t<tr><td>NBA</td><td>Ryan Anderson   </td><td>HOU</td><td>PF</td><td> 2</td><td>  14</td><td>  2</td><td>   7</td><td>  1</td><td>  5</td><td>⋯</td><td> 1</td><td>  1</td><td> 0</td><td>  1</td><td>0</td><td>   5</td><td>0</td><td>0</td><td>0</td><td> 0</td></tr>\n",
              "\t<tr><td>NBA</td><td>G Antetokounmpo </td><td>MIL</td><td>PF</td><td>63</td><td>1914</td><td>685</td><td>1238</td><td> 89</td><td>293</td><td>⋯</td><td>61</td><td>230</td><td>66</td><td>195</td><td>5</td><td>1857</td><td>3</td><td>0</td><td>0</td><td>63</td></tr>\n",
              "\t<tr><td>NBA</td><td>K Antetokounmpo </td><td>LAL</td><td>PF</td><td> 4</td><td>  19</td><td>  3</td><td>   3</td><td>  0</td><td>  0</td><td>⋯</td><td> 0</td><td>  1</td><td> 0</td><td>  2</td><td>0</td><td>   7</td><td>0</td><td>0</td><td>0</td><td> 0</td></tr>\n",
              "\t<tr><td>NBA</td><td>T Antetokounmpo </td><td>MIL</td><td>SF</td><td>20</td><td> 129</td><td> 24</td><td>  48</td><td>  0</td><td> 10</td><td>⋯</td><td> 7</td><td> 12</td><td> 2</td><td> 18</td><td>0</td><td>  55</td><td>0</td><td>0</td><td>0</td><td> 2</td></tr>\n",
              "\t<tr><td>NBA</td><td>Carmelo Anthony </td><td>POR</td><td>PF</td><td>58</td><td>1904</td><td>336</td><td> 782</td><td> 87</td><td>226</td><td>⋯</td><td>49</td><td>100</td><td>27</td><td>171</td><td>0</td><td> 895</td><td>6</td><td>0</td><td>0</td><td>58</td></tr>\n",
              "\t<tr><td>NBA</td><td>Og Anunoby      </td><td>TOR</td><td>SF</td><td>69</td><td>2069</td><td>286</td><td> 566</td><td> 89</td><td>228</td><td>⋯</td><td>97</td><td> 79</td><td>45</td><td>167</td><td>4</td><td> 733</td><td>0</td><td>0</td><td>0</td><td>68</td></tr>\n",
              "\t<tr><td>NBA</td><td>Rya Arcidiacono </td><td>CHI</td><td>PG</td><td>58</td><td> 930</td><td> 90</td><td> 220</td><td> 54</td><td>138</td><td>⋯</td><td>27</td><td> 37</td><td> 3</td><td> 96</td><td>1</td><td> 261</td><td>1</td><td>0</td><td>0</td><td> 4</td></tr>\n",
              "\t<tr><td>NBA</td><td>Trevor Ariza    </td><td>SAC</td><td>SF</td><td>53</td><td>1489</td><td>142</td><td> 324</td><td> 77</td><td>207</td><td>⋯</td><td>68</td><td> 56</td><td>16</td><td>111</td><td>0</td><td> 423</td><td>2</td><td>0</td><td>0</td><td>21</td></tr>\n",
              "\t<tr><td>NBA</td><td>D.j. Augustin   </td><td>ORL</td><td>PG</td><td>57</td><td>1418</td><td>184</td><td> 461</td><td> 70</td><td>201</td><td>⋯</td><td>33</td><td> 86</td><td> 1</td><td> 72</td><td>0</td><td> 599</td><td>1</td><td>0</td><td>0</td><td>13</td></tr>\n",
              "\t<tr><td>NBA</td><td>Deandre Ayton   </td><td>PHO</td><td>C </td><td>38</td><td>1235</td><td>310</td><td> 568</td><td>  3</td><td> 13</td><td>⋯</td><td>25</td><td> 80</td><td>58</td><td>117</td><td>0</td><td> 690</td><td>2</td><td>0</td><td>0</td><td>32</td></tr>\n",
              "\t<tr><td>NBA</td><td>Dwayne Bacon    </td><td>CHA</td><td>SG</td><td>39</td><td> 689</td><td> 85</td><td> 244</td><td> 19</td><td> 67</td><td>⋯</td><td>23</td><td> 37</td><td> 2</td><td> 52</td><td>0</td><td> 224</td><td>0</td><td>0</td><td>0</td><td>11</td></tr>\n",
              "\t<tr><td>NBA</td><td>Marvin Bagley   </td><td>SAC</td><td>PF</td><td>13</td><td> 333</td><td> 78</td><td> 167</td><td>  4</td><td> 22</td><td>⋯</td><td> 6</td><td> 18</td><td>12</td><td> 43</td><td>0</td><td> 185</td><td>1</td><td>0</td><td>0</td><td> 6</td></tr>\n",
              "\t<tr><td>NBA</td><td>Lonzo Ball      </td><td>NOR</td><td>PG</td><td>63</td><td>2023</td><td>277</td><td> 687</td><td>148</td><td>395</td><td>⋯</td><td>89</td><td>192</td><td>37</td><td>128</td><td>0</td><td> 745</td><td>0</td><td>0</td><td>0</td><td>54</td></tr>\n",
              "\t<tr><td>NBA</td><td>Mohamed Bamba   </td><td>ORL</td><td>C </td><td>62</td><td> 879</td><td>132</td><td> 286</td><td> 37</td><td>107</td><td>⋯</td><td>23</td><td> 42</td><td>85</td><td>116</td><td>2</td><td> 332</td><td>1</td><td>0</td><td>0</td><td> 0</td></tr>\n",
              "\t<tr><td>NBA</td><td>J.j. Barea      </td><td>DAL</td><td>PG</td><td>29</td><td> 453</td><td> 85</td><td> 207</td><td> 32</td><td> 85</td><td>⋯</td><td> 5</td><td> 38</td><td> 2</td><td> 27</td><td>0</td><td> 222</td><td>0</td><td>0</td><td>0</td><td> 6</td></tr>\n",
              "\t<tr><td>NBA</td><td>Harrison Barnes </td><td>SAC</td><td>SF</td><td>72</td><td>2481</td><td>365</td><td> 792</td><td>102</td><td>268</td><td>⋯</td><td>43</td><td> 88</td><td>12</td><td> 93</td><td>0</td><td>1046</td><td>0</td><td>0</td><td>0</td><td>72</td></tr>\n",
              "\t<tr><td>NBA</td><td>Rj Barrett      </td><td>NYK</td><td>SF</td><td>56</td><td>1705</td><td>292</td><td> 726</td><td> 63</td><td>197</td><td>⋯</td><td>55</td><td>126</td><td>17</td><td>122</td><td>0</td><td> 803</td><td>0</td><td>0</td><td>0</td><td>55</td></tr>\n",
              "\t<tr><td>NBA</td><td>Will Barton     </td><td>DEN</td><td>SF</td><td>58</td><td>1918</td><td>332</td><td> 738</td><td>108</td><td>288</td><td>⋯</td><td>62</td><td> 89</td><td>29</td><td>121</td><td>0</td><td> 876</td><td>2</td><td>0</td><td>0</td><td>58</td></tr>\n",
              "\t<tr><td>NBA</td><td>Keit Bates-diop </td><td>DEN</td><td>SF</td><td>44</td><td> 743</td><td>100</td><td> 234</td><td> 34</td><td>103</td><td>⋯</td><td>19</td><td> 17</td><td>24</td><td> 43</td><td>0</td><td> 288</td><td>0</td><td>0</td><td>0</td><td> 0</td></tr>\n",
              "\t<tr><td>⋮</td><td>⋮</td><td>⋮</td><td>⋮</td><td>⋮</td><td>⋮</td><td>⋮</td><td>⋮</td><td>⋮</td><td>⋮</td><td>⋱</td><td>⋮</td><td>⋮</td><td>⋮</td><td>⋮</td><td>⋮</td><td>⋮</td><td>⋮</td><td>⋮</td><td>⋮</td><td>⋮</td></tr>\n",
              "\t<tr><td>NBA</td><td>T.j. Warren     </td><td>IND</td><td>SF</td><td>67</td><td>2204</td><td>534</td><td> 997</td><td> 91</td><td>226</td><td>⋯</td><td>78</td><td> 86</td><td> 34</td><td>187</td><td>2</td><td>1326</td><td> 7</td><td>0</td><td>0</td><td>67</td></tr>\n",
              "\t<tr><td>NBA</td><td>Pj Washington   </td><td>CHA</td><td>PF</td><td>58</td><td>1758</td><td>268</td><td> 589</td><td> 86</td><td>230</td><td>⋯</td><td>52</td><td> 93</td><td> 45</td><td>158</td><td>0</td><td> 710</td><td> 0</td><td>0</td><td>0</td><td>57</td></tr>\n",
              "\t<tr><td>NBA</td><td>Yuta Watanabe   </td><td>MEM</td><td>SF</td><td>18</td><td> 105</td><td> 15</td><td>  34</td><td>  3</td><td>  8</td><td>⋯</td><td> 4</td><td>  2</td><td>  1</td><td>  9</td><td>0</td><td>  36</td><td> 0</td><td>0</td><td>0</td><td> 0</td></tr>\n",
              "\t<tr><td>NBA</td><td>Tremont Waters  </td><td>BOS</td><td>PG</td><td>11</td><td> 120</td><td> 14</td><td>  49</td><td>  4</td><td> 24</td><td>⋯</td><td>10</td><td> 15</td><td>  2</td><td> 13</td><td>0</td><td>  40</td><td> 0</td><td>0</td><td>0</td><td> 1</td></tr>\n",
              "\t<tr><td>NBA</td><td>Paul Watson     </td><td>TOR</td><td>SF</td><td>10</td><td>  86</td><td> 10</td><td>  26</td><td>  4</td><td> 12</td><td>⋯</td><td> 4</td><td>  3</td><td>  1</td><td>  5</td><td>0</td><td>  31</td><td> 0</td><td>0</td><td>0</td><td> 0</td></tr>\n",
              "\t<tr><td>NBA</td><td>Qu Weatherspoon </td><td>SAN</td><td>SG</td><td>10</td><td>  77</td><td>  5</td><td>  17</td><td>  1</td><td>  5</td><td>⋯</td><td> 3</td><td>  5</td><td>  1</td><td>  8</td><td>0</td><td>  12</td><td> 0</td><td>0</td><td>0</td><td> 0</td></tr>\n",
              "\t<tr><td>NBA</td><td>Russel Westbrook</td><td>HOU</td><td>PG</td><td>57</td><td>2048</td><td>604</td><td>1281</td><td> 55</td><td>213</td><td>⋯</td><td>95</td><td>255</td><td> 20</td><td>199</td><td>2</td><td>1553</td><td>10</td><td>0</td><td>0</td><td>57</td></tr>\n",
              "\t<tr><td>NBA</td><td>Coby White      </td><td>CHI</td><td>PG</td><td>65</td><td>1678</td><td>312</td><td> 792</td><td>133</td><td>376</td><td>⋯</td><td>49</td><td>109</td><td>  6</td><td>117</td><td>1</td><td> 859</td><td> 0</td><td>0</td><td>0</td><td> 2</td></tr>\n",
              "\t<tr><td>NBA</td><td>Derrick White   </td><td>SAN</td><td>PG</td><td>68</td><td>1680</td><td>253</td><td> 552</td><td> 79</td><td>216</td><td>⋯</td><td>45</td><td> 89</td><td> 58</td><td>152</td><td>0</td><td> 765</td><td> 0</td><td>0</td><td>0</td><td>20</td></tr>\n",
              "\t<tr><td>NBA</td><td>Hassa Whiteside </td><td>POR</td><td>C </td><td>67</td><td>2008</td><td>436</td><td> 702</td><td>  4</td><td>  7</td><td>⋯</td><td>26</td><td>120</td><td>196</td><td>196</td><td>1</td><td>1040</td><td> 7</td><td>0</td><td>0</td><td>61</td></tr>\n",
              "\t<tr><td>NBA</td><td>Andrew Wiggins  </td><td>GSW</td><td>SF</td><td>54</td><td>1857</td><td>437</td><td> 978</td><td>111</td><td>334</td><td>⋯</td><td>45</td><td>131</td><td> 52</td><td>127</td><td>1</td><td>1175</td><td> 1</td><td>0</td><td>0</td><td>54</td></tr>\n",
              "\t<tr><td>NBA</td><td>Grant Williams  </td><td>BOS</td><td>PF</td><td>69</td><td>1043</td><td> 87</td><td> 211</td><td> 24</td><td> 96</td><td>⋯</td><td>31</td><td> 50</td><td> 35</td><td>163</td><td>2</td><td> 237</td><td> 0</td><td>0</td><td>0</td><td> 5</td></tr>\n",
              "\t<tr><td>NBA</td><td>Johnath Williams</td><td>WAS</td><td>PF</td><td>14</td><td> 179</td><td> 19</td><td>  34</td><td>  0</td><td>  2</td><td>⋯</td><td> 1</td><td>  5</td><td>  8</td><td> 16</td><td>0</td><td>  45</td><td> 0</td><td>0</td><td>0</td><td> 6</td></tr>\n",
              "\t<tr><td>NBA</td><td>Kenric Williams </td><td>NOR</td><td>SF</td><td>39</td><td> 827</td><td> 51</td><td> 147</td><td> 25</td><td> 97</td><td>⋯</td><td>27</td><td> 22</td><td> 21</td><td> 88</td><td>0</td><td> 136</td><td> 1</td><td>0</td><td>0</td><td>18</td></tr>\n",
              "\t<tr><td>NBA</td><td>Lou Williams    </td><td>LAC</td><td>SG</td><td>65</td><td>1866</td><td>391</td><td> 936</td><td>111</td><td>315</td><td>⋯</td><td>43</td><td>182</td><td> 12</td><td> 80</td><td>0</td><td>1185</td><td> 3</td><td>0</td><td>0</td><td> 8</td></tr>\n",
              "\t<tr><td>NBA</td><td>Marvin Williams </td><td>MIL</td><td>PF</td><td>58</td><td>1128</td><td>119</td><td> 267</td><td> 56</td><td>156</td><td>⋯</td><td>35</td><td> 33</td><td> 31</td><td>103</td><td>1</td><td> 343</td><td> 0</td><td>0</td><td>0</td><td> 1</td></tr>\n",
              "\t<tr><td>NBA</td><td>Robert Williams </td><td>BOS</td><td>PF</td><td>28</td><td> 389</td><td> 64</td><td>  88</td><td>  0</td><td>  0</td><td>⋯</td><td>23</td><td> 20</td><td> 35</td><td> 48</td><td>0</td><td> 150</td><td> 0</td><td>0</td><td>0</td><td> 1</td></tr>\n",
              "\t<tr><td>NBA</td><td>N Williams-goss </td><td>UTA</td><td>PG</td><td> 9</td><td>  50</td><td>  5</td><td>  16</td><td>  2</td><td>  7</td><td>⋯</td><td> 3</td><td>  3</td><td>  1</td><td>  6</td><td>0</td><td>  14</td><td> 0</td><td>0</td><td>0</td><td> 0</td></tr>\n",
              "\t<tr><td>NBA</td><td>Zion Williamson </td><td>NOR</td><td>PF</td><td>24</td><td> 667</td><td>210</td><td> 360</td><td>  6</td><td> 14</td><td>⋯</td><td>16</td><td> 59</td><td>  9</td><td> 42</td><td>0</td><td> 540</td><td> 0</td><td>0</td><td>0</td><td>24</td></tr>\n",
              "\t<tr><td>NBA</td><td>D.j. Wilson     </td><td>MIL</td><td>PF</td><td>36</td><td> 363</td><td> 52</td><td> 132</td><td> 18</td><td> 73</td><td>⋯</td><td> 3</td><td> 19</td><td>  5</td><td> 33</td><td>0</td><td> 133</td><td> 0</td><td>0</td><td>0</td><td> 1</td></tr>\n",
              "\t<tr><td>NBA</td><td>Justise Winslow </td><td>MIA</td><td>SF</td><td>11</td><td> 353</td><td> 50</td><td> 129</td><td>  6</td><td> 27</td><td>⋯</td><td> 8</td><td> 24</td><td>  5</td><td> 38</td><td>0</td><td> 124</td><td> 0</td><td>0</td><td>0</td><td> 5</td></tr>\n",
              "\t<tr><td>NBA</td><td>Christian Wood  </td><td>DET</td><td>PF</td><td>62</td><td>1319</td><td>288</td><td> 508</td><td> 54</td><td>140</td><td>⋯</td><td>34</td><td> 84</td><td> 55</td><td> 98</td><td>0</td><td> 811</td><td> 1</td><td>0</td><td>0</td><td>12</td></tr>\n",
              "\t<tr><td>NBA</td><td>Delon Wright    </td><td>DAL</td><td>SG</td><td>73</td><td>1570</td><td>190</td><td> 412</td><td> 47</td><td>128</td><td>⋯</td><td>84</td><td> 73</td><td> 22</td><td> 93</td><td>0</td><td> 504</td><td> 0</td><td>0</td><td>0</td><td> 6</td></tr>\n",
              "\t<tr><td>NBA</td><td>Wright-foreman  </td><td>UTA</td><td>PG</td><td> 4</td><td>  45</td><td>  7</td><td>  20</td><td>  2</td><td> 10</td><td>⋯</td><td> 2</td><td>  3</td><td>  0</td><td>  5</td><td>0</td><td>  19</td><td> 0</td><td>0</td><td>0</td><td> 0</td></tr>\n",
              "\t<tr><td>NBA</td><td>Thaddeus Young  </td><td>CHI</td><td>PF</td><td>64</td><td>1594</td><td>269</td><td> 602</td><td> 79</td><td>223</td><td>⋯</td><td>92</td><td>102</td><td> 23</td><td>134</td><td>1</td><td> 659</td><td> 4</td><td>0</td><td>0</td><td>16</td></tr>\n",
              "\t<tr><td>NBA</td><td>Trae Young      </td><td>ATL</td><td>PG</td><td>60</td><td>2119</td><td>546</td><td>1249</td><td>205</td><td>568</td><td>⋯</td><td>65</td><td>289</td><td>  8</td><td>104</td><td>0</td><td>1778</td><td> 7</td><td>0</td><td>0</td><td>60</td></tr>\n",
              "\t<tr><td>NBA</td><td>Cody Zeller     </td><td>CHA</td><td>C </td><td>58</td><td>1343</td><td>251</td><td> 480</td><td> 18</td><td> 75</td><td>⋯</td><td>40</td><td> 75</td><td> 27</td><td>140</td><td>1</td><td> 642</td><td> 0</td><td>0</td><td>0</td><td>39</td></tr>\n",
              "\t<tr><td>NBA</td><td>Tyler Zeller    </td><td>SAN</td><td>C </td><td> 1</td><td>   4</td><td>  1</td><td>   4</td><td>  0</td><td>  0</td><td>⋯</td><td> 0</td><td>  0</td><td>  0</td><td>  0</td><td>0</td><td>   2</td><td> 0</td><td>0</td><td>0</td><td> 0</td></tr>\n",
              "\t<tr><td>NBA</td><td>Ante Zizic      </td><td>CLE</td><td>C </td><td>22</td><td> 222</td><td> 41</td><td>  72</td><td>  0</td><td>  0</td><td>⋯</td><td> 7</td><td> 10</td><td>  5</td><td> 27</td><td>0</td><td>  96</td><td> 0</td><td>0</td><td>0</td><td> 0</td></tr>\n",
              "\t<tr><td>NBA</td><td>Ivica Zubac     </td><td>LAC</td><td>C </td><td>72</td><td>1326</td><td>236</td><td> 387</td><td>  0</td><td>  2</td><td>⋯</td><td>16</td><td> 61</td><td> 66</td><td>168</td><td>2</td><td> 596</td><td> 1</td><td>0</td><td>0</td><td>70</td></tr>\n",
              "</tbody>\n",
              "</table>\n"
            ]
          },
          "metadata": {
            "tags": []
          }
        }
      ]
    },
    {
      "cell_type": "code",
      "metadata": {
        "id": "HpdvSgGSioD4",
        "outputId": "eb7f7da6-7cda-464e-a6ac-8eced01233d7",
        "colab": {
          "base_uri": "https://localhost:8080/",
          "height": 1000
        }
      },
      "source": [
        "NBA1920_filter_Assists = NBA1920[order(NBA1920$Assists,decreasing = T),]\n",
        "NBA1920_filter_Assists"
      ],
      "execution_count": 53,
      "outputs": [
        {
          "output_type": "display_data",
          "data": {
            "text/plain": [
              "    League Name             Team Position GamesPlayed TotalMinutesPlayed\n",
              "250 NBA    Lebron James     LAL  SF       67          2315              \n",
              "434 NBA    Ricky Rubio      PHO  PG       65          2019              \n",
              "525 NBA    Trae Young       ATL  PG       60          2119              \n",
              "134 NBA    Luka Doncic      DAL  PG       61          2046              \n",
              "297 NBA    Damian Lillard   POR  PG       66          2472              \n",
              "198 NBA    James Harden     HOU  SG       68          2477              \n",
              "261 NBA    Nikola Jokic     DEN  C        73          2335              \n",
              "349 NBA    Ja Morant        MEM  PG       67          2074              \n",
              "180 NBA    Devonte' Graham  CHA  PG       63          2209              \n",
              "396 NBA    Chris Paul       OKL  PG       70          2206              \n",
              "55  NBA    Devin Booker     PHO  SG       70          2507              \n",
              "451 NBA    Ben Simmons      PHI  PG       57          2017              \n",
              "24  NBA    Lonzo Ball       NOR  PG       63          2023              \n",
              "303 NBA    Kyle Lowry       TOR  PG       58          2103              \n",
              "132 NBA    Spenc Dinwiddie  BRO  PG       64          1996              \n",
              "223 NBA    Jrue Holiday     NOR  SG       61          2115              \n",
              "506 NBA    Russel Westbrook HOU  PG       57          2048              \n",
              "68  NBA    Malcolm Brogdon  IND  PG       54          1666              \n",
              "128 NBA    Demar Derozan    SAN  SG       68          2318              \n",
              "239 NBA    Joe Ingles       UTA  SF       72          2138              \n",
              "164 NBA    Markelle Fultz   ORL  PG       72          1994              \n",
              "2   NBA    Bam Adebayo      MIA  PF       72          2415              \n",
              "514 NBA    Lou Williams     LAC  SG       65          1866              \n",
              "488 NBA    Fred Vanvleet    TOR  PG       54          1927              \n",
              "324 NBA    T.j. Mcconnell   IND  PG       71          1326              \n",
              "13  NBA    G Antetokounmpo  MIL  PF       63          1914              \n",
              "440 NBA    Toma Satoransky  CHI  PG       65          1879              \n",
              "82  NBA    Jimmy Butler     MIA  SF       58          1957              \n",
              "160 NBA    De'aaron Fox     SAC  PG       51          1635              \n",
              "35  NBA    Bradley Beal     WAS  SG       57          2051              \n",
              "⋮   ⋮      ⋮                ⋮    ⋮        ⋮           ⋮                 \n",
              "73  NBA    Moses Brown      POR  C         7          31                \n",
              "84  NBA    Devontae Cacok   LAL  PF        1           9                \n",
              "97  NBA    Joe Chealey      CHA  PG        4          33                \n",
              "106 NBA    Anton Cleveland  DAL  SG       10          45                \n",
              "113 NBA    Tyler Cook       NA   PF       12          53                \n",
              "144 NBA    Henry Ellenson   BRO  PF        5          15                \n",
              "151 NBA    Tacko Fall       BOS  C         7          34                \n",
              "192 NBA    Kyle Guy         SAC  PG        3          10                \n",
              "208 NBA    Udonis Haslem    MIA  PF        4          45                \n",
              "232 NBA    William Howard   HOU  SF        2          13                \n",
              "271 NBA    Stanton Kidd     UTA  PF        4          15                \n",
              "306 NBA    Daryl Macon      MIA  PG        4          14                \n",
              "347 NBA    Matt Mooney      CLE  PG        4          19                \n",
              "382 NBA    Kz Okpala        MIA  SF        5          25                \n",
              "447 NBA    Marial Shayok    PHI  SF        4          28                \n",
              "4   NBA    Kyle Alexander   MIA  PF        2          13                \n",
              "51  NBA    Jonah Bolden     PHO  PF        7          47                \n",
              "52  NBA    Marques Bolden   CLE  C         1           3                \n",
              "57  NBA    Brian Bowen      IND  SG        6          31                \n",
              "196 NBA    Dusty Hannahs    MEM  SF        2          13                \n",
              "200 NBA    Jared Harper     PHO  PG        3           8                \n",
              "307 NBA    J.p. Macura      CLE  SG        1           1                \n",
              "321 NBA    Luc Mbah_a_moute HOU  SF        3          25                \n",
              "337 NBA    Eric Mika        SAC  C         1          19                \n",
              "366 NBA    Malik Newman     CLE  SG        1           4                \n",
              "388 NBA    Tariq Owens      PHO  PF        3          16                \n",
              "429 NBA    Isaiah Roby      OKL  PF        3          11                \n",
              "461 NBA    Max Strus        CHI  SG        2           6                \n",
              "484 NBA    Jared Uthoff     NA   SF        7          52                \n",
              "527 NBA    Tyler Zeller     SAN  C         1           4                \n",
              "    FieldGoalsMade FieldGoalsAttempted ThreesMade ThreesAttempted ⋯ Steals\n",
              "250 643            1303                148        425             ⋯  78   \n",
              "434 287             692                 78        216             ⋯  94   \n",
              "525 546            1249                205        568             ⋯  65   \n",
              "134 581            1254                171        541             ⋯  61   \n",
              "297 624            1348                270        674             ⋯  70   \n",
              "198 672            1514                299        843             ⋯ 125   \n",
              "261 565            1071                 80        255             ⋯  85   \n",
              "349 447             937                 60        179             ⋯  59   \n",
              "180 368             963                218        585             ⋯  62   \n",
              "396 434             887                111        304             ⋯ 111   \n",
              "55  627            1284                141        398             ⋯  49   \n",
              "451 375             648                  2          7             ⋯ 119   \n",
              "24  277             687                148        395             ⋯  89   \n",
              "303 334             803                164        466             ⋯  82   \n",
              "132 424            1020                123        400             ⋯  40   \n",
              "223 458            1006                122        346             ⋯  99   \n",
              "506 604            1281                 55        213             ⋯  95   \n",
              "68  326             745                 75        230             ⋯  35   \n",
              "128 557            1049                  9         35             ⋯  69   \n",
              "239 246             553                141        353             ⋯  65   \n",
              "164 359             772                 36        135             ⋯  90   \n",
              "2   440             791                  2         14             ⋯  82   \n",
              "514 391             936                111        315             ⋯  43   \n",
              "488 319             773                146        374             ⋯ 100   \n",
              "324 212             412                  5         17             ⋯  57   \n",
              "13  685            1238                 89        293             ⋯  61   \n",
              "440 237             551                 64        199             ⋯  80   \n",
              "82  345             759                 29        119             ⋯ 103   \n",
              "160 391             815                 54        185             ⋯  74   \n",
              "35  593            1303                170        481             ⋯  71   \n",
              "⋮   ⋮              ⋮                   ⋮          ⋮               ⋱ ⋮     \n",
              "73   4             10                  0          0               ⋯ 1     \n",
              "84   3              6                  0          0               ⋯ 0     \n",
              "97   0              7                  0          4               ⋯ 4     \n",
              "106  4             14                  0          3               ⋯ 1     \n",
              "113  8             12                  0          0               ⋯ 3     \n",
              "144  1              7                  0          4               ⋯ 0     \n",
              "151 11             14                  0          0               ⋯ 2     \n",
              "192  2              5                  0          3               ⋯ 0     \n",
              "208  4             11                  1          3               ⋯ 0     \n",
              "232  0              4                  0          4               ⋯ 0     \n",
              "271  0              3                  0          1               ⋯ 0     \n",
              "306  1              3                  1          2               ⋯ 0     \n",
              "347  1              4                  0          2               ⋯ 2     \n",
              "382  3              5                  0          1               ⋯ 2     \n",
              "447  3             12                  2          6               ⋯ 0     \n",
              "4    1              2                  0          0               ⋯ 0     \n",
              "51   4             11                  0          4               ⋯ 3     \n",
              "52   0              0                  0          0               ⋯ 1     \n",
              "57   3             10                  0          2               ⋯ 0     \n",
              "196  4              9                  2          3               ⋯ 0     \n",
              "200  1              4                  0          2               ⋯ 0     \n",
              "307  0              0                  0          0               ⋯ 0     \n",
              "321  2              5                  0          2               ⋯ 2     \n",
              "337  2              3                  0          0               ⋯ 0     \n",
              "366  0              2                  0          1               ⋯ 0     \n",
              "388  1              5                  0          2               ⋯ 1     \n",
              "429  0              1                  0          0               ⋯ 0     \n",
              "461  2              3                  0          1               ⋯ 0     \n",
              "484  7             18                  3          9               ⋯ 1     \n",
              "527  1              4                  0          0               ⋯ 0     \n",
              "    Turnovers Blocks PersonalFouls Disqualifications TotalPoints Technicals\n",
              "250 261       36     118           0                 1698         2        \n",
              "434 173       11     167           2                  847         1        \n",
              "525 289        8     104           0                 1778         7        \n",
              "134 262       14     153           1                 1759         8        \n",
              "297 194       22     114           0                 1978         6        \n",
              "198 308       60     227           0                 2335         5        \n",
              "261 225       44     222           1                 1456         3        \n",
              "349 220       18     110           0                 1193         0        \n",
              "180 181       15     115           0                 1145         0        \n",
              "396 161       11     158           1                 1232         4        \n",
              "55  266       18     213           3                 1863         8        \n",
              "451 200       33     186           2                  937         6        \n",
              "24  192       37     128           0                  745         0        \n",
              "303 178       26     190           0                 1126        14        \n",
              "132 174       21     180           0                 1318         6        \n",
              "223 185       48     145           0                 1167         1        \n",
              "506 255       20     199           2                 1553        10        \n",
              "68  131       10      98           0                  893         0        \n",
              "128 164       20     180           1                 1503        13        \n",
              "239 141       11     154           1                  707         6        \n",
              "164 147       12     142           0                  870         0        \n",
              "2   203       93     182           2                 1146         0        \n",
              "514 182       12      80           0                 1185         3        \n",
              "488 121       17     132           0                  952         4        \n",
              "324 100       11      73           0                  464         3        \n",
              "13  230       66     195           5                 1857         3        \n",
              "440 130        7     135           1                  644         1        \n",
              "82  127       32      81           0                 1157         4        \n",
              "160 158       25     145           1                 1077         5        \n",
              "35  194       23     126           0                 1742         7        \n",
              "⋮   ⋮         ⋮      ⋮             ⋮                 ⋮           ⋮         \n",
              "73  3         1       7            0                 11          0         \n",
              "84  0         0       0            0                  6          0         \n",
              "97  2         0       2            0                  2          0         \n",
              "106 2         3       8            0                 11          0         \n",
              "113 3         0       5            0                 23          0         \n",
              "144 0         0       1            0                  2          0         \n",
              "151 3         4       7            0                 23          0         \n",
              "192 0         0       1            0                  4          0         \n",
              "208 1         0       6            0                 12          0         \n",
              "232 1         0       1            0                  0          0         \n",
              "271 2         0       3            0                  0          0         \n",
              "306 2         0       1            0                  3          0         \n",
              "347 0         1       1            0                  2          0         \n",
              "382 1         1       2            0                  7          0         \n",
              "447 3         1       4            0                 11          0         \n",
              "4   1         0       1            0                  2          0         \n",
              "51  2         2      10            0                 10          0         \n",
              "52  0         0       1            0                  0          0         \n",
              "57  1         1       3            0                  6          0         \n",
              "196 0         0       1            0                 12          0         \n",
              "200 0         0       0            0                  2          0         \n",
              "307 0         0       0            0                  0          0         \n",
              "321 1         0       0            0                  5          0         \n",
              "337 0         0       5            0                  6          0         \n",
              "366 1         0       0            0                  2          0         \n",
              "388 0         0       1            0                  4          0         \n",
              "429 1         0       1            0                  0          0         \n",
              "461 0         0       1            0                  5          0         \n",
              "484 0         0       2            0                 19          0         \n",
              "527 0         0       0            0                  2          0         \n",
              "    Ejections FlagrantFouls GamesStarted\n",
              "250 0         0             67          \n",
              "434 0         0             65          \n",
              "525 0         0             60          \n",
              "134 0         0             61          \n",
              "297 0         0             66          \n",
              "198 0         0             68          \n",
              "261 0         0             73          \n",
              "349 0         0             67          \n",
              "180 0         0             53          \n",
              "396 0         0             70          \n",
              "55  0         0             70          \n",
              "451 0         0             57          \n",
              "24  0         0             54          \n",
              "303 0         0             58          \n",
              "132 0         0             49          \n",
              "223 0         0             61          \n",
              "506 0         0             57          \n",
              "68  0         0             53          \n",
              "128 0         0             68          \n",
              "239 0         0             45          \n",
              "164 0         0             60          \n",
              "2   0         0             72          \n",
              "514 0         0              8          \n",
              "488 0         0             54          \n",
              "324 0         0              3          \n",
              "13  0         0             63          \n",
              "440 0         0             64          \n",
              "82  0         0             58          \n",
              "160 0         0             49          \n",
              "35  0         0             57          \n",
              "⋮   ⋮         ⋮             ⋮           \n",
              "73  0         0             0           \n",
              "84  0         0             0           \n",
              "97  0         0             0           \n",
              "106 0         0             0           \n",
              "113 0         0             0           \n",
              "144 0         0             0           \n",
              "151 0         0             0           \n",
              "192 0         0             0           \n",
              "208 0         0             1           \n",
              "232 0         0             0           \n",
              "271 0         0             0           \n",
              "306 0         0             0           \n",
              "347 0         0             0           \n",
              "382 0         0             0           \n",
              "447 0         0             0           \n",
              "4   0         0             0           \n",
              "51  0         0             0           \n",
              "52  0         0             0           \n",
              "57  0         0             1           \n",
              "196 0         0             0           \n",
              "200 0         0             0           \n",
              "307 0         0             0           \n",
              "321 0         0             0           \n",
              "337 0         0             0           \n",
              "366 0         0             0           \n",
              "388 0         0             0           \n",
              "429 0         0             0           \n",
              "461 0         0             0           \n",
              "484 0         0             0           \n",
              "527 0         0             0           "
            ],
            "text/latex": "A data.frame: 529 × 25\n\\begin{tabular}{r|lllllllllllllllllllll}\n  & League & Name & Team & Position & GamesPlayed & TotalMinutesPlayed & FieldGoalsMade & FieldGoalsAttempted & ThreesMade & ThreesAttempted & ⋯ & Steals & Turnovers & Blocks & PersonalFouls & Disqualifications & TotalPoints & Technicals & Ejections & FlagrantFouls & GamesStarted\\\\\n  & <fct> & <chr> & <fct> & <fct> & <int> & <int> & <int> & <int> & <int> & <int> & ⋯ & <int> & <int> & <int> & <int> & <int> & <int> & <int> & <int> & <int> & <int>\\\\\n\\hline\n\t250 & NBA & Lebron James     & LAL & SF & 67 & 2315 & 643 & 1303 & 148 & 425 & ⋯ &  78 & 261 & 36 & 118 & 0 & 1698 &  2 & 0 & 0 & 67\\\\\n\t434 & NBA & Ricky Rubio      & PHO & PG & 65 & 2019 & 287 &  692 &  78 & 216 & ⋯ &  94 & 173 & 11 & 167 & 2 &  847 &  1 & 0 & 0 & 65\\\\\n\t525 & NBA & Trae Young       & ATL & PG & 60 & 2119 & 546 & 1249 & 205 & 568 & ⋯ &  65 & 289 &  8 & 104 & 0 & 1778 &  7 & 0 & 0 & 60\\\\\n\t134 & NBA & Luka Doncic      & DAL & PG & 61 & 2046 & 581 & 1254 & 171 & 541 & ⋯ &  61 & 262 & 14 & 153 & 1 & 1759 &  8 & 0 & 0 & 61\\\\\n\t297 & NBA & Damian Lillard   & POR & PG & 66 & 2472 & 624 & 1348 & 270 & 674 & ⋯ &  70 & 194 & 22 & 114 & 0 & 1978 &  6 & 0 & 0 & 66\\\\\n\t198 & NBA & James Harden     & HOU & SG & 68 & 2477 & 672 & 1514 & 299 & 843 & ⋯ & 125 & 308 & 60 & 227 & 0 & 2335 &  5 & 0 & 0 & 68\\\\\n\t261 & NBA & Nikola Jokic     & DEN & C  & 73 & 2335 & 565 & 1071 &  80 & 255 & ⋯ &  85 & 225 & 44 & 222 & 1 & 1456 &  3 & 0 & 0 & 73\\\\\n\t349 & NBA & Ja Morant        & MEM & PG & 67 & 2074 & 447 &  937 &  60 & 179 & ⋯ &  59 & 220 & 18 & 110 & 0 & 1193 &  0 & 0 & 0 & 67\\\\\n\t180 & NBA & Devonte' Graham  & CHA & PG & 63 & 2209 & 368 &  963 & 218 & 585 & ⋯ &  62 & 181 & 15 & 115 & 0 & 1145 &  0 & 0 & 0 & 53\\\\\n\t396 & NBA & Chris Paul       & OKL & PG & 70 & 2206 & 434 &  887 & 111 & 304 & ⋯ & 111 & 161 & 11 & 158 & 1 & 1232 &  4 & 0 & 0 & 70\\\\\n\t55 & NBA & Devin Booker     & PHO & SG & 70 & 2507 & 627 & 1284 & 141 & 398 & ⋯ &  49 & 266 & 18 & 213 & 3 & 1863 &  8 & 0 & 0 & 70\\\\\n\t451 & NBA & Ben Simmons      & PHI & PG & 57 & 2017 & 375 &  648 &   2 &   7 & ⋯ & 119 & 200 & 33 & 186 & 2 &  937 &  6 & 0 & 0 & 57\\\\\n\t24 & NBA & Lonzo Ball       & NOR & PG & 63 & 2023 & 277 &  687 & 148 & 395 & ⋯ &  89 & 192 & 37 & 128 & 0 &  745 &  0 & 0 & 0 & 54\\\\\n\t303 & NBA & Kyle Lowry       & TOR & PG & 58 & 2103 & 334 &  803 & 164 & 466 & ⋯ &  82 & 178 & 26 & 190 & 0 & 1126 & 14 & 0 & 0 & 58\\\\\n\t132 & NBA & Spenc Dinwiddie  & BRO & PG & 64 & 1996 & 424 & 1020 & 123 & 400 & ⋯ &  40 & 174 & 21 & 180 & 0 & 1318 &  6 & 0 & 0 & 49\\\\\n\t223 & NBA & Jrue Holiday     & NOR & SG & 61 & 2115 & 458 & 1006 & 122 & 346 & ⋯ &  99 & 185 & 48 & 145 & 0 & 1167 &  1 & 0 & 0 & 61\\\\\n\t506 & NBA & Russel Westbrook & HOU & PG & 57 & 2048 & 604 & 1281 &  55 & 213 & ⋯ &  95 & 255 & 20 & 199 & 2 & 1553 & 10 & 0 & 0 & 57\\\\\n\t68 & NBA & Malcolm Brogdon  & IND & PG & 54 & 1666 & 326 &  745 &  75 & 230 & ⋯ &  35 & 131 & 10 &  98 & 0 &  893 &  0 & 0 & 0 & 53\\\\\n\t128 & NBA & Demar Derozan    & SAN & SG & 68 & 2318 & 557 & 1049 &   9 &  35 & ⋯ &  69 & 164 & 20 & 180 & 1 & 1503 & 13 & 0 & 0 & 68\\\\\n\t239 & NBA & Joe Ingles       & UTA & SF & 72 & 2138 & 246 &  553 & 141 & 353 & ⋯ &  65 & 141 & 11 & 154 & 1 &  707 &  6 & 0 & 0 & 45\\\\\n\t164 & NBA & Markelle Fultz   & ORL & PG & 72 & 1994 & 359 &  772 &  36 & 135 & ⋯ &  90 & 147 & 12 & 142 & 0 &  870 &  0 & 0 & 0 & 60\\\\\n\t2 & NBA & Bam Adebayo      & MIA & PF & 72 & 2415 & 440 &  791 &   2 &  14 & ⋯ &  82 & 203 & 93 & 182 & 2 & 1146 &  0 & 0 & 0 & 72\\\\\n\t514 & NBA & Lou Williams     & LAC & SG & 65 & 1866 & 391 &  936 & 111 & 315 & ⋯ &  43 & 182 & 12 &  80 & 0 & 1185 &  3 & 0 & 0 &  8\\\\\n\t488 & NBA & Fred Vanvleet    & TOR & PG & 54 & 1927 & 319 &  773 & 146 & 374 & ⋯ & 100 & 121 & 17 & 132 & 0 &  952 &  4 & 0 & 0 & 54\\\\\n\t324 & NBA & T.j. Mcconnell   & IND & PG & 71 & 1326 & 212 &  412 &   5 &  17 & ⋯ &  57 & 100 & 11 &  73 & 0 &  464 &  3 & 0 & 0 &  3\\\\\n\t13 & NBA & G Antetokounmpo  & MIL & PF & 63 & 1914 & 685 & 1238 &  89 & 293 & ⋯ &  61 & 230 & 66 & 195 & 5 & 1857 &  3 & 0 & 0 & 63\\\\\n\t440 & NBA & Toma Satoransky  & CHI & PG & 65 & 1879 & 237 &  551 &  64 & 199 & ⋯ &  80 & 130 &  7 & 135 & 1 &  644 &  1 & 0 & 0 & 64\\\\\n\t82 & NBA & Jimmy Butler     & MIA & SF & 58 & 1957 & 345 &  759 &  29 & 119 & ⋯ & 103 & 127 & 32 &  81 & 0 & 1157 &  4 & 0 & 0 & 58\\\\\n\t160 & NBA & De'aaron Fox     & SAC & PG & 51 & 1635 & 391 &  815 &  54 & 185 & ⋯ &  74 & 158 & 25 & 145 & 1 & 1077 &  5 & 0 & 0 & 49\\\\\n\t35 & NBA & Bradley Beal     & WAS & SG & 57 & 2051 & 593 & 1303 & 170 & 481 & ⋯ &  71 & 194 & 23 & 126 & 0 & 1742 &  7 & 0 & 0 & 57\\\\\n\t⋮ & ⋮ & ⋮ & ⋮ & ⋮ & ⋮ & ⋮ & ⋮ & ⋮ & ⋮ & ⋮ & ⋱ & ⋮ & ⋮ & ⋮ & ⋮ & ⋮ & ⋮ & ⋮ & ⋮ & ⋮ & ⋮\\\\\n\t73 & NBA & Moses Brown      & POR & C  &  7 & 31 &  4 & 10 & 0 & 0 & ⋯ & 1 & 3 & 1 &  7 & 0 & 11 & 0 & 0 & 0 & 0\\\\\n\t84 & NBA & Devontae Cacok   & LAL & PF &  1 &  9 &  3 &  6 & 0 & 0 & ⋯ & 0 & 0 & 0 &  0 & 0 &  6 & 0 & 0 & 0 & 0\\\\\n\t97 & NBA & Joe Chealey      & CHA & PG &  4 & 33 &  0 &  7 & 0 & 4 & ⋯ & 4 & 2 & 0 &  2 & 0 &  2 & 0 & 0 & 0 & 0\\\\\n\t106 & NBA & Anton Cleveland  & DAL & SG & 10 & 45 &  4 & 14 & 0 & 3 & ⋯ & 1 & 2 & 3 &  8 & 0 & 11 & 0 & 0 & 0 & 0\\\\\n\t113 & NBA & Tyler Cook       & NA  & PF & 12 & 53 &  8 & 12 & 0 & 0 & ⋯ & 3 & 3 & 0 &  5 & 0 & 23 & 0 & 0 & 0 & 0\\\\\n\t144 & NBA & Henry Ellenson   & BRO & PF &  5 & 15 &  1 &  7 & 0 & 4 & ⋯ & 0 & 0 & 0 &  1 & 0 &  2 & 0 & 0 & 0 & 0\\\\\n\t151 & NBA & Tacko Fall       & BOS & C  &  7 & 34 & 11 & 14 & 0 & 0 & ⋯ & 2 & 3 & 4 &  7 & 0 & 23 & 0 & 0 & 0 & 0\\\\\n\t192 & NBA & Kyle Guy         & SAC & PG &  3 & 10 &  2 &  5 & 0 & 3 & ⋯ & 0 & 0 & 0 &  1 & 0 &  4 & 0 & 0 & 0 & 0\\\\\n\t208 & NBA & Udonis Haslem    & MIA & PF &  4 & 45 &  4 & 11 & 1 & 3 & ⋯ & 0 & 1 & 0 &  6 & 0 & 12 & 0 & 0 & 0 & 1\\\\\n\t232 & NBA & William Howard   & HOU & SF &  2 & 13 &  0 &  4 & 0 & 4 & ⋯ & 0 & 1 & 0 &  1 & 0 &  0 & 0 & 0 & 0 & 0\\\\\n\t271 & NBA & Stanton Kidd     & UTA & PF &  4 & 15 &  0 &  3 & 0 & 1 & ⋯ & 0 & 2 & 0 &  3 & 0 &  0 & 0 & 0 & 0 & 0\\\\\n\t306 & NBA & Daryl Macon      & MIA & PG &  4 & 14 &  1 &  3 & 1 & 2 & ⋯ & 0 & 2 & 0 &  1 & 0 &  3 & 0 & 0 & 0 & 0\\\\\n\t347 & NBA & Matt Mooney      & CLE & PG &  4 & 19 &  1 &  4 & 0 & 2 & ⋯ & 2 & 0 & 1 &  1 & 0 &  2 & 0 & 0 & 0 & 0\\\\\n\t382 & NBA & Kz Okpala        & MIA & SF &  5 & 25 &  3 &  5 & 0 & 1 & ⋯ & 2 & 1 & 1 &  2 & 0 &  7 & 0 & 0 & 0 & 0\\\\\n\t447 & NBA & Marial Shayok    & PHI & SF &  4 & 28 &  3 & 12 & 2 & 6 & ⋯ & 0 & 3 & 1 &  4 & 0 & 11 & 0 & 0 & 0 & 0\\\\\n\t4 & NBA & Kyle Alexander   & MIA & PF &  2 & 13 &  1 &  2 & 0 & 0 & ⋯ & 0 & 1 & 0 &  1 & 0 &  2 & 0 & 0 & 0 & 0\\\\\n\t51 & NBA & Jonah Bolden     & PHO & PF &  7 & 47 &  4 & 11 & 0 & 4 & ⋯ & 3 & 2 & 2 & 10 & 0 & 10 & 0 & 0 & 0 & 0\\\\\n\t52 & NBA & Marques Bolden   & CLE & C  &  1 &  3 &  0 &  0 & 0 & 0 & ⋯ & 1 & 0 & 0 &  1 & 0 &  0 & 0 & 0 & 0 & 0\\\\\n\t57 & NBA & Brian Bowen      & IND & SG &  6 & 31 &  3 & 10 & 0 & 2 & ⋯ & 0 & 1 & 1 &  3 & 0 &  6 & 0 & 0 & 0 & 1\\\\\n\t196 & NBA & Dusty Hannahs    & MEM & SF &  2 & 13 &  4 &  9 & 2 & 3 & ⋯ & 0 & 0 & 0 &  1 & 0 & 12 & 0 & 0 & 0 & 0\\\\\n\t200 & NBA & Jared Harper     & PHO & PG &  3 &  8 &  1 &  4 & 0 & 2 & ⋯ & 0 & 0 & 0 &  0 & 0 &  2 & 0 & 0 & 0 & 0\\\\\n\t307 & NBA & J.p. Macura      & CLE & SG &  1 &  1 &  0 &  0 & 0 & 0 & ⋯ & 0 & 0 & 0 &  0 & 0 &  0 & 0 & 0 & 0 & 0\\\\\n\t321 & NBA & Luc Mbah\\_a\\_moute & HOU & SF &  3 & 25 &  2 &  5 & 0 & 2 & ⋯ & 2 & 1 & 0 &  0 & 0 &  5 & 0 & 0 & 0 & 0\\\\\n\t337 & NBA & Eric Mika        & SAC & C  &  1 & 19 &  2 &  3 & 0 & 0 & ⋯ & 0 & 0 & 0 &  5 & 0 &  6 & 0 & 0 & 0 & 0\\\\\n\t366 & NBA & Malik Newman     & CLE & SG &  1 &  4 &  0 &  2 & 0 & 1 & ⋯ & 0 & 1 & 0 &  0 & 0 &  2 & 0 & 0 & 0 & 0\\\\\n\t388 & NBA & Tariq Owens      & PHO & PF &  3 & 16 &  1 &  5 & 0 & 2 & ⋯ & 1 & 0 & 0 &  1 & 0 &  4 & 0 & 0 & 0 & 0\\\\\n\t429 & NBA & Isaiah Roby      & OKL & PF &  3 & 11 &  0 &  1 & 0 & 0 & ⋯ & 0 & 1 & 0 &  1 & 0 &  0 & 0 & 0 & 0 & 0\\\\\n\t461 & NBA & Max Strus        & CHI & SG &  2 &  6 &  2 &  3 & 0 & 1 & ⋯ & 0 & 0 & 0 &  1 & 0 &  5 & 0 & 0 & 0 & 0\\\\\n\t484 & NBA & Jared Uthoff     & NA  & SF &  7 & 52 &  7 & 18 & 3 & 9 & ⋯ & 1 & 0 & 0 &  2 & 0 & 19 & 0 & 0 & 0 & 0\\\\\n\t527 & NBA & Tyler Zeller     & SAN & C  &  1 &  4 &  1 &  4 & 0 & 0 & ⋯ & 0 & 0 & 0 &  0 & 0 &  2 & 0 & 0 & 0 & 0\\\\\n\\end{tabular}\n",
            "text/markdown": "\nA data.frame: 529 × 25\n\n| <!--/--> | League &lt;fct&gt; | Name &lt;chr&gt; | Team &lt;fct&gt; | Position &lt;fct&gt; | GamesPlayed &lt;int&gt; | TotalMinutesPlayed &lt;int&gt; | FieldGoalsMade &lt;int&gt; | FieldGoalsAttempted &lt;int&gt; | ThreesMade &lt;int&gt; | ThreesAttempted &lt;int&gt; | ⋯ ⋯ | Steals &lt;int&gt; | Turnovers &lt;int&gt; | Blocks &lt;int&gt; | PersonalFouls &lt;int&gt; | Disqualifications &lt;int&gt; | TotalPoints &lt;int&gt; | Technicals &lt;int&gt; | Ejections &lt;int&gt; | FlagrantFouls &lt;int&gt; | GamesStarted &lt;int&gt; |\n|---|---|---|---|---|---|---|---|---|---|---|---|---|---|---|---|---|---|---|---|---|---|\n| 250 | NBA | Lebron James     | LAL | SF | 67 | 2315 | 643 | 1303 | 148 | 425 | ⋯ |  78 | 261 | 36 | 118 | 0 | 1698 |  2 | 0 | 0 | 67 |\n| 434 | NBA | Ricky Rubio      | PHO | PG | 65 | 2019 | 287 |  692 |  78 | 216 | ⋯ |  94 | 173 | 11 | 167 | 2 |  847 |  1 | 0 | 0 | 65 |\n| 525 | NBA | Trae Young       | ATL | PG | 60 | 2119 | 546 | 1249 | 205 | 568 | ⋯ |  65 | 289 |  8 | 104 | 0 | 1778 |  7 | 0 | 0 | 60 |\n| 134 | NBA | Luka Doncic      | DAL | PG | 61 | 2046 | 581 | 1254 | 171 | 541 | ⋯ |  61 | 262 | 14 | 153 | 1 | 1759 |  8 | 0 | 0 | 61 |\n| 297 | NBA | Damian Lillard   | POR | PG | 66 | 2472 | 624 | 1348 | 270 | 674 | ⋯ |  70 | 194 | 22 | 114 | 0 | 1978 |  6 | 0 | 0 | 66 |\n| 198 | NBA | James Harden     | HOU | SG | 68 | 2477 | 672 | 1514 | 299 | 843 | ⋯ | 125 | 308 | 60 | 227 | 0 | 2335 |  5 | 0 | 0 | 68 |\n| 261 | NBA | Nikola Jokic     | DEN | C  | 73 | 2335 | 565 | 1071 |  80 | 255 | ⋯ |  85 | 225 | 44 | 222 | 1 | 1456 |  3 | 0 | 0 | 73 |\n| 349 | NBA | Ja Morant        | MEM | PG | 67 | 2074 | 447 |  937 |  60 | 179 | ⋯ |  59 | 220 | 18 | 110 | 0 | 1193 |  0 | 0 | 0 | 67 |\n| 180 | NBA | Devonte' Graham  | CHA | PG | 63 | 2209 | 368 |  963 | 218 | 585 | ⋯ |  62 | 181 | 15 | 115 | 0 | 1145 |  0 | 0 | 0 | 53 |\n| 396 | NBA | Chris Paul       | OKL | PG | 70 | 2206 | 434 |  887 | 111 | 304 | ⋯ | 111 | 161 | 11 | 158 | 1 | 1232 |  4 | 0 | 0 | 70 |\n| 55 | NBA | Devin Booker     | PHO | SG | 70 | 2507 | 627 | 1284 | 141 | 398 | ⋯ |  49 | 266 | 18 | 213 | 3 | 1863 |  8 | 0 | 0 | 70 |\n| 451 | NBA | Ben Simmons      | PHI | PG | 57 | 2017 | 375 |  648 |   2 |   7 | ⋯ | 119 | 200 | 33 | 186 | 2 |  937 |  6 | 0 | 0 | 57 |\n| 24 | NBA | Lonzo Ball       | NOR | PG | 63 | 2023 | 277 |  687 | 148 | 395 | ⋯ |  89 | 192 | 37 | 128 | 0 |  745 |  0 | 0 | 0 | 54 |\n| 303 | NBA | Kyle Lowry       | TOR | PG | 58 | 2103 | 334 |  803 | 164 | 466 | ⋯ |  82 | 178 | 26 | 190 | 0 | 1126 | 14 | 0 | 0 | 58 |\n| 132 | NBA | Spenc Dinwiddie  | BRO | PG | 64 | 1996 | 424 | 1020 | 123 | 400 | ⋯ |  40 | 174 | 21 | 180 | 0 | 1318 |  6 | 0 | 0 | 49 |\n| 223 | NBA | Jrue Holiday     | NOR | SG | 61 | 2115 | 458 | 1006 | 122 | 346 | ⋯ |  99 | 185 | 48 | 145 | 0 | 1167 |  1 | 0 | 0 | 61 |\n| 506 | NBA | Russel Westbrook | HOU | PG | 57 | 2048 | 604 | 1281 |  55 | 213 | ⋯ |  95 | 255 | 20 | 199 | 2 | 1553 | 10 | 0 | 0 | 57 |\n| 68 | NBA | Malcolm Brogdon  | IND | PG | 54 | 1666 | 326 |  745 |  75 | 230 | ⋯ |  35 | 131 | 10 |  98 | 0 |  893 |  0 | 0 | 0 | 53 |\n| 128 | NBA | Demar Derozan    | SAN | SG | 68 | 2318 | 557 | 1049 |   9 |  35 | ⋯ |  69 | 164 | 20 | 180 | 1 | 1503 | 13 | 0 | 0 | 68 |\n| 239 | NBA | Joe Ingles       | UTA | SF | 72 | 2138 | 246 |  553 | 141 | 353 | ⋯ |  65 | 141 | 11 | 154 | 1 |  707 |  6 | 0 | 0 | 45 |\n| 164 | NBA | Markelle Fultz   | ORL | PG | 72 | 1994 | 359 |  772 |  36 | 135 | ⋯ |  90 | 147 | 12 | 142 | 0 |  870 |  0 | 0 | 0 | 60 |\n| 2 | NBA | Bam Adebayo      | MIA | PF | 72 | 2415 | 440 |  791 |   2 |  14 | ⋯ |  82 | 203 | 93 | 182 | 2 | 1146 |  0 | 0 | 0 | 72 |\n| 514 | NBA | Lou Williams     | LAC | SG | 65 | 1866 | 391 |  936 | 111 | 315 | ⋯ |  43 | 182 | 12 |  80 | 0 | 1185 |  3 | 0 | 0 |  8 |\n| 488 | NBA | Fred Vanvleet    | TOR | PG | 54 | 1927 | 319 |  773 | 146 | 374 | ⋯ | 100 | 121 | 17 | 132 | 0 |  952 |  4 | 0 | 0 | 54 |\n| 324 | NBA | T.j. Mcconnell   | IND | PG | 71 | 1326 | 212 |  412 |   5 |  17 | ⋯ |  57 | 100 | 11 |  73 | 0 |  464 |  3 | 0 | 0 |  3 |\n| 13 | NBA | G Antetokounmpo  | MIL | PF | 63 | 1914 | 685 | 1238 |  89 | 293 | ⋯ |  61 | 230 | 66 | 195 | 5 | 1857 |  3 | 0 | 0 | 63 |\n| 440 | NBA | Toma Satoransky  | CHI | PG | 65 | 1879 | 237 |  551 |  64 | 199 | ⋯ |  80 | 130 |  7 | 135 | 1 |  644 |  1 | 0 | 0 | 64 |\n| 82 | NBA | Jimmy Butler     | MIA | SF | 58 | 1957 | 345 |  759 |  29 | 119 | ⋯ | 103 | 127 | 32 |  81 | 0 | 1157 |  4 | 0 | 0 | 58 |\n| 160 | NBA | De'aaron Fox     | SAC | PG | 51 | 1635 | 391 |  815 |  54 | 185 | ⋯ |  74 | 158 | 25 | 145 | 1 | 1077 |  5 | 0 | 0 | 49 |\n| 35 | NBA | Bradley Beal     | WAS | SG | 57 | 2051 | 593 | 1303 | 170 | 481 | ⋯ |  71 | 194 | 23 | 126 | 0 | 1742 |  7 | 0 | 0 | 57 |\n| ⋮ | ⋮ | ⋮ | ⋮ | ⋮ | ⋮ | ⋮ | ⋮ | ⋮ | ⋮ | ⋮ | ⋱ | ⋮ | ⋮ | ⋮ | ⋮ | ⋮ | ⋮ | ⋮ | ⋮ | ⋮ | ⋮ |\n| 73 | NBA | Moses Brown      | POR | C  |  7 | 31 |  4 | 10 | 0 | 0 | ⋯ | 1 | 3 | 1 |  7 | 0 | 11 | 0 | 0 | 0 | 0 |\n| 84 | NBA | Devontae Cacok   | LAL | PF |  1 |  9 |  3 |  6 | 0 | 0 | ⋯ | 0 | 0 | 0 |  0 | 0 |  6 | 0 | 0 | 0 | 0 |\n| 97 | NBA | Joe Chealey      | CHA | PG |  4 | 33 |  0 |  7 | 0 | 4 | ⋯ | 4 | 2 | 0 |  2 | 0 |  2 | 0 | 0 | 0 | 0 |\n| 106 | NBA | Anton Cleveland  | DAL | SG | 10 | 45 |  4 | 14 | 0 | 3 | ⋯ | 1 | 2 | 3 |  8 | 0 | 11 | 0 | 0 | 0 | 0 |\n| 113 | NBA | Tyler Cook       | NA  | PF | 12 | 53 |  8 | 12 | 0 | 0 | ⋯ | 3 | 3 | 0 |  5 | 0 | 23 | 0 | 0 | 0 | 0 |\n| 144 | NBA | Henry Ellenson   | BRO | PF |  5 | 15 |  1 |  7 | 0 | 4 | ⋯ | 0 | 0 | 0 |  1 | 0 |  2 | 0 | 0 | 0 | 0 |\n| 151 | NBA | Tacko Fall       | BOS | C  |  7 | 34 | 11 | 14 | 0 | 0 | ⋯ | 2 | 3 | 4 |  7 | 0 | 23 | 0 | 0 | 0 | 0 |\n| 192 | NBA | Kyle Guy         | SAC | PG |  3 | 10 |  2 |  5 | 0 | 3 | ⋯ | 0 | 0 | 0 |  1 | 0 |  4 | 0 | 0 | 0 | 0 |\n| 208 | NBA | Udonis Haslem    | MIA | PF |  4 | 45 |  4 | 11 | 1 | 3 | ⋯ | 0 | 1 | 0 |  6 | 0 | 12 | 0 | 0 | 0 | 1 |\n| 232 | NBA | William Howard   | HOU | SF |  2 | 13 |  0 |  4 | 0 | 4 | ⋯ | 0 | 1 | 0 |  1 | 0 |  0 | 0 | 0 | 0 | 0 |\n| 271 | NBA | Stanton Kidd     | UTA | PF |  4 | 15 |  0 |  3 | 0 | 1 | ⋯ | 0 | 2 | 0 |  3 | 0 |  0 | 0 | 0 | 0 | 0 |\n| 306 | NBA | Daryl Macon      | MIA | PG |  4 | 14 |  1 |  3 | 1 | 2 | ⋯ | 0 | 2 | 0 |  1 | 0 |  3 | 0 | 0 | 0 | 0 |\n| 347 | NBA | Matt Mooney      | CLE | PG |  4 | 19 |  1 |  4 | 0 | 2 | ⋯ | 2 | 0 | 1 |  1 | 0 |  2 | 0 | 0 | 0 | 0 |\n| 382 | NBA | Kz Okpala        | MIA | SF |  5 | 25 |  3 |  5 | 0 | 1 | ⋯ | 2 | 1 | 1 |  2 | 0 |  7 | 0 | 0 | 0 | 0 |\n| 447 | NBA | Marial Shayok    | PHI | SF |  4 | 28 |  3 | 12 | 2 | 6 | ⋯ | 0 | 3 | 1 |  4 | 0 | 11 | 0 | 0 | 0 | 0 |\n| 4 | NBA | Kyle Alexander   | MIA | PF |  2 | 13 |  1 |  2 | 0 | 0 | ⋯ | 0 | 1 | 0 |  1 | 0 |  2 | 0 | 0 | 0 | 0 |\n| 51 | NBA | Jonah Bolden     | PHO | PF |  7 | 47 |  4 | 11 | 0 | 4 | ⋯ | 3 | 2 | 2 | 10 | 0 | 10 | 0 | 0 | 0 | 0 |\n| 52 | NBA | Marques Bolden   | CLE | C  |  1 |  3 |  0 |  0 | 0 | 0 | ⋯ | 1 | 0 | 0 |  1 | 0 |  0 | 0 | 0 | 0 | 0 |\n| 57 | NBA | Brian Bowen      | IND | SG |  6 | 31 |  3 | 10 | 0 | 2 | ⋯ | 0 | 1 | 1 |  3 | 0 |  6 | 0 | 0 | 0 | 1 |\n| 196 | NBA | Dusty Hannahs    | MEM | SF |  2 | 13 |  4 |  9 | 2 | 3 | ⋯ | 0 | 0 | 0 |  1 | 0 | 12 | 0 | 0 | 0 | 0 |\n| 200 | NBA | Jared Harper     | PHO | PG |  3 |  8 |  1 |  4 | 0 | 2 | ⋯ | 0 | 0 | 0 |  0 | 0 |  2 | 0 | 0 | 0 | 0 |\n| 307 | NBA | J.p. Macura      | CLE | SG |  1 |  1 |  0 |  0 | 0 | 0 | ⋯ | 0 | 0 | 0 |  0 | 0 |  0 | 0 | 0 | 0 | 0 |\n| 321 | NBA | Luc Mbah_a_moute | HOU | SF |  3 | 25 |  2 |  5 | 0 | 2 | ⋯ | 2 | 1 | 0 |  0 | 0 |  5 | 0 | 0 | 0 | 0 |\n| 337 | NBA | Eric Mika        | SAC | C  |  1 | 19 |  2 |  3 | 0 | 0 | ⋯ | 0 | 0 | 0 |  5 | 0 |  6 | 0 | 0 | 0 | 0 |\n| 366 | NBA | Malik Newman     | CLE | SG |  1 |  4 |  0 |  2 | 0 | 1 | ⋯ | 0 | 1 | 0 |  0 | 0 |  2 | 0 | 0 | 0 | 0 |\n| 388 | NBA | Tariq Owens      | PHO | PF |  3 | 16 |  1 |  5 | 0 | 2 | ⋯ | 1 | 0 | 0 |  1 | 0 |  4 | 0 | 0 | 0 | 0 |\n| 429 | NBA | Isaiah Roby      | OKL | PF |  3 | 11 |  0 |  1 | 0 | 0 | ⋯ | 0 | 1 | 0 |  1 | 0 |  0 | 0 | 0 | 0 | 0 |\n| 461 | NBA | Max Strus        | CHI | SG |  2 |  6 |  2 |  3 | 0 | 1 | ⋯ | 0 | 0 | 0 |  1 | 0 |  5 | 0 | 0 | 0 | 0 |\n| 484 | NBA | Jared Uthoff     | NA  | SF |  7 | 52 |  7 | 18 | 3 | 9 | ⋯ | 1 | 0 | 0 |  2 | 0 | 19 | 0 | 0 | 0 | 0 |\n| 527 | NBA | Tyler Zeller     | SAN | C  |  1 |  4 |  1 |  4 | 0 | 0 | ⋯ | 0 | 0 | 0 |  0 | 0 |  2 | 0 | 0 | 0 | 0 |\n\n",
            "text/html": [
              "<table>\n",
              "<caption>A data.frame: 529 × 25</caption>\n",
              "<thead>\n",
              "\t<tr><th></th><th scope=col>League</th><th scope=col>Name</th><th scope=col>Team</th><th scope=col>Position</th><th scope=col>GamesPlayed</th><th scope=col>TotalMinutesPlayed</th><th scope=col>FieldGoalsMade</th><th scope=col>FieldGoalsAttempted</th><th scope=col>ThreesMade</th><th scope=col>ThreesAttempted</th><th scope=col>⋯</th><th scope=col>Steals</th><th scope=col>Turnovers</th><th scope=col>Blocks</th><th scope=col>PersonalFouls</th><th scope=col>Disqualifications</th><th scope=col>TotalPoints</th><th scope=col>Technicals</th><th scope=col>Ejections</th><th scope=col>FlagrantFouls</th><th scope=col>GamesStarted</th></tr>\n",
              "\t<tr><th></th><th scope=col>&lt;fct&gt;</th><th scope=col>&lt;chr&gt;</th><th scope=col>&lt;fct&gt;</th><th scope=col>&lt;fct&gt;</th><th scope=col>&lt;int&gt;</th><th scope=col>&lt;int&gt;</th><th scope=col>&lt;int&gt;</th><th scope=col>&lt;int&gt;</th><th scope=col>&lt;int&gt;</th><th scope=col>&lt;int&gt;</th><th scope=col>⋯</th><th scope=col>&lt;int&gt;</th><th scope=col>&lt;int&gt;</th><th scope=col>&lt;int&gt;</th><th scope=col>&lt;int&gt;</th><th scope=col>&lt;int&gt;</th><th scope=col>&lt;int&gt;</th><th scope=col>&lt;int&gt;</th><th scope=col>&lt;int&gt;</th><th scope=col>&lt;int&gt;</th><th scope=col>&lt;int&gt;</th></tr>\n",
              "</thead>\n",
              "<tbody>\n",
              "\t<tr><th scope=row>250</th><td>NBA</td><td>Lebron James    </td><td>LAL</td><td>SF</td><td>67</td><td>2315</td><td>643</td><td>1303</td><td>148</td><td>425</td><td>⋯</td><td> 78</td><td>261</td><td>36</td><td>118</td><td>0</td><td>1698</td><td> 2</td><td>0</td><td>0</td><td>67</td></tr>\n",
              "\t<tr><th scope=row>434</th><td>NBA</td><td>Ricky Rubio     </td><td>PHO</td><td>PG</td><td>65</td><td>2019</td><td>287</td><td> 692</td><td> 78</td><td>216</td><td>⋯</td><td> 94</td><td>173</td><td>11</td><td>167</td><td>2</td><td> 847</td><td> 1</td><td>0</td><td>0</td><td>65</td></tr>\n",
              "\t<tr><th scope=row>525</th><td>NBA</td><td>Trae Young      </td><td>ATL</td><td>PG</td><td>60</td><td>2119</td><td>546</td><td>1249</td><td>205</td><td>568</td><td>⋯</td><td> 65</td><td>289</td><td> 8</td><td>104</td><td>0</td><td>1778</td><td> 7</td><td>0</td><td>0</td><td>60</td></tr>\n",
              "\t<tr><th scope=row>134</th><td>NBA</td><td>Luka Doncic     </td><td>DAL</td><td>PG</td><td>61</td><td>2046</td><td>581</td><td>1254</td><td>171</td><td>541</td><td>⋯</td><td> 61</td><td>262</td><td>14</td><td>153</td><td>1</td><td>1759</td><td> 8</td><td>0</td><td>0</td><td>61</td></tr>\n",
              "\t<tr><th scope=row>297</th><td>NBA</td><td>Damian Lillard  </td><td>POR</td><td>PG</td><td>66</td><td>2472</td><td>624</td><td>1348</td><td>270</td><td>674</td><td>⋯</td><td> 70</td><td>194</td><td>22</td><td>114</td><td>0</td><td>1978</td><td> 6</td><td>0</td><td>0</td><td>66</td></tr>\n",
              "\t<tr><th scope=row>198</th><td>NBA</td><td>James Harden    </td><td>HOU</td><td>SG</td><td>68</td><td>2477</td><td>672</td><td>1514</td><td>299</td><td>843</td><td>⋯</td><td>125</td><td>308</td><td>60</td><td>227</td><td>0</td><td>2335</td><td> 5</td><td>0</td><td>0</td><td>68</td></tr>\n",
              "\t<tr><th scope=row>261</th><td>NBA</td><td>Nikola Jokic    </td><td>DEN</td><td>C </td><td>73</td><td>2335</td><td>565</td><td>1071</td><td> 80</td><td>255</td><td>⋯</td><td> 85</td><td>225</td><td>44</td><td>222</td><td>1</td><td>1456</td><td> 3</td><td>0</td><td>0</td><td>73</td></tr>\n",
              "\t<tr><th scope=row>349</th><td>NBA</td><td>Ja Morant       </td><td>MEM</td><td>PG</td><td>67</td><td>2074</td><td>447</td><td> 937</td><td> 60</td><td>179</td><td>⋯</td><td> 59</td><td>220</td><td>18</td><td>110</td><td>0</td><td>1193</td><td> 0</td><td>0</td><td>0</td><td>67</td></tr>\n",
              "\t<tr><th scope=row>180</th><td>NBA</td><td>Devonte' Graham </td><td>CHA</td><td>PG</td><td>63</td><td>2209</td><td>368</td><td> 963</td><td>218</td><td>585</td><td>⋯</td><td> 62</td><td>181</td><td>15</td><td>115</td><td>0</td><td>1145</td><td> 0</td><td>0</td><td>0</td><td>53</td></tr>\n",
              "\t<tr><th scope=row>396</th><td>NBA</td><td>Chris Paul      </td><td>OKL</td><td>PG</td><td>70</td><td>2206</td><td>434</td><td> 887</td><td>111</td><td>304</td><td>⋯</td><td>111</td><td>161</td><td>11</td><td>158</td><td>1</td><td>1232</td><td> 4</td><td>0</td><td>0</td><td>70</td></tr>\n",
              "\t<tr><th scope=row>55</th><td>NBA</td><td>Devin Booker    </td><td>PHO</td><td>SG</td><td>70</td><td>2507</td><td>627</td><td>1284</td><td>141</td><td>398</td><td>⋯</td><td> 49</td><td>266</td><td>18</td><td>213</td><td>3</td><td>1863</td><td> 8</td><td>0</td><td>0</td><td>70</td></tr>\n",
              "\t<tr><th scope=row>451</th><td>NBA</td><td>Ben Simmons     </td><td>PHI</td><td>PG</td><td>57</td><td>2017</td><td>375</td><td> 648</td><td>  2</td><td>  7</td><td>⋯</td><td>119</td><td>200</td><td>33</td><td>186</td><td>2</td><td> 937</td><td> 6</td><td>0</td><td>0</td><td>57</td></tr>\n",
              "\t<tr><th scope=row>24</th><td>NBA</td><td>Lonzo Ball      </td><td>NOR</td><td>PG</td><td>63</td><td>2023</td><td>277</td><td> 687</td><td>148</td><td>395</td><td>⋯</td><td> 89</td><td>192</td><td>37</td><td>128</td><td>0</td><td> 745</td><td> 0</td><td>0</td><td>0</td><td>54</td></tr>\n",
              "\t<tr><th scope=row>303</th><td>NBA</td><td>Kyle Lowry      </td><td>TOR</td><td>PG</td><td>58</td><td>2103</td><td>334</td><td> 803</td><td>164</td><td>466</td><td>⋯</td><td> 82</td><td>178</td><td>26</td><td>190</td><td>0</td><td>1126</td><td>14</td><td>0</td><td>0</td><td>58</td></tr>\n",
              "\t<tr><th scope=row>132</th><td>NBA</td><td>Spenc Dinwiddie </td><td>BRO</td><td>PG</td><td>64</td><td>1996</td><td>424</td><td>1020</td><td>123</td><td>400</td><td>⋯</td><td> 40</td><td>174</td><td>21</td><td>180</td><td>0</td><td>1318</td><td> 6</td><td>0</td><td>0</td><td>49</td></tr>\n",
              "\t<tr><th scope=row>223</th><td>NBA</td><td>Jrue Holiday    </td><td>NOR</td><td>SG</td><td>61</td><td>2115</td><td>458</td><td>1006</td><td>122</td><td>346</td><td>⋯</td><td> 99</td><td>185</td><td>48</td><td>145</td><td>0</td><td>1167</td><td> 1</td><td>0</td><td>0</td><td>61</td></tr>\n",
              "\t<tr><th scope=row>506</th><td>NBA</td><td>Russel Westbrook</td><td>HOU</td><td>PG</td><td>57</td><td>2048</td><td>604</td><td>1281</td><td> 55</td><td>213</td><td>⋯</td><td> 95</td><td>255</td><td>20</td><td>199</td><td>2</td><td>1553</td><td>10</td><td>0</td><td>0</td><td>57</td></tr>\n",
              "\t<tr><th scope=row>68</th><td>NBA</td><td>Malcolm Brogdon </td><td>IND</td><td>PG</td><td>54</td><td>1666</td><td>326</td><td> 745</td><td> 75</td><td>230</td><td>⋯</td><td> 35</td><td>131</td><td>10</td><td> 98</td><td>0</td><td> 893</td><td> 0</td><td>0</td><td>0</td><td>53</td></tr>\n",
              "\t<tr><th scope=row>128</th><td>NBA</td><td>Demar Derozan   </td><td>SAN</td><td>SG</td><td>68</td><td>2318</td><td>557</td><td>1049</td><td>  9</td><td> 35</td><td>⋯</td><td> 69</td><td>164</td><td>20</td><td>180</td><td>1</td><td>1503</td><td>13</td><td>0</td><td>0</td><td>68</td></tr>\n",
              "\t<tr><th scope=row>239</th><td>NBA</td><td>Joe Ingles      </td><td>UTA</td><td>SF</td><td>72</td><td>2138</td><td>246</td><td> 553</td><td>141</td><td>353</td><td>⋯</td><td> 65</td><td>141</td><td>11</td><td>154</td><td>1</td><td> 707</td><td> 6</td><td>0</td><td>0</td><td>45</td></tr>\n",
              "\t<tr><th scope=row>164</th><td>NBA</td><td>Markelle Fultz  </td><td>ORL</td><td>PG</td><td>72</td><td>1994</td><td>359</td><td> 772</td><td> 36</td><td>135</td><td>⋯</td><td> 90</td><td>147</td><td>12</td><td>142</td><td>0</td><td> 870</td><td> 0</td><td>0</td><td>0</td><td>60</td></tr>\n",
              "\t<tr><th scope=row>2</th><td>NBA</td><td>Bam Adebayo     </td><td>MIA</td><td>PF</td><td>72</td><td>2415</td><td>440</td><td> 791</td><td>  2</td><td> 14</td><td>⋯</td><td> 82</td><td>203</td><td>93</td><td>182</td><td>2</td><td>1146</td><td> 0</td><td>0</td><td>0</td><td>72</td></tr>\n",
              "\t<tr><th scope=row>514</th><td>NBA</td><td>Lou Williams    </td><td>LAC</td><td>SG</td><td>65</td><td>1866</td><td>391</td><td> 936</td><td>111</td><td>315</td><td>⋯</td><td> 43</td><td>182</td><td>12</td><td> 80</td><td>0</td><td>1185</td><td> 3</td><td>0</td><td>0</td><td> 8</td></tr>\n",
              "\t<tr><th scope=row>488</th><td>NBA</td><td>Fred Vanvleet   </td><td>TOR</td><td>PG</td><td>54</td><td>1927</td><td>319</td><td> 773</td><td>146</td><td>374</td><td>⋯</td><td>100</td><td>121</td><td>17</td><td>132</td><td>0</td><td> 952</td><td> 4</td><td>0</td><td>0</td><td>54</td></tr>\n",
              "\t<tr><th scope=row>324</th><td>NBA</td><td>T.j. Mcconnell  </td><td>IND</td><td>PG</td><td>71</td><td>1326</td><td>212</td><td> 412</td><td>  5</td><td> 17</td><td>⋯</td><td> 57</td><td>100</td><td>11</td><td> 73</td><td>0</td><td> 464</td><td> 3</td><td>0</td><td>0</td><td> 3</td></tr>\n",
              "\t<tr><th scope=row>13</th><td>NBA</td><td>G Antetokounmpo </td><td>MIL</td><td>PF</td><td>63</td><td>1914</td><td>685</td><td>1238</td><td> 89</td><td>293</td><td>⋯</td><td> 61</td><td>230</td><td>66</td><td>195</td><td>5</td><td>1857</td><td> 3</td><td>0</td><td>0</td><td>63</td></tr>\n",
              "\t<tr><th scope=row>440</th><td>NBA</td><td>Toma Satoransky </td><td>CHI</td><td>PG</td><td>65</td><td>1879</td><td>237</td><td> 551</td><td> 64</td><td>199</td><td>⋯</td><td> 80</td><td>130</td><td> 7</td><td>135</td><td>1</td><td> 644</td><td> 1</td><td>0</td><td>0</td><td>64</td></tr>\n",
              "\t<tr><th scope=row>82</th><td>NBA</td><td>Jimmy Butler    </td><td>MIA</td><td>SF</td><td>58</td><td>1957</td><td>345</td><td> 759</td><td> 29</td><td>119</td><td>⋯</td><td>103</td><td>127</td><td>32</td><td> 81</td><td>0</td><td>1157</td><td> 4</td><td>0</td><td>0</td><td>58</td></tr>\n",
              "\t<tr><th scope=row>160</th><td>NBA</td><td>De'aaron Fox    </td><td>SAC</td><td>PG</td><td>51</td><td>1635</td><td>391</td><td> 815</td><td> 54</td><td>185</td><td>⋯</td><td> 74</td><td>158</td><td>25</td><td>145</td><td>1</td><td>1077</td><td> 5</td><td>0</td><td>0</td><td>49</td></tr>\n",
              "\t<tr><th scope=row>35</th><td>NBA</td><td>Bradley Beal    </td><td>WAS</td><td>SG</td><td>57</td><td>2051</td><td>593</td><td>1303</td><td>170</td><td>481</td><td>⋯</td><td> 71</td><td>194</td><td>23</td><td>126</td><td>0</td><td>1742</td><td> 7</td><td>0</td><td>0</td><td>57</td></tr>\n",
              "\t<tr><th scope=row>⋮</th><td>⋮</td><td>⋮</td><td>⋮</td><td>⋮</td><td>⋮</td><td>⋮</td><td>⋮</td><td>⋮</td><td>⋮</td><td>⋮</td><td>⋱</td><td>⋮</td><td>⋮</td><td>⋮</td><td>⋮</td><td>⋮</td><td>⋮</td><td>⋮</td><td>⋮</td><td>⋮</td><td>⋮</td></tr>\n",
              "\t<tr><th scope=row>73</th><td>NBA</td><td>Moses Brown     </td><td>POR</td><td>C </td><td> 7</td><td>31</td><td> 4</td><td>10</td><td>0</td><td>0</td><td>⋯</td><td>1</td><td>3</td><td>1</td><td> 7</td><td>0</td><td>11</td><td>0</td><td>0</td><td>0</td><td>0</td></tr>\n",
              "\t<tr><th scope=row>84</th><td>NBA</td><td>Devontae Cacok  </td><td>LAL</td><td>PF</td><td> 1</td><td> 9</td><td> 3</td><td> 6</td><td>0</td><td>0</td><td>⋯</td><td>0</td><td>0</td><td>0</td><td> 0</td><td>0</td><td> 6</td><td>0</td><td>0</td><td>0</td><td>0</td></tr>\n",
              "\t<tr><th scope=row>97</th><td>NBA</td><td>Joe Chealey     </td><td>CHA</td><td>PG</td><td> 4</td><td>33</td><td> 0</td><td> 7</td><td>0</td><td>4</td><td>⋯</td><td>4</td><td>2</td><td>0</td><td> 2</td><td>0</td><td> 2</td><td>0</td><td>0</td><td>0</td><td>0</td></tr>\n",
              "\t<tr><th scope=row>106</th><td>NBA</td><td>Anton Cleveland </td><td>DAL</td><td>SG</td><td>10</td><td>45</td><td> 4</td><td>14</td><td>0</td><td>3</td><td>⋯</td><td>1</td><td>2</td><td>3</td><td> 8</td><td>0</td><td>11</td><td>0</td><td>0</td><td>0</td><td>0</td></tr>\n",
              "\t<tr><th scope=row>113</th><td>NBA</td><td>Tyler Cook      </td><td>NA </td><td>PF</td><td>12</td><td>53</td><td> 8</td><td>12</td><td>0</td><td>0</td><td>⋯</td><td>3</td><td>3</td><td>0</td><td> 5</td><td>0</td><td>23</td><td>0</td><td>0</td><td>0</td><td>0</td></tr>\n",
              "\t<tr><th scope=row>144</th><td>NBA</td><td>Henry Ellenson  </td><td>BRO</td><td>PF</td><td> 5</td><td>15</td><td> 1</td><td> 7</td><td>0</td><td>4</td><td>⋯</td><td>0</td><td>0</td><td>0</td><td> 1</td><td>0</td><td> 2</td><td>0</td><td>0</td><td>0</td><td>0</td></tr>\n",
              "\t<tr><th scope=row>151</th><td>NBA</td><td>Tacko Fall      </td><td>BOS</td><td>C </td><td> 7</td><td>34</td><td>11</td><td>14</td><td>0</td><td>0</td><td>⋯</td><td>2</td><td>3</td><td>4</td><td> 7</td><td>0</td><td>23</td><td>0</td><td>0</td><td>0</td><td>0</td></tr>\n",
              "\t<tr><th scope=row>192</th><td>NBA</td><td>Kyle Guy        </td><td>SAC</td><td>PG</td><td> 3</td><td>10</td><td> 2</td><td> 5</td><td>0</td><td>3</td><td>⋯</td><td>0</td><td>0</td><td>0</td><td> 1</td><td>0</td><td> 4</td><td>0</td><td>0</td><td>0</td><td>0</td></tr>\n",
              "\t<tr><th scope=row>208</th><td>NBA</td><td>Udonis Haslem   </td><td>MIA</td><td>PF</td><td> 4</td><td>45</td><td> 4</td><td>11</td><td>1</td><td>3</td><td>⋯</td><td>0</td><td>1</td><td>0</td><td> 6</td><td>0</td><td>12</td><td>0</td><td>0</td><td>0</td><td>1</td></tr>\n",
              "\t<tr><th scope=row>232</th><td>NBA</td><td>William Howard  </td><td>HOU</td><td>SF</td><td> 2</td><td>13</td><td> 0</td><td> 4</td><td>0</td><td>4</td><td>⋯</td><td>0</td><td>1</td><td>0</td><td> 1</td><td>0</td><td> 0</td><td>0</td><td>0</td><td>0</td><td>0</td></tr>\n",
              "\t<tr><th scope=row>271</th><td>NBA</td><td>Stanton Kidd    </td><td>UTA</td><td>PF</td><td> 4</td><td>15</td><td> 0</td><td> 3</td><td>0</td><td>1</td><td>⋯</td><td>0</td><td>2</td><td>0</td><td> 3</td><td>0</td><td> 0</td><td>0</td><td>0</td><td>0</td><td>0</td></tr>\n",
              "\t<tr><th scope=row>306</th><td>NBA</td><td>Daryl Macon     </td><td>MIA</td><td>PG</td><td> 4</td><td>14</td><td> 1</td><td> 3</td><td>1</td><td>2</td><td>⋯</td><td>0</td><td>2</td><td>0</td><td> 1</td><td>0</td><td> 3</td><td>0</td><td>0</td><td>0</td><td>0</td></tr>\n",
              "\t<tr><th scope=row>347</th><td>NBA</td><td>Matt Mooney     </td><td>CLE</td><td>PG</td><td> 4</td><td>19</td><td> 1</td><td> 4</td><td>0</td><td>2</td><td>⋯</td><td>2</td><td>0</td><td>1</td><td> 1</td><td>0</td><td> 2</td><td>0</td><td>0</td><td>0</td><td>0</td></tr>\n",
              "\t<tr><th scope=row>382</th><td>NBA</td><td>Kz Okpala       </td><td>MIA</td><td>SF</td><td> 5</td><td>25</td><td> 3</td><td> 5</td><td>0</td><td>1</td><td>⋯</td><td>2</td><td>1</td><td>1</td><td> 2</td><td>0</td><td> 7</td><td>0</td><td>0</td><td>0</td><td>0</td></tr>\n",
              "\t<tr><th scope=row>447</th><td>NBA</td><td>Marial Shayok   </td><td>PHI</td><td>SF</td><td> 4</td><td>28</td><td> 3</td><td>12</td><td>2</td><td>6</td><td>⋯</td><td>0</td><td>3</td><td>1</td><td> 4</td><td>0</td><td>11</td><td>0</td><td>0</td><td>0</td><td>0</td></tr>\n",
              "\t<tr><th scope=row>4</th><td>NBA</td><td>Kyle Alexander  </td><td>MIA</td><td>PF</td><td> 2</td><td>13</td><td> 1</td><td> 2</td><td>0</td><td>0</td><td>⋯</td><td>0</td><td>1</td><td>0</td><td> 1</td><td>0</td><td> 2</td><td>0</td><td>0</td><td>0</td><td>0</td></tr>\n",
              "\t<tr><th scope=row>51</th><td>NBA</td><td>Jonah Bolden    </td><td>PHO</td><td>PF</td><td> 7</td><td>47</td><td> 4</td><td>11</td><td>0</td><td>4</td><td>⋯</td><td>3</td><td>2</td><td>2</td><td>10</td><td>0</td><td>10</td><td>0</td><td>0</td><td>0</td><td>0</td></tr>\n",
              "\t<tr><th scope=row>52</th><td>NBA</td><td>Marques Bolden  </td><td>CLE</td><td>C </td><td> 1</td><td> 3</td><td> 0</td><td> 0</td><td>0</td><td>0</td><td>⋯</td><td>1</td><td>0</td><td>0</td><td> 1</td><td>0</td><td> 0</td><td>0</td><td>0</td><td>0</td><td>0</td></tr>\n",
              "\t<tr><th scope=row>57</th><td>NBA</td><td>Brian Bowen     </td><td>IND</td><td>SG</td><td> 6</td><td>31</td><td> 3</td><td>10</td><td>0</td><td>2</td><td>⋯</td><td>0</td><td>1</td><td>1</td><td> 3</td><td>0</td><td> 6</td><td>0</td><td>0</td><td>0</td><td>1</td></tr>\n",
              "\t<tr><th scope=row>196</th><td>NBA</td><td>Dusty Hannahs   </td><td>MEM</td><td>SF</td><td> 2</td><td>13</td><td> 4</td><td> 9</td><td>2</td><td>3</td><td>⋯</td><td>0</td><td>0</td><td>0</td><td> 1</td><td>0</td><td>12</td><td>0</td><td>0</td><td>0</td><td>0</td></tr>\n",
              "\t<tr><th scope=row>200</th><td>NBA</td><td>Jared Harper    </td><td>PHO</td><td>PG</td><td> 3</td><td> 8</td><td> 1</td><td> 4</td><td>0</td><td>2</td><td>⋯</td><td>0</td><td>0</td><td>0</td><td> 0</td><td>0</td><td> 2</td><td>0</td><td>0</td><td>0</td><td>0</td></tr>\n",
              "\t<tr><th scope=row>307</th><td>NBA</td><td>J.p. Macura     </td><td>CLE</td><td>SG</td><td> 1</td><td> 1</td><td> 0</td><td> 0</td><td>0</td><td>0</td><td>⋯</td><td>0</td><td>0</td><td>0</td><td> 0</td><td>0</td><td> 0</td><td>0</td><td>0</td><td>0</td><td>0</td></tr>\n",
              "\t<tr><th scope=row>321</th><td>NBA</td><td>Luc Mbah_a_moute</td><td>HOU</td><td>SF</td><td> 3</td><td>25</td><td> 2</td><td> 5</td><td>0</td><td>2</td><td>⋯</td><td>2</td><td>1</td><td>0</td><td> 0</td><td>0</td><td> 5</td><td>0</td><td>0</td><td>0</td><td>0</td></tr>\n",
              "\t<tr><th scope=row>337</th><td>NBA</td><td>Eric Mika       </td><td>SAC</td><td>C </td><td> 1</td><td>19</td><td> 2</td><td> 3</td><td>0</td><td>0</td><td>⋯</td><td>0</td><td>0</td><td>0</td><td> 5</td><td>0</td><td> 6</td><td>0</td><td>0</td><td>0</td><td>0</td></tr>\n",
              "\t<tr><th scope=row>366</th><td>NBA</td><td>Malik Newman    </td><td>CLE</td><td>SG</td><td> 1</td><td> 4</td><td> 0</td><td> 2</td><td>0</td><td>1</td><td>⋯</td><td>0</td><td>1</td><td>0</td><td> 0</td><td>0</td><td> 2</td><td>0</td><td>0</td><td>0</td><td>0</td></tr>\n",
              "\t<tr><th scope=row>388</th><td>NBA</td><td>Tariq Owens     </td><td>PHO</td><td>PF</td><td> 3</td><td>16</td><td> 1</td><td> 5</td><td>0</td><td>2</td><td>⋯</td><td>1</td><td>0</td><td>0</td><td> 1</td><td>0</td><td> 4</td><td>0</td><td>0</td><td>0</td><td>0</td></tr>\n",
              "\t<tr><th scope=row>429</th><td>NBA</td><td>Isaiah Roby     </td><td>OKL</td><td>PF</td><td> 3</td><td>11</td><td> 0</td><td> 1</td><td>0</td><td>0</td><td>⋯</td><td>0</td><td>1</td><td>0</td><td> 1</td><td>0</td><td> 0</td><td>0</td><td>0</td><td>0</td><td>0</td></tr>\n",
              "\t<tr><th scope=row>461</th><td>NBA</td><td>Max Strus       </td><td>CHI</td><td>SG</td><td> 2</td><td> 6</td><td> 2</td><td> 3</td><td>0</td><td>1</td><td>⋯</td><td>0</td><td>0</td><td>0</td><td> 1</td><td>0</td><td> 5</td><td>0</td><td>0</td><td>0</td><td>0</td></tr>\n",
              "\t<tr><th scope=row>484</th><td>NBA</td><td>Jared Uthoff    </td><td>NA </td><td>SF</td><td> 7</td><td>52</td><td> 7</td><td>18</td><td>3</td><td>9</td><td>⋯</td><td>1</td><td>0</td><td>0</td><td> 2</td><td>0</td><td>19</td><td>0</td><td>0</td><td>0</td><td>0</td></tr>\n",
              "\t<tr><th scope=row>527</th><td>NBA</td><td>Tyler Zeller    </td><td>SAN</td><td>C </td><td> 1</td><td> 4</td><td> 1</td><td> 4</td><td>0</td><td>0</td><td>⋯</td><td>0</td><td>0</td><td>0</td><td> 0</td><td>0</td><td> 2</td><td>0</td><td>0</td><td>0</td><td>0</td></tr>\n",
              "</tbody>\n",
              "</table>\n"
            ]
          },
          "metadata": {
            "tags": []
          }
        }
      ]
    },
    {
      "cell_type": "code",
      "metadata": {
        "id": "ldbIX334mjSo",
        "outputId": "43cc241e-81fa-4112-a46c-d30b9cb912c9",
        "colab": {
          "base_uri": "https://localhost:8080/",
          "height": 554
        }
      },
      "source": [
        "subset(NBA1920,Team==\"GSW\")"
      ],
      "execution_count": 54,
      "outputs": [
        {
          "output_type": "display_data",
          "data": {
            "text/plain": [
              "    League Name            Team Position GamesPlayed TotalMinutesPlayed\n",
              "40  NBA    Dragan Bender   GSW  SF       16           285              \n",
              "58  NBA    Ky Bowman       GSW  PG       45          1017              \n",
              "100 NBA    Marquese Chriss GSW  PF       59          1197              \n",
              "121 NBA    Stephen Curry   GSW  SG        5           139              \n",
              "186 NBA    Draymond Green  GSW  PF       43          1217              \n",
              "292 NBA    Damion Lee      GSW  SG       49          1421              \n",
              "299 NBA    Kevon Looney    GSW  PF       20           260              \n",
              "356 NBA    Mychal Mulder   GSW  PG        7           204              \n",
              "370 NBA    Zach Norvell    GSW  SG        5            41              \n",
              "389 NBA    Jeremy Pargo    GSW  PG        3            44              \n",
              "392 NBA    Eric Paschall   GSW  PF       60          1654              \n",
              "406 NBA    Jordan Poole    GSW  SG       57          1277              \n",
              "415 NBA    Chasson Randle  GSW  PG        3            41              \n",
              "453 NBA    Alen Smailagic  GSW  PF       14           139              \n",
              "460 NBA    Omari Spellman  GSW  PF       49           886              \n",
              "476 NBA    Toscano-anderso GSW  SF       13           273              \n",
              "510 NBA    Andrew Wiggins  GSW  SF       54          1857              \n",
              "    FieldGoalsMade FieldGoalsAttempted ThreesMade ThreesAttempted ⋯ Steals\n",
              "40   41             92                  15         43             ⋯  4    \n",
              "58  134            321                  33        107             ⋯ 45    \n",
              "100 210            386                   8         39             ⋯ 39    \n",
              "121  33             82                  12         49             ⋯  5    \n",
              "186 123            315                  36        129             ⋯ 59    \n",
              "292 213            510                  85        239             ⋯ 50    \n",
              "299  29             79                   1         14             ⋯ 12    \n",
              "356  26             67                  16         52             ⋯  2    \n",
              "370   3             12                   3          8             ⋯  2    \n",
              "389  11             22                   3          7             ⋯  1    \n",
              "392 318            641                  37        129             ⋯ 32    \n",
              "406 167            502                  74        265             ⋯ 34    \n",
              "415   0              4                   0          2             ⋯  2    \n",
              "453  20             40                   3         13             ⋯  3    \n",
              "460 127            295                  43        110             ⋯ 32    \n",
              "476  29             63                   8         23             ⋯ 13    \n",
              "510 437            978                 111        334             ⋯ 45    \n",
              "    Turnovers Blocks PersonalFouls Disqualifications TotalPoints Technicals\n",
              "40   21        9      42           1                  107         0        \n",
              "58   70       10     102           0                  335         1        \n",
              "100  79       62     122           0                  548         6        \n",
              "121  16        2      11           0                  104         1        \n",
              "186  98       33     110           0                  345        13        \n",
              "292  67        6     116           2                  621         0        \n",
              "299  13        6      34           0                   68         0        \n",
              "356   5        1      20           0                   77         0        \n",
              "370   3        0       4           0                   10         0        \n",
              "389   4        0       8           0                   25         0        \n",
              "392  94       13     125           2                  837         0        \n",
              "406  72       10      94           0                  503         2        \n",
              "415   0        0       3           0                    5         0        \n",
              "453  11        4      14           0                   59         0        \n",
              "460  53       25      63           0                  370         0        \n",
              "476  16        5      30           1                   69         0        \n",
              "510 131       52     127           1                 1175         1        \n",
              "    Ejections FlagrantFouls GamesStarted\n",
              "40  0         0              3          \n",
              "58  0         0             12          \n",
              "100 0         0             21          \n",
              "121 0         0              5          \n",
              "186 0         0             43          \n",
              "292 0         0             36          \n",
              "299 0         0              4          \n",
              "356 0         0              3          \n",
              "370 0         0              0          \n",
              "389 0         0              0          \n",
              "392 0         0             26          \n",
              "406 0         0             14          \n",
              "415 0         0              0          \n",
              "453 0         0              0          \n",
              "460 0         0              3          \n",
              "476 0         0              6          \n",
              "510 0         0             54          "
            ],
            "text/latex": "A data.frame: 17 × 25\n\\begin{tabular}{r|lllllllllllllllllllll}\n  & League & Name & Team & Position & GamesPlayed & TotalMinutesPlayed & FieldGoalsMade & FieldGoalsAttempted & ThreesMade & ThreesAttempted & ⋯ & Steals & Turnovers & Blocks & PersonalFouls & Disqualifications & TotalPoints & Technicals & Ejections & FlagrantFouls & GamesStarted\\\\\n  & <fct> & <chr> & <fct> & <fct> & <int> & <int> & <int> & <int> & <int> & <int> & ⋯ & <int> & <int> & <int> & <int> & <int> & <int> & <int> & <int> & <int> & <int>\\\\\n\\hline\n\t40 & NBA & Dragan Bender   & GSW & SF & 16 &  285 &  41 &  92 &  15 &  43 & ⋯ &  4 &  21 &  9 &  42 & 1 &  107 &  0 & 0 & 0 &  3\\\\\n\t58 & NBA & Ky Bowman       & GSW & PG & 45 & 1017 & 134 & 321 &  33 & 107 & ⋯ & 45 &  70 & 10 & 102 & 0 &  335 &  1 & 0 & 0 & 12\\\\\n\t100 & NBA & Marquese Chriss & GSW & PF & 59 & 1197 & 210 & 386 &   8 &  39 & ⋯ & 39 &  79 & 62 & 122 & 0 &  548 &  6 & 0 & 0 & 21\\\\\n\t121 & NBA & Stephen Curry   & GSW & SG &  5 &  139 &  33 &  82 &  12 &  49 & ⋯ &  5 &  16 &  2 &  11 & 0 &  104 &  1 & 0 & 0 &  5\\\\\n\t186 & NBA & Draymond Green  & GSW & PF & 43 & 1217 & 123 & 315 &  36 & 129 & ⋯ & 59 &  98 & 33 & 110 & 0 &  345 & 13 & 0 & 0 & 43\\\\\n\t292 & NBA & Damion Lee      & GSW & SG & 49 & 1421 & 213 & 510 &  85 & 239 & ⋯ & 50 &  67 &  6 & 116 & 2 &  621 &  0 & 0 & 0 & 36\\\\\n\t299 & NBA & Kevon Looney    & GSW & PF & 20 &  260 &  29 &  79 &   1 &  14 & ⋯ & 12 &  13 &  6 &  34 & 0 &   68 &  0 & 0 & 0 &  4\\\\\n\t356 & NBA & Mychal Mulder   & GSW & PG &  7 &  204 &  26 &  67 &  16 &  52 & ⋯ &  2 &   5 &  1 &  20 & 0 &   77 &  0 & 0 & 0 &  3\\\\\n\t370 & NBA & Zach Norvell    & GSW & SG &  5 &   41 &   3 &  12 &   3 &   8 & ⋯ &  2 &   3 &  0 &   4 & 0 &   10 &  0 & 0 & 0 &  0\\\\\n\t389 & NBA & Jeremy Pargo    & GSW & PG &  3 &   44 &  11 &  22 &   3 &   7 & ⋯ &  1 &   4 &  0 &   8 & 0 &   25 &  0 & 0 & 0 &  0\\\\\n\t392 & NBA & Eric Paschall   & GSW & PF & 60 & 1654 & 318 & 641 &  37 & 129 & ⋯ & 32 &  94 & 13 & 125 & 2 &  837 &  0 & 0 & 0 & 26\\\\\n\t406 & NBA & Jordan Poole    & GSW & SG & 57 & 1277 & 167 & 502 &  74 & 265 & ⋯ & 34 &  72 & 10 &  94 & 0 &  503 &  2 & 0 & 0 & 14\\\\\n\t415 & NBA & Chasson Randle  & GSW & PG &  3 &   41 &   0 &   4 &   0 &   2 & ⋯ &  2 &   0 &  0 &   3 & 0 &    5 &  0 & 0 & 0 &  0\\\\\n\t453 & NBA & Alen Smailagic  & GSW & PF & 14 &  139 &  20 &  40 &   3 &  13 & ⋯ &  3 &  11 &  4 &  14 & 0 &   59 &  0 & 0 & 0 &  0\\\\\n\t460 & NBA & Omari Spellman  & GSW & PF & 49 &  886 & 127 & 295 &  43 & 110 & ⋯ & 32 &  53 & 25 &  63 & 0 &  370 &  0 & 0 & 0 &  3\\\\\n\t476 & NBA & Toscano-anderso & GSW & SF & 13 &  273 &  29 &  63 &   8 &  23 & ⋯ & 13 &  16 &  5 &  30 & 1 &   69 &  0 & 0 & 0 &  6\\\\\n\t510 & NBA & Andrew Wiggins  & GSW & SF & 54 & 1857 & 437 & 978 & 111 & 334 & ⋯ & 45 & 131 & 52 & 127 & 1 & 1175 &  1 & 0 & 0 & 54\\\\\n\\end{tabular}\n",
            "text/markdown": "\nA data.frame: 17 × 25\n\n| <!--/--> | League &lt;fct&gt; | Name &lt;chr&gt; | Team &lt;fct&gt; | Position &lt;fct&gt; | GamesPlayed &lt;int&gt; | TotalMinutesPlayed &lt;int&gt; | FieldGoalsMade &lt;int&gt; | FieldGoalsAttempted &lt;int&gt; | ThreesMade &lt;int&gt; | ThreesAttempted &lt;int&gt; | ⋯ ⋯ | Steals &lt;int&gt; | Turnovers &lt;int&gt; | Blocks &lt;int&gt; | PersonalFouls &lt;int&gt; | Disqualifications &lt;int&gt; | TotalPoints &lt;int&gt; | Technicals &lt;int&gt; | Ejections &lt;int&gt; | FlagrantFouls &lt;int&gt; | GamesStarted &lt;int&gt; |\n|---|---|---|---|---|---|---|---|---|---|---|---|---|---|---|---|---|---|---|---|---|---|\n| 40 | NBA | Dragan Bender   | GSW | SF | 16 |  285 |  41 |  92 |  15 |  43 | ⋯ |  4 |  21 |  9 |  42 | 1 |  107 |  0 | 0 | 0 |  3 |\n| 58 | NBA | Ky Bowman       | GSW | PG | 45 | 1017 | 134 | 321 |  33 | 107 | ⋯ | 45 |  70 | 10 | 102 | 0 |  335 |  1 | 0 | 0 | 12 |\n| 100 | NBA | Marquese Chriss | GSW | PF | 59 | 1197 | 210 | 386 |   8 |  39 | ⋯ | 39 |  79 | 62 | 122 | 0 |  548 |  6 | 0 | 0 | 21 |\n| 121 | NBA | Stephen Curry   | GSW | SG |  5 |  139 |  33 |  82 |  12 |  49 | ⋯ |  5 |  16 |  2 |  11 | 0 |  104 |  1 | 0 | 0 |  5 |\n| 186 | NBA | Draymond Green  | GSW | PF | 43 | 1217 | 123 | 315 |  36 | 129 | ⋯ | 59 |  98 | 33 | 110 | 0 |  345 | 13 | 0 | 0 | 43 |\n| 292 | NBA | Damion Lee      | GSW | SG | 49 | 1421 | 213 | 510 |  85 | 239 | ⋯ | 50 |  67 |  6 | 116 | 2 |  621 |  0 | 0 | 0 | 36 |\n| 299 | NBA | Kevon Looney    | GSW | PF | 20 |  260 |  29 |  79 |   1 |  14 | ⋯ | 12 |  13 |  6 |  34 | 0 |   68 |  0 | 0 | 0 |  4 |\n| 356 | NBA | Mychal Mulder   | GSW | PG |  7 |  204 |  26 |  67 |  16 |  52 | ⋯ |  2 |   5 |  1 |  20 | 0 |   77 |  0 | 0 | 0 |  3 |\n| 370 | NBA | Zach Norvell    | GSW | SG |  5 |   41 |   3 |  12 |   3 |   8 | ⋯ |  2 |   3 |  0 |   4 | 0 |   10 |  0 | 0 | 0 |  0 |\n| 389 | NBA | Jeremy Pargo    | GSW | PG |  3 |   44 |  11 |  22 |   3 |   7 | ⋯ |  1 |   4 |  0 |   8 | 0 |   25 |  0 | 0 | 0 |  0 |\n| 392 | NBA | Eric Paschall   | GSW | PF | 60 | 1654 | 318 | 641 |  37 | 129 | ⋯ | 32 |  94 | 13 | 125 | 2 |  837 |  0 | 0 | 0 | 26 |\n| 406 | NBA | Jordan Poole    | GSW | SG | 57 | 1277 | 167 | 502 |  74 | 265 | ⋯ | 34 |  72 | 10 |  94 | 0 |  503 |  2 | 0 | 0 | 14 |\n| 415 | NBA | Chasson Randle  | GSW | PG |  3 |   41 |   0 |   4 |   0 |   2 | ⋯ |  2 |   0 |  0 |   3 | 0 |    5 |  0 | 0 | 0 |  0 |\n| 453 | NBA | Alen Smailagic  | GSW | PF | 14 |  139 |  20 |  40 |   3 |  13 | ⋯ |  3 |  11 |  4 |  14 | 0 |   59 |  0 | 0 | 0 |  0 |\n| 460 | NBA | Omari Spellman  | GSW | PF | 49 |  886 | 127 | 295 |  43 | 110 | ⋯ | 32 |  53 | 25 |  63 | 0 |  370 |  0 | 0 | 0 |  3 |\n| 476 | NBA | Toscano-anderso | GSW | SF | 13 |  273 |  29 |  63 |   8 |  23 | ⋯ | 13 |  16 |  5 |  30 | 1 |   69 |  0 | 0 | 0 |  6 |\n| 510 | NBA | Andrew Wiggins  | GSW | SF | 54 | 1857 | 437 | 978 | 111 | 334 | ⋯ | 45 | 131 | 52 | 127 | 1 | 1175 |  1 | 0 | 0 | 54 |\n\n",
            "text/html": [
              "<table>\n",
              "<caption>A data.frame: 17 × 25</caption>\n",
              "<thead>\n",
              "\t<tr><th></th><th scope=col>League</th><th scope=col>Name</th><th scope=col>Team</th><th scope=col>Position</th><th scope=col>GamesPlayed</th><th scope=col>TotalMinutesPlayed</th><th scope=col>FieldGoalsMade</th><th scope=col>FieldGoalsAttempted</th><th scope=col>ThreesMade</th><th scope=col>ThreesAttempted</th><th scope=col>⋯</th><th scope=col>Steals</th><th scope=col>Turnovers</th><th scope=col>Blocks</th><th scope=col>PersonalFouls</th><th scope=col>Disqualifications</th><th scope=col>TotalPoints</th><th scope=col>Technicals</th><th scope=col>Ejections</th><th scope=col>FlagrantFouls</th><th scope=col>GamesStarted</th></tr>\n",
              "\t<tr><th></th><th scope=col>&lt;fct&gt;</th><th scope=col>&lt;chr&gt;</th><th scope=col>&lt;fct&gt;</th><th scope=col>&lt;fct&gt;</th><th scope=col>&lt;int&gt;</th><th scope=col>&lt;int&gt;</th><th scope=col>&lt;int&gt;</th><th scope=col>&lt;int&gt;</th><th scope=col>&lt;int&gt;</th><th scope=col>&lt;int&gt;</th><th scope=col>⋯</th><th scope=col>&lt;int&gt;</th><th scope=col>&lt;int&gt;</th><th scope=col>&lt;int&gt;</th><th scope=col>&lt;int&gt;</th><th scope=col>&lt;int&gt;</th><th scope=col>&lt;int&gt;</th><th scope=col>&lt;int&gt;</th><th scope=col>&lt;int&gt;</th><th scope=col>&lt;int&gt;</th><th scope=col>&lt;int&gt;</th></tr>\n",
              "</thead>\n",
              "<tbody>\n",
              "\t<tr><th scope=row>40</th><td>NBA</td><td>Dragan Bender  </td><td>GSW</td><td>SF</td><td>16</td><td> 285</td><td> 41</td><td> 92</td><td> 15</td><td> 43</td><td>⋯</td><td> 4</td><td> 21</td><td> 9</td><td> 42</td><td>1</td><td> 107</td><td> 0</td><td>0</td><td>0</td><td> 3</td></tr>\n",
              "\t<tr><th scope=row>58</th><td>NBA</td><td>Ky Bowman      </td><td>GSW</td><td>PG</td><td>45</td><td>1017</td><td>134</td><td>321</td><td> 33</td><td>107</td><td>⋯</td><td>45</td><td> 70</td><td>10</td><td>102</td><td>0</td><td> 335</td><td> 1</td><td>0</td><td>0</td><td>12</td></tr>\n",
              "\t<tr><th scope=row>100</th><td>NBA</td><td>Marquese Chriss</td><td>GSW</td><td>PF</td><td>59</td><td>1197</td><td>210</td><td>386</td><td>  8</td><td> 39</td><td>⋯</td><td>39</td><td> 79</td><td>62</td><td>122</td><td>0</td><td> 548</td><td> 6</td><td>0</td><td>0</td><td>21</td></tr>\n",
              "\t<tr><th scope=row>121</th><td>NBA</td><td>Stephen Curry  </td><td>GSW</td><td>SG</td><td> 5</td><td> 139</td><td> 33</td><td> 82</td><td> 12</td><td> 49</td><td>⋯</td><td> 5</td><td> 16</td><td> 2</td><td> 11</td><td>0</td><td> 104</td><td> 1</td><td>0</td><td>0</td><td> 5</td></tr>\n",
              "\t<tr><th scope=row>186</th><td>NBA</td><td>Draymond Green </td><td>GSW</td><td>PF</td><td>43</td><td>1217</td><td>123</td><td>315</td><td> 36</td><td>129</td><td>⋯</td><td>59</td><td> 98</td><td>33</td><td>110</td><td>0</td><td> 345</td><td>13</td><td>0</td><td>0</td><td>43</td></tr>\n",
              "\t<tr><th scope=row>292</th><td>NBA</td><td>Damion Lee     </td><td>GSW</td><td>SG</td><td>49</td><td>1421</td><td>213</td><td>510</td><td> 85</td><td>239</td><td>⋯</td><td>50</td><td> 67</td><td> 6</td><td>116</td><td>2</td><td> 621</td><td> 0</td><td>0</td><td>0</td><td>36</td></tr>\n",
              "\t<tr><th scope=row>299</th><td>NBA</td><td>Kevon Looney   </td><td>GSW</td><td>PF</td><td>20</td><td> 260</td><td> 29</td><td> 79</td><td>  1</td><td> 14</td><td>⋯</td><td>12</td><td> 13</td><td> 6</td><td> 34</td><td>0</td><td>  68</td><td> 0</td><td>0</td><td>0</td><td> 4</td></tr>\n",
              "\t<tr><th scope=row>356</th><td>NBA</td><td>Mychal Mulder  </td><td>GSW</td><td>PG</td><td> 7</td><td> 204</td><td> 26</td><td> 67</td><td> 16</td><td> 52</td><td>⋯</td><td> 2</td><td>  5</td><td> 1</td><td> 20</td><td>0</td><td>  77</td><td> 0</td><td>0</td><td>0</td><td> 3</td></tr>\n",
              "\t<tr><th scope=row>370</th><td>NBA</td><td>Zach Norvell   </td><td>GSW</td><td>SG</td><td> 5</td><td>  41</td><td>  3</td><td> 12</td><td>  3</td><td>  8</td><td>⋯</td><td> 2</td><td>  3</td><td> 0</td><td>  4</td><td>0</td><td>  10</td><td> 0</td><td>0</td><td>0</td><td> 0</td></tr>\n",
              "\t<tr><th scope=row>389</th><td>NBA</td><td>Jeremy Pargo   </td><td>GSW</td><td>PG</td><td> 3</td><td>  44</td><td> 11</td><td> 22</td><td>  3</td><td>  7</td><td>⋯</td><td> 1</td><td>  4</td><td> 0</td><td>  8</td><td>0</td><td>  25</td><td> 0</td><td>0</td><td>0</td><td> 0</td></tr>\n",
              "\t<tr><th scope=row>392</th><td>NBA</td><td>Eric Paschall  </td><td>GSW</td><td>PF</td><td>60</td><td>1654</td><td>318</td><td>641</td><td> 37</td><td>129</td><td>⋯</td><td>32</td><td> 94</td><td>13</td><td>125</td><td>2</td><td> 837</td><td> 0</td><td>0</td><td>0</td><td>26</td></tr>\n",
              "\t<tr><th scope=row>406</th><td>NBA</td><td>Jordan Poole   </td><td>GSW</td><td>SG</td><td>57</td><td>1277</td><td>167</td><td>502</td><td> 74</td><td>265</td><td>⋯</td><td>34</td><td> 72</td><td>10</td><td> 94</td><td>0</td><td> 503</td><td> 2</td><td>0</td><td>0</td><td>14</td></tr>\n",
              "\t<tr><th scope=row>415</th><td>NBA</td><td>Chasson Randle </td><td>GSW</td><td>PG</td><td> 3</td><td>  41</td><td>  0</td><td>  4</td><td>  0</td><td>  2</td><td>⋯</td><td> 2</td><td>  0</td><td> 0</td><td>  3</td><td>0</td><td>   5</td><td> 0</td><td>0</td><td>0</td><td> 0</td></tr>\n",
              "\t<tr><th scope=row>453</th><td>NBA</td><td>Alen Smailagic </td><td>GSW</td><td>PF</td><td>14</td><td> 139</td><td> 20</td><td> 40</td><td>  3</td><td> 13</td><td>⋯</td><td> 3</td><td> 11</td><td> 4</td><td> 14</td><td>0</td><td>  59</td><td> 0</td><td>0</td><td>0</td><td> 0</td></tr>\n",
              "\t<tr><th scope=row>460</th><td>NBA</td><td>Omari Spellman </td><td>GSW</td><td>PF</td><td>49</td><td> 886</td><td>127</td><td>295</td><td> 43</td><td>110</td><td>⋯</td><td>32</td><td> 53</td><td>25</td><td> 63</td><td>0</td><td> 370</td><td> 0</td><td>0</td><td>0</td><td> 3</td></tr>\n",
              "\t<tr><th scope=row>476</th><td>NBA</td><td>Toscano-anderso</td><td>GSW</td><td>SF</td><td>13</td><td> 273</td><td> 29</td><td> 63</td><td>  8</td><td> 23</td><td>⋯</td><td>13</td><td> 16</td><td> 5</td><td> 30</td><td>1</td><td>  69</td><td> 0</td><td>0</td><td>0</td><td> 6</td></tr>\n",
              "\t<tr><th scope=row>510</th><td>NBA</td><td>Andrew Wiggins </td><td>GSW</td><td>SF</td><td>54</td><td>1857</td><td>437</td><td>978</td><td>111</td><td>334</td><td>⋯</td><td>45</td><td>131</td><td>52</td><td>127</td><td>1</td><td>1175</td><td> 1</td><td>0</td><td>0</td><td>54</td></tr>\n",
              "</tbody>\n",
              "</table>\n"
            ]
          },
          "metadata": {
            "tags": []
          }
        }
      ]
    },
    {
      "cell_type": "code",
      "metadata": {
        "id": "XvpZBUciny84",
        "outputId": "b6e720fb-ca60-423a-b7b0-ab77f659d059",
        "colab": {
          "base_uri": "https://localhost:8080/",
          "height": 202
        }
      },
      "source": [
        "NBA1920[grepl(\"Curry\",NBA1920$Name),]\n",
        "NBA1920[grepl(\"Doncic\",NBA1920$Name),]"
      ],
      "execution_count": 60,
      "outputs": [
        {
          "output_type": "display_data",
          "data": {
            "text/plain": [
              "    League Name          Team Position GamesPlayed TotalMinutesPlayed\n",
              "120 NBA    Seth Curry    DAL  PG       64          1576              \n",
              "121 NBA    Stephen Curry GSW  SG        5           139              \n",
              "    FieldGoalsMade FieldGoalsAttempted ThreesMade ThreesAttempted ⋯ Steals\n",
              "120 284            574                 145        321             ⋯ 38    \n",
              "121  33             82                  12         49             ⋯  5    \n",
              "    Turnovers Blocks PersonalFouls Disqualifications TotalPoints Technicals\n",
              "120 62        9      113           1                 793         0         \n",
              "121 16        2       11           0                 104         1         \n",
              "    Ejections FlagrantFouls GamesStarted\n",
              "120 0         0             25          \n",
              "121 0         0              5          "
            ],
            "text/latex": "A data.frame: 2 × 25\n\\begin{tabular}{r|lllllllllllllllllllll}\n  & League & Name & Team & Position & GamesPlayed & TotalMinutesPlayed & FieldGoalsMade & FieldGoalsAttempted & ThreesMade & ThreesAttempted & ⋯ & Steals & Turnovers & Blocks & PersonalFouls & Disqualifications & TotalPoints & Technicals & Ejections & FlagrantFouls & GamesStarted\\\\\n  & <fct> & <chr> & <fct> & <fct> & <int> & <int> & <int> & <int> & <int> & <int> & ⋯ & <int> & <int> & <int> & <int> & <int> & <int> & <int> & <int> & <int> & <int>\\\\\n\\hline\n\t120 & NBA & Seth Curry    & DAL & PG & 64 & 1576 & 284 & 574 & 145 & 321 & ⋯ & 38 & 62 & 9 & 113 & 1 & 793 & 0 & 0 & 0 & 25\\\\\n\t121 & NBA & Stephen Curry & GSW & SG &  5 &  139 &  33 &  82 &  12 &  49 & ⋯ &  5 & 16 & 2 &  11 & 0 & 104 & 1 & 0 & 0 &  5\\\\\n\\end{tabular}\n",
            "text/markdown": "\nA data.frame: 2 × 25\n\n| <!--/--> | League &lt;fct&gt; | Name &lt;chr&gt; | Team &lt;fct&gt; | Position &lt;fct&gt; | GamesPlayed &lt;int&gt; | TotalMinutesPlayed &lt;int&gt; | FieldGoalsMade &lt;int&gt; | FieldGoalsAttempted &lt;int&gt; | ThreesMade &lt;int&gt; | ThreesAttempted &lt;int&gt; | ⋯ ⋯ | Steals &lt;int&gt; | Turnovers &lt;int&gt; | Blocks &lt;int&gt; | PersonalFouls &lt;int&gt; | Disqualifications &lt;int&gt; | TotalPoints &lt;int&gt; | Technicals &lt;int&gt; | Ejections &lt;int&gt; | FlagrantFouls &lt;int&gt; | GamesStarted &lt;int&gt; |\n|---|---|---|---|---|---|---|---|---|---|---|---|---|---|---|---|---|---|---|---|---|---|\n| 120 | NBA | Seth Curry    | DAL | PG | 64 | 1576 | 284 | 574 | 145 | 321 | ⋯ | 38 | 62 | 9 | 113 | 1 | 793 | 0 | 0 | 0 | 25 |\n| 121 | NBA | Stephen Curry | GSW | SG |  5 |  139 |  33 |  82 |  12 |  49 | ⋯ |  5 | 16 | 2 |  11 | 0 | 104 | 1 | 0 | 0 |  5 |\n\n",
            "text/html": [
              "<table>\n",
              "<caption>A data.frame: 2 × 25</caption>\n",
              "<thead>\n",
              "\t<tr><th></th><th scope=col>League</th><th scope=col>Name</th><th scope=col>Team</th><th scope=col>Position</th><th scope=col>GamesPlayed</th><th scope=col>TotalMinutesPlayed</th><th scope=col>FieldGoalsMade</th><th scope=col>FieldGoalsAttempted</th><th scope=col>ThreesMade</th><th scope=col>ThreesAttempted</th><th scope=col>⋯</th><th scope=col>Steals</th><th scope=col>Turnovers</th><th scope=col>Blocks</th><th scope=col>PersonalFouls</th><th scope=col>Disqualifications</th><th scope=col>TotalPoints</th><th scope=col>Technicals</th><th scope=col>Ejections</th><th scope=col>FlagrantFouls</th><th scope=col>GamesStarted</th></tr>\n",
              "\t<tr><th></th><th scope=col>&lt;fct&gt;</th><th scope=col>&lt;chr&gt;</th><th scope=col>&lt;fct&gt;</th><th scope=col>&lt;fct&gt;</th><th scope=col>&lt;int&gt;</th><th scope=col>&lt;int&gt;</th><th scope=col>&lt;int&gt;</th><th scope=col>&lt;int&gt;</th><th scope=col>&lt;int&gt;</th><th scope=col>&lt;int&gt;</th><th scope=col>⋯</th><th scope=col>&lt;int&gt;</th><th scope=col>&lt;int&gt;</th><th scope=col>&lt;int&gt;</th><th scope=col>&lt;int&gt;</th><th scope=col>&lt;int&gt;</th><th scope=col>&lt;int&gt;</th><th scope=col>&lt;int&gt;</th><th scope=col>&lt;int&gt;</th><th scope=col>&lt;int&gt;</th><th scope=col>&lt;int&gt;</th></tr>\n",
              "</thead>\n",
              "<tbody>\n",
              "\t<tr><th scope=row>120</th><td>NBA</td><td>Seth Curry   </td><td>DAL</td><td>PG</td><td>64</td><td>1576</td><td>284</td><td>574</td><td>145</td><td>321</td><td>⋯</td><td>38</td><td>62</td><td>9</td><td>113</td><td>1</td><td>793</td><td>0</td><td>0</td><td>0</td><td>25</td></tr>\n",
              "\t<tr><th scope=row>121</th><td>NBA</td><td>Stephen Curry</td><td>GSW</td><td>SG</td><td> 5</td><td> 139</td><td> 33</td><td> 82</td><td> 12</td><td> 49</td><td>⋯</td><td> 5</td><td>16</td><td>2</td><td> 11</td><td>0</td><td>104</td><td>1</td><td>0</td><td>0</td><td> 5</td></tr>\n",
              "</tbody>\n",
              "</table>\n"
            ]
          },
          "metadata": {
            "tags": []
          }
        },
        {
          "output_type": "display_data",
          "data": {
            "text/plain": [
              "    League Name        Team Position GamesPlayed TotalMinutesPlayed\n",
              "134 NBA    Luka Doncic DAL  PG       61          2046              \n",
              "    FieldGoalsMade FieldGoalsAttempted ThreesMade ThreesAttempted ⋯ Steals\n",
              "134 581            1254                171        541             ⋯ 61    \n",
              "    Turnovers Blocks PersonalFouls Disqualifications TotalPoints Technicals\n",
              "134 262       14     153           1                 1759        8         \n",
              "    Ejections FlagrantFouls GamesStarted\n",
              "134 0         0             61          "
            ],
            "text/latex": "A data.frame: 1 × 25\n\\begin{tabular}{r|lllllllllllllllllllll}\n  & League & Name & Team & Position & GamesPlayed & TotalMinutesPlayed & FieldGoalsMade & FieldGoalsAttempted & ThreesMade & ThreesAttempted & ⋯ & Steals & Turnovers & Blocks & PersonalFouls & Disqualifications & TotalPoints & Technicals & Ejections & FlagrantFouls & GamesStarted\\\\\n  & <fct> & <chr> & <fct> & <fct> & <int> & <int> & <int> & <int> & <int> & <int> & ⋯ & <int> & <int> & <int> & <int> & <int> & <int> & <int> & <int> & <int> & <int>\\\\\n\\hline\n\t134 & NBA & Luka Doncic & DAL & PG & 61 & 2046 & 581 & 1254 & 171 & 541 & ⋯ & 61 & 262 & 14 & 153 & 1 & 1759 & 8 & 0 & 0 & 61\\\\\n\\end{tabular}\n",
            "text/markdown": "\nA data.frame: 1 × 25\n\n| <!--/--> | League &lt;fct&gt; | Name &lt;chr&gt; | Team &lt;fct&gt; | Position &lt;fct&gt; | GamesPlayed &lt;int&gt; | TotalMinutesPlayed &lt;int&gt; | FieldGoalsMade &lt;int&gt; | FieldGoalsAttempted &lt;int&gt; | ThreesMade &lt;int&gt; | ThreesAttempted &lt;int&gt; | ⋯ ⋯ | Steals &lt;int&gt; | Turnovers &lt;int&gt; | Blocks &lt;int&gt; | PersonalFouls &lt;int&gt; | Disqualifications &lt;int&gt; | TotalPoints &lt;int&gt; | Technicals &lt;int&gt; | Ejections &lt;int&gt; | FlagrantFouls &lt;int&gt; | GamesStarted &lt;int&gt; |\n|---|---|---|---|---|---|---|---|---|---|---|---|---|---|---|---|---|---|---|---|---|---|\n| 134 | NBA | Luka Doncic | DAL | PG | 61 | 2046 | 581 | 1254 | 171 | 541 | ⋯ | 61 | 262 | 14 | 153 | 1 | 1759 | 8 | 0 | 0 | 61 |\n\n",
            "text/html": [
              "<table>\n",
              "<caption>A data.frame: 1 × 25</caption>\n",
              "<thead>\n",
              "\t<tr><th></th><th scope=col>League</th><th scope=col>Name</th><th scope=col>Team</th><th scope=col>Position</th><th scope=col>GamesPlayed</th><th scope=col>TotalMinutesPlayed</th><th scope=col>FieldGoalsMade</th><th scope=col>FieldGoalsAttempted</th><th scope=col>ThreesMade</th><th scope=col>ThreesAttempted</th><th scope=col>⋯</th><th scope=col>Steals</th><th scope=col>Turnovers</th><th scope=col>Blocks</th><th scope=col>PersonalFouls</th><th scope=col>Disqualifications</th><th scope=col>TotalPoints</th><th scope=col>Technicals</th><th scope=col>Ejections</th><th scope=col>FlagrantFouls</th><th scope=col>GamesStarted</th></tr>\n",
              "\t<tr><th></th><th scope=col>&lt;fct&gt;</th><th scope=col>&lt;chr&gt;</th><th scope=col>&lt;fct&gt;</th><th scope=col>&lt;fct&gt;</th><th scope=col>&lt;int&gt;</th><th scope=col>&lt;int&gt;</th><th scope=col>&lt;int&gt;</th><th scope=col>&lt;int&gt;</th><th scope=col>&lt;int&gt;</th><th scope=col>&lt;int&gt;</th><th scope=col>⋯</th><th scope=col>&lt;int&gt;</th><th scope=col>&lt;int&gt;</th><th scope=col>&lt;int&gt;</th><th scope=col>&lt;int&gt;</th><th scope=col>&lt;int&gt;</th><th scope=col>&lt;int&gt;</th><th scope=col>&lt;int&gt;</th><th scope=col>&lt;int&gt;</th><th scope=col>&lt;int&gt;</th><th scope=col>&lt;int&gt;</th></tr>\n",
              "</thead>\n",
              "<tbody>\n",
              "\t<tr><th scope=row>134</th><td>NBA</td><td>Luka Doncic</td><td>DAL</td><td>PG</td><td>61</td><td>2046</td><td>581</td><td>1254</td><td>171</td><td>541</td><td>⋯</td><td>61</td><td>262</td><td>14</td><td>153</td><td>1</td><td>1759</td><td>8</td><td>0</td><td>0</td><td>61</td></tr>\n",
              "</tbody>\n",
              "</table>\n"
            ]
          },
          "metadata": {
            "tags": []
          }
        }
      ]
    },
    {
      "cell_type": "code",
      "metadata": {
        "id": "Nf_gKhUSjTPj",
        "outputId": "ed07efcf-5557-4137-beb9-813895a57b6d",
        "colab": {
          "base_uri": "https://localhost:8080/",
          "height": 68
        }
      },
      "source": [
        "install.packages(\"data.table\")"
      ],
      "execution_count": 56,
      "outputs": [
        {
          "output_type": "stream",
          "text": [
            "Installing package into ‘/usr/local/lib/R/site-library’\n",
            "(as ‘lib’ is unspecified)\n",
            "\n"
          ],
          "name": "stderr"
        }
      ]
    },
    {
      "cell_type": "code",
      "metadata": {
        "id": "E66wtI-Gkd62"
      },
      "source": [
        "library(data.table)"
      ],
      "execution_count": 57,
      "outputs": []
    },
    {
      "cell_type": "code",
      "metadata": {
        "id": "4RMGOmNykgcH"
      },
      "source": [
        "NBA1920_ = data.table(NBA1920)"
      ],
      "execution_count": 58,
      "outputs": []
    },
    {
      "cell_type": "code",
      "metadata": {
        "id": "SowoWSvloZUN",
        "outputId": "b58c9141-96a5-486e-d8d8-08b0606d7aec",
        "colab": {
          "base_uri": "https://localhost:8080/",
          "height": 431
        }
      },
      "source": [
        "NBA1920_[grepl(\"Luka\",Name)]\n",
        "NBA1920_[GamesPlayed>72]\n",
        "NBA1920_[grepl(\"Luka\",Name)&Position==\"PG\"]"
      ],
      "execution_count": 66,
      "outputs": [
        {
          "output_type": "display_data",
          "data": {
            "text/plain": [
              "  League Name         Team Position GamesPlayed TotalMinutesPlayed\n",
              "1 NBA    Luka Doncic  DAL  PG       61          2046              \n",
              "2 NBA    Luka Samanic SAN  PF        3            48              \n",
              "  FieldGoalsMade FieldGoalsAttempted ThreesMade ThreesAttempted ⋯ Steals\n",
              "1 581            1254                171        541             ⋯ 61    \n",
              "2   5              16                  3          8             ⋯  0    \n",
              "  Turnovers Blocks PersonalFouls Disqualifications TotalPoints Technicals\n",
              "1 262       14     153           1                 1759        8         \n",
              "2   2        2       6           0                   16        0         \n",
              "  Ejections FlagrantFouls GamesStarted\n",
              "1 0         0             61          \n",
              "2 0         0              1          "
            ],
            "text/latex": "A data.table: 2 × 25\n\\begin{tabular}{lllllllllllllllllllll}\n League & Name & Team & Position & GamesPlayed & TotalMinutesPlayed & FieldGoalsMade & FieldGoalsAttempted & ThreesMade & ThreesAttempted & ⋯ & Steals & Turnovers & Blocks & PersonalFouls & Disqualifications & TotalPoints & Technicals & Ejections & FlagrantFouls & GamesStarted\\\\\n <fct> & <chr> & <fct> & <fct> & <int> & <int> & <int> & <int> & <int> & <int> & ⋯ & <int> & <int> & <int> & <int> & <int> & <int> & <int> & <int> & <int> & <int>\\\\\n\\hline\n\t NBA & Luka Doncic  & DAL & PG & 61 & 2046 & 581 & 1254 & 171 & 541 & ⋯ & 61 & 262 & 14 & 153 & 1 & 1759 & 8 & 0 & 0 & 61\\\\\n\t NBA & Luka Samanic & SAN & PF &  3 &   48 &   5 &   16 &   3 &   8 & ⋯ &  0 &   2 &  2 &   6 & 0 &   16 & 0 & 0 & 0 &  1\\\\\n\\end{tabular}\n",
            "text/markdown": "\nA data.table: 2 × 25\n\n| League &lt;fct&gt; | Name &lt;chr&gt; | Team &lt;fct&gt; | Position &lt;fct&gt; | GamesPlayed &lt;int&gt; | TotalMinutesPlayed &lt;int&gt; | FieldGoalsMade &lt;int&gt; | FieldGoalsAttempted &lt;int&gt; | ThreesMade &lt;int&gt; | ThreesAttempted &lt;int&gt; | ⋯ ⋯ | Steals &lt;int&gt; | Turnovers &lt;int&gt; | Blocks &lt;int&gt; | PersonalFouls &lt;int&gt; | Disqualifications &lt;int&gt; | TotalPoints &lt;int&gt; | Technicals &lt;int&gt; | Ejections &lt;int&gt; | FlagrantFouls &lt;int&gt; | GamesStarted &lt;int&gt; |\n|---|---|---|---|---|---|---|---|---|---|---|---|---|---|---|---|---|---|---|---|---|\n| NBA | Luka Doncic  | DAL | PG | 61 | 2046 | 581 | 1254 | 171 | 541 | ⋯ | 61 | 262 | 14 | 153 | 1 | 1759 | 8 | 0 | 0 | 61 |\n| NBA | Luka Samanic | SAN | PF |  3 |   48 |   5 |   16 |   3 |   8 | ⋯ |  0 |   2 |  2 |   6 | 0 |   16 | 0 | 0 | 0 |  1 |\n\n",
            "text/html": [
              "<table>\n",
              "<caption>A data.table: 2 × 25</caption>\n",
              "<thead>\n",
              "\t<tr><th scope=col>League</th><th scope=col>Name</th><th scope=col>Team</th><th scope=col>Position</th><th scope=col>GamesPlayed</th><th scope=col>TotalMinutesPlayed</th><th scope=col>FieldGoalsMade</th><th scope=col>FieldGoalsAttempted</th><th scope=col>ThreesMade</th><th scope=col>ThreesAttempted</th><th scope=col>⋯</th><th scope=col>Steals</th><th scope=col>Turnovers</th><th scope=col>Blocks</th><th scope=col>PersonalFouls</th><th scope=col>Disqualifications</th><th scope=col>TotalPoints</th><th scope=col>Technicals</th><th scope=col>Ejections</th><th scope=col>FlagrantFouls</th><th scope=col>GamesStarted</th></tr>\n",
              "\t<tr><th scope=col>&lt;fct&gt;</th><th scope=col>&lt;chr&gt;</th><th scope=col>&lt;fct&gt;</th><th scope=col>&lt;fct&gt;</th><th scope=col>&lt;int&gt;</th><th scope=col>&lt;int&gt;</th><th scope=col>&lt;int&gt;</th><th scope=col>&lt;int&gt;</th><th scope=col>&lt;int&gt;</th><th scope=col>&lt;int&gt;</th><th scope=col>⋯</th><th scope=col>&lt;int&gt;</th><th scope=col>&lt;int&gt;</th><th scope=col>&lt;int&gt;</th><th scope=col>&lt;int&gt;</th><th scope=col>&lt;int&gt;</th><th scope=col>&lt;int&gt;</th><th scope=col>&lt;int&gt;</th><th scope=col>&lt;int&gt;</th><th scope=col>&lt;int&gt;</th><th scope=col>&lt;int&gt;</th></tr>\n",
              "</thead>\n",
              "<tbody>\n",
              "\t<tr><td>NBA</td><td>Luka Doncic </td><td>DAL</td><td>PG</td><td>61</td><td>2046</td><td>581</td><td>1254</td><td>171</td><td>541</td><td>⋯</td><td>61</td><td>262</td><td>14</td><td>153</td><td>1</td><td>1759</td><td>8</td><td>0</td><td>0</td><td>61</td></tr>\n",
              "\t<tr><td>NBA</td><td>Luka Samanic</td><td>SAN</td><td>PF</td><td> 3</td><td>  48</td><td>  5</td><td>  16</td><td>  3</td><td>  8</td><td>⋯</td><td> 0</td><td>  2</td><td> 2</td><td>  6</td><td>0</td><td>  16</td><td>0</td><td>0</td><td>0</td><td> 1</td></tr>\n",
              "</tbody>\n",
              "</table>\n"
            ]
          },
          "metadata": {
            "tags": []
          }
        },
        {
          "output_type": "display_data",
          "data": {
            "text/plain": [
              "  League Name            Team Position GamesPlayed TotalMinutesPlayed\n",
              "1 NBA    Mikal Bridges   PHO  PF       73          2042              \n",
              "2 NBA    Dillon Brooks   MEM  SG       73          2111              \n",
              "3 NBA    Justin Holiday  IND  SF       73          1824              \n",
              "4 NBA    Nikola Jokic    DEN  C        73          2335              \n",
              "5 NBA    Maxi Kleber     DAL  PF       74          1888              \n",
              "6 NBA    Monte Morris    DEN  PG       73          1637              \n",
              "7 NBA    Duncan Robinson MIA  SF       73          2163              \n",
              "8 NBA    Delon Wright    DAL  SG       73          1570              \n",
              "  FieldGoalsMade FieldGoalsAttempted ThreesMade ThreesAttempted ⋯ Steals\n",
              "1 247             485                 70        194             ⋯ 105   \n",
              "2 435            1067                147        412             ⋯  64   \n",
              "3 208             485                134        331             ⋯  87   \n",
              "4 565            1071                 80        255             ⋯  85   \n",
              "5 237             514                119        319             ⋯  25   \n",
              "6 260             566                 65        172             ⋯  55   \n",
              "7 323             687                270        606             ⋯  34   \n",
              "8 190             412                 47        128             ⋯  84   \n",
              "  Turnovers Blocks PersonalFouls Disqualifications TotalPoints Technicals\n",
              "1  73       46     163            1                 667        0         \n",
              "2 123       27     278           10                1181        4         \n",
              "3  43       46     137            0                 603        2         \n",
              "4 225       44     222            1                1456        3         \n",
              "5  58       84     176            2                 672        2         \n",
              "6  54       17      73            0                 660        0         \n",
              "7  69       19     193            1                 983        1         \n",
              "8  73       22      93            0                 504        0         \n",
              "  Ejections FlagrantFouls GamesStarted\n",
              "1 0         0             32          \n",
              "2 0         0             73          \n",
              "3 0         0              6          \n",
              "4 0         0             73          \n",
              "5 0         0             21          \n",
              "6 0         0             12          \n",
              "7 0         0             68          \n",
              "8 0         0              6          "
            ],
            "text/latex": "A data.table: 8 × 25\n\\begin{tabular}{lllllllllllllllllllll}\n League & Name & Team & Position & GamesPlayed & TotalMinutesPlayed & FieldGoalsMade & FieldGoalsAttempted & ThreesMade & ThreesAttempted & ⋯ & Steals & Turnovers & Blocks & PersonalFouls & Disqualifications & TotalPoints & Technicals & Ejections & FlagrantFouls & GamesStarted\\\\\n <fct> & <chr> & <fct> & <fct> & <int> & <int> & <int> & <int> & <int> & <int> & ⋯ & <int> & <int> & <int> & <int> & <int> & <int> & <int> & <int> & <int> & <int>\\\\\n\\hline\n\t NBA & Mikal Bridges   & PHO & PF & 73 & 2042 & 247 &  485 &  70 & 194 & ⋯ & 105 &  73 & 46 & 163 &  1 &  667 & 0 & 0 & 0 & 32\\\\\n\t NBA & Dillon Brooks   & MEM & SG & 73 & 2111 & 435 & 1067 & 147 & 412 & ⋯ &  64 & 123 & 27 & 278 & 10 & 1181 & 4 & 0 & 0 & 73\\\\\n\t NBA & Justin Holiday  & IND & SF & 73 & 1824 & 208 &  485 & 134 & 331 & ⋯ &  87 &  43 & 46 & 137 &  0 &  603 & 2 & 0 & 0 &  6\\\\\n\t NBA & Nikola Jokic    & DEN & C  & 73 & 2335 & 565 & 1071 &  80 & 255 & ⋯ &  85 & 225 & 44 & 222 &  1 & 1456 & 3 & 0 & 0 & 73\\\\\n\t NBA & Maxi Kleber     & DAL & PF & 74 & 1888 & 237 &  514 & 119 & 319 & ⋯ &  25 &  58 & 84 & 176 &  2 &  672 & 2 & 0 & 0 & 21\\\\\n\t NBA & Monte Morris    & DEN & PG & 73 & 1637 & 260 &  566 &  65 & 172 & ⋯ &  55 &  54 & 17 &  73 &  0 &  660 & 0 & 0 & 0 & 12\\\\\n\t NBA & Duncan Robinson & MIA & SF & 73 & 2163 & 323 &  687 & 270 & 606 & ⋯ &  34 &  69 & 19 & 193 &  1 &  983 & 1 & 0 & 0 & 68\\\\\n\t NBA & Delon Wright    & DAL & SG & 73 & 1570 & 190 &  412 &  47 & 128 & ⋯ &  84 &  73 & 22 &  93 &  0 &  504 & 0 & 0 & 0 &  6\\\\\n\\end{tabular}\n",
            "text/markdown": "\nA data.table: 8 × 25\n\n| League &lt;fct&gt; | Name &lt;chr&gt; | Team &lt;fct&gt; | Position &lt;fct&gt; | GamesPlayed &lt;int&gt; | TotalMinutesPlayed &lt;int&gt; | FieldGoalsMade &lt;int&gt; | FieldGoalsAttempted &lt;int&gt; | ThreesMade &lt;int&gt; | ThreesAttempted &lt;int&gt; | ⋯ ⋯ | Steals &lt;int&gt; | Turnovers &lt;int&gt; | Blocks &lt;int&gt; | PersonalFouls &lt;int&gt; | Disqualifications &lt;int&gt; | TotalPoints &lt;int&gt; | Technicals &lt;int&gt; | Ejections &lt;int&gt; | FlagrantFouls &lt;int&gt; | GamesStarted &lt;int&gt; |\n|---|---|---|---|---|---|---|---|---|---|---|---|---|---|---|---|---|---|---|---|---|\n| NBA | Mikal Bridges   | PHO | PF | 73 | 2042 | 247 |  485 |  70 | 194 | ⋯ | 105 |  73 | 46 | 163 |  1 |  667 | 0 | 0 | 0 | 32 |\n| NBA | Dillon Brooks   | MEM | SG | 73 | 2111 | 435 | 1067 | 147 | 412 | ⋯ |  64 | 123 | 27 | 278 | 10 | 1181 | 4 | 0 | 0 | 73 |\n| NBA | Justin Holiday  | IND | SF | 73 | 1824 | 208 |  485 | 134 | 331 | ⋯ |  87 |  43 | 46 | 137 |  0 |  603 | 2 | 0 | 0 |  6 |\n| NBA | Nikola Jokic    | DEN | C  | 73 | 2335 | 565 | 1071 |  80 | 255 | ⋯ |  85 | 225 | 44 | 222 |  1 | 1456 | 3 | 0 | 0 | 73 |\n| NBA | Maxi Kleber     | DAL | PF | 74 | 1888 | 237 |  514 | 119 | 319 | ⋯ |  25 |  58 | 84 | 176 |  2 |  672 | 2 | 0 | 0 | 21 |\n| NBA | Monte Morris    | DEN | PG | 73 | 1637 | 260 |  566 |  65 | 172 | ⋯ |  55 |  54 | 17 |  73 |  0 |  660 | 0 | 0 | 0 | 12 |\n| NBA | Duncan Robinson | MIA | SF | 73 | 2163 | 323 |  687 | 270 | 606 | ⋯ |  34 |  69 | 19 | 193 |  1 |  983 | 1 | 0 | 0 | 68 |\n| NBA | Delon Wright    | DAL | SG | 73 | 1570 | 190 |  412 |  47 | 128 | ⋯ |  84 |  73 | 22 |  93 |  0 |  504 | 0 | 0 | 0 |  6 |\n\n",
            "text/html": [
              "<table>\n",
              "<caption>A data.table: 8 × 25</caption>\n",
              "<thead>\n",
              "\t<tr><th scope=col>League</th><th scope=col>Name</th><th scope=col>Team</th><th scope=col>Position</th><th scope=col>GamesPlayed</th><th scope=col>TotalMinutesPlayed</th><th scope=col>FieldGoalsMade</th><th scope=col>FieldGoalsAttempted</th><th scope=col>ThreesMade</th><th scope=col>ThreesAttempted</th><th scope=col>⋯</th><th scope=col>Steals</th><th scope=col>Turnovers</th><th scope=col>Blocks</th><th scope=col>PersonalFouls</th><th scope=col>Disqualifications</th><th scope=col>TotalPoints</th><th scope=col>Technicals</th><th scope=col>Ejections</th><th scope=col>FlagrantFouls</th><th scope=col>GamesStarted</th></tr>\n",
              "\t<tr><th scope=col>&lt;fct&gt;</th><th scope=col>&lt;chr&gt;</th><th scope=col>&lt;fct&gt;</th><th scope=col>&lt;fct&gt;</th><th scope=col>&lt;int&gt;</th><th scope=col>&lt;int&gt;</th><th scope=col>&lt;int&gt;</th><th scope=col>&lt;int&gt;</th><th scope=col>&lt;int&gt;</th><th scope=col>&lt;int&gt;</th><th scope=col>⋯</th><th scope=col>&lt;int&gt;</th><th scope=col>&lt;int&gt;</th><th scope=col>&lt;int&gt;</th><th scope=col>&lt;int&gt;</th><th scope=col>&lt;int&gt;</th><th scope=col>&lt;int&gt;</th><th scope=col>&lt;int&gt;</th><th scope=col>&lt;int&gt;</th><th scope=col>&lt;int&gt;</th><th scope=col>&lt;int&gt;</th></tr>\n",
              "</thead>\n",
              "<tbody>\n",
              "\t<tr><td>NBA</td><td>Mikal Bridges  </td><td>PHO</td><td>PF</td><td>73</td><td>2042</td><td>247</td><td> 485</td><td> 70</td><td>194</td><td>⋯</td><td>105</td><td> 73</td><td>46</td><td>163</td><td> 1</td><td> 667</td><td>0</td><td>0</td><td>0</td><td>32</td></tr>\n",
              "\t<tr><td>NBA</td><td>Dillon Brooks  </td><td>MEM</td><td>SG</td><td>73</td><td>2111</td><td>435</td><td>1067</td><td>147</td><td>412</td><td>⋯</td><td> 64</td><td>123</td><td>27</td><td>278</td><td>10</td><td>1181</td><td>4</td><td>0</td><td>0</td><td>73</td></tr>\n",
              "\t<tr><td>NBA</td><td>Justin Holiday </td><td>IND</td><td>SF</td><td>73</td><td>1824</td><td>208</td><td> 485</td><td>134</td><td>331</td><td>⋯</td><td> 87</td><td> 43</td><td>46</td><td>137</td><td> 0</td><td> 603</td><td>2</td><td>0</td><td>0</td><td> 6</td></tr>\n",
              "\t<tr><td>NBA</td><td>Nikola Jokic   </td><td>DEN</td><td>C </td><td>73</td><td>2335</td><td>565</td><td>1071</td><td> 80</td><td>255</td><td>⋯</td><td> 85</td><td>225</td><td>44</td><td>222</td><td> 1</td><td>1456</td><td>3</td><td>0</td><td>0</td><td>73</td></tr>\n",
              "\t<tr><td>NBA</td><td>Maxi Kleber    </td><td>DAL</td><td>PF</td><td>74</td><td>1888</td><td>237</td><td> 514</td><td>119</td><td>319</td><td>⋯</td><td> 25</td><td> 58</td><td>84</td><td>176</td><td> 2</td><td> 672</td><td>2</td><td>0</td><td>0</td><td>21</td></tr>\n",
              "\t<tr><td>NBA</td><td>Monte Morris   </td><td>DEN</td><td>PG</td><td>73</td><td>1637</td><td>260</td><td> 566</td><td> 65</td><td>172</td><td>⋯</td><td> 55</td><td> 54</td><td>17</td><td> 73</td><td> 0</td><td> 660</td><td>0</td><td>0</td><td>0</td><td>12</td></tr>\n",
              "\t<tr><td>NBA</td><td>Duncan Robinson</td><td>MIA</td><td>SF</td><td>73</td><td>2163</td><td>323</td><td> 687</td><td>270</td><td>606</td><td>⋯</td><td> 34</td><td> 69</td><td>19</td><td>193</td><td> 1</td><td> 983</td><td>1</td><td>0</td><td>0</td><td>68</td></tr>\n",
              "\t<tr><td>NBA</td><td>Delon Wright   </td><td>DAL</td><td>SG</td><td>73</td><td>1570</td><td>190</td><td> 412</td><td> 47</td><td>128</td><td>⋯</td><td> 84</td><td> 73</td><td>22</td><td> 93</td><td> 0</td><td> 504</td><td>0</td><td>0</td><td>0</td><td> 6</td></tr>\n",
              "</tbody>\n",
              "</table>\n"
            ]
          },
          "metadata": {
            "tags": []
          }
        },
        {
          "output_type": "display_data",
          "data": {
            "text/plain": [
              "  League Name        Team Position GamesPlayed TotalMinutesPlayed\n",
              "1 NBA    Luka Doncic DAL  PG       61          2046              \n",
              "  FieldGoalsMade FieldGoalsAttempted ThreesMade ThreesAttempted ⋯ Steals\n",
              "1 581            1254                171        541             ⋯ 61    \n",
              "  Turnovers Blocks PersonalFouls Disqualifications TotalPoints Technicals\n",
              "1 262       14     153           1                 1759        8         \n",
              "  Ejections FlagrantFouls GamesStarted\n",
              "1 0         0             61          "
            ],
            "text/latex": "A data.table: 1 × 25\n\\begin{tabular}{lllllllllllllllllllll}\n League & Name & Team & Position & GamesPlayed & TotalMinutesPlayed & FieldGoalsMade & FieldGoalsAttempted & ThreesMade & ThreesAttempted & ⋯ & Steals & Turnovers & Blocks & PersonalFouls & Disqualifications & TotalPoints & Technicals & Ejections & FlagrantFouls & GamesStarted\\\\\n <fct> & <chr> & <fct> & <fct> & <int> & <int> & <int> & <int> & <int> & <int> & ⋯ & <int> & <int> & <int> & <int> & <int> & <int> & <int> & <int> & <int> & <int>\\\\\n\\hline\n\t NBA & Luka Doncic & DAL & PG & 61 & 2046 & 581 & 1254 & 171 & 541 & ⋯ & 61 & 262 & 14 & 153 & 1 & 1759 & 8 & 0 & 0 & 61\\\\\n\\end{tabular}\n",
            "text/markdown": "\nA data.table: 1 × 25\n\n| League &lt;fct&gt; | Name &lt;chr&gt; | Team &lt;fct&gt; | Position &lt;fct&gt; | GamesPlayed &lt;int&gt; | TotalMinutesPlayed &lt;int&gt; | FieldGoalsMade &lt;int&gt; | FieldGoalsAttempted &lt;int&gt; | ThreesMade &lt;int&gt; | ThreesAttempted &lt;int&gt; | ⋯ ⋯ | Steals &lt;int&gt; | Turnovers &lt;int&gt; | Blocks &lt;int&gt; | PersonalFouls &lt;int&gt; | Disqualifications &lt;int&gt; | TotalPoints &lt;int&gt; | Technicals &lt;int&gt; | Ejections &lt;int&gt; | FlagrantFouls &lt;int&gt; | GamesStarted &lt;int&gt; |\n|---|---|---|---|---|---|---|---|---|---|---|---|---|---|---|---|---|---|---|---|---|\n| NBA | Luka Doncic | DAL | PG | 61 | 2046 | 581 | 1254 | 171 | 541 | ⋯ | 61 | 262 | 14 | 153 | 1 | 1759 | 8 | 0 | 0 | 61 |\n\n",
            "text/html": [
              "<table>\n",
              "<caption>A data.table: 1 × 25</caption>\n",
              "<thead>\n",
              "\t<tr><th scope=col>League</th><th scope=col>Name</th><th scope=col>Team</th><th scope=col>Position</th><th scope=col>GamesPlayed</th><th scope=col>TotalMinutesPlayed</th><th scope=col>FieldGoalsMade</th><th scope=col>FieldGoalsAttempted</th><th scope=col>ThreesMade</th><th scope=col>ThreesAttempted</th><th scope=col>⋯</th><th scope=col>Steals</th><th scope=col>Turnovers</th><th scope=col>Blocks</th><th scope=col>PersonalFouls</th><th scope=col>Disqualifications</th><th scope=col>TotalPoints</th><th scope=col>Technicals</th><th scope=col>Ejections</th><th scope=col>FlagrantFouls</th><th scope=col>GamesStarted</th></tr>\n",
              "\t<tr><th scope=col>&lt;fct&gt;</th><th scope=col>&lt;chr&gt;</th><th scope=col>&lt;fct&gt;</th><th scope=col>&lt;fct&gt;</th><th scope=col>&lt;int&gt;</th><th scope=col>&lt;int&gt;</th><th scope=col>&lt;int&gt;</th><th scope=col>&lt;int&gt;</th><th scope=col>&lt;int&gt;</th><th scope=col>&lt;int&gt;</th><th scope=col>⋯</th><th scope=col>&lt;int&gt;</th><th scope=col>&lt;int&gt;</th><th scope=col>&lt;int&gt;</th><th scope=col>&lt;int&gt;</th><th scope=col>&lt;int&gt;</th><th scope=col>&lt;int&gt;</th><th scope=col>&lt;int&gt;</th><th scope=col>&lt;int&gt;</th><th scope=col>&lt;int&gt;</th><th scope=col>&lt;int&gt;</th></tr>\n",
              "</thead>\n",
              "<tbody>\n",
              "\t<tr><td>NBA</td><td>Luka Doncic</td><td>DAL</td><td>PG</td><td>61</td><td>2046</td><td>581</td><td>1254</td><td>171</td><td>541</td><td>⋯</td><td>61</td><td>262</td><td>14</td><td>153</td><td>1</td><td>1759</td><td>8</td><td>0</td><td>0</td><td>61</td></tr>\n",
              "</tbody>\n",
              "</table>\n"
            ]
          },
          "metadata": {
            "tags": []
          }
        }
      ]
    }
  ]
}