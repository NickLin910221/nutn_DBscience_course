{
  "nbformat": 4,
  "nbformat_minor": 0,
  "metadata": {
    "colab": {
      "name": "Assessments-1",
      "provenance": [],
      "collapsed_sections": [],
      "include_colab_link": true
    },
    "kernelspec": {
      "name": "ir",
      "display_name": "R"
    }
  },
  "cells": [
    {
      "cell_type": "markdown",
      "metadata": {
        "id": "view-in-github",
        "colab_type": "text"
      },
      "source": [
        "<a href=\"https://colab.research.google.com/github/NickLin910221/nutn_DBscience_course/blob/master/Assessments_1.ipynb\" target=\"_parent\"><img src=\"https://colab.research.google.com/assets/colab-badge.svg\" alt=\"Open In Colab\"/></a>"
      ]
    },
    {
      "cell_type": "code",
      "metadata": {
        "id": "gJeU1jZETd6K",
        "colab_type": "code",
        "colab": {
          "base_uri": "https://localhost:8080/",
          "height": 34
        },
        "outputId": "b3835b89-45dd-4ec9-f325-2cfa7cebd33e"
      },
      "source": [
        "class(30)"
      ],
      "execution_count": null,
      "outputs": [
        {
          "output_type": "display_data",
          "data": {
            "text/plain": [
              "[1] \"numeric\""
            ],
            "text/latex": "'numeric'",
            "text/markdown": "'numeric'",
            "text/html": [
              "'numeric'"
            ]
          },
          "metadata": {
            "tags": []
          }
        }
      ]
    },
    {
      "cell_type": "code",
      "metadata": {
        "id": "SxewLWNkXA0J",
        "colab_type": "code",
        "colab": {
          "base_uri": "https://localhost:8080/",
          "height": 34
        },
        "outputId": "1cab598e-b750-4899-9d49-ade115d7eabb"
      },
      "source": [
        "class(\"HELLO WORLD\")"
      ],
      "execution_count": null,
      "outputs": [
        {
          "output_type": "display_data",
          "data": {
            "text/plain": [
              "[1] \"character\""
            ],
            "text/latex": "'character'",
            "text/markdown": "'character'",
            "text/html": [
              "'character'"
            ]
          },
          "metadata": {
            "tags": []
          }
        }
      ]
    },
    {
      "cell_type": "code",
      "metadata": {
        "id": "8YsUFlEZXSbg",
        "colab_type": "code",
        "colab": {
          "base_uri": "https://localhost:8080/",
          "height": 34
        },
        "outputId": "e3005e30-7b04-4dad-a9e8-eae829960198"
      },
      "source": [
        "0303 + 0221"
      ],
      "execution_count": null,
      "outputs": [
        {
          "output_type": "display_data",
          "data": {
            "text/plain": [
              "[1] 524"
            ],
            "text/latex": "524",
            "text/markdown": "524",
            "text/html": [
              "524"
            ]
          },
          "metadata": {
            "tags": []
          }
        }
      ]
    },
    {
      "cell_type": "code",
      "metadata": {
        "id": "j4ZmonpyXkvk",
        "colab_type": "code",
        "colab": {
          "base_uri": "https://localhost:8080/",
          "height": 34
        },
        "outputId": "f473888c-8230-4eb4-d022-1c60f84fee1e"
      },
      "source": [
        "0303 > 0221"
      ],
      "execution_count": null,
      "outputs": [
        {
          "output_type": "display_data",
          "data": {
            "text/plain": [
              "[1] TRUE"
            ],
            "text/latex": "TRUE",
            "text/markdown": "TRUE",
            "text/html": [
              "TRUE"
            ]
          },
          "metadata": {
            "tags": []
          }
        }
      ]
    },
    {
      "cell_type": "code",
      "metadata": {
        "id": "BTuepth0XtqQ",
        "colab_type": "code",
        "colab": {}
      },
      "source": [
        "my_weight(KG) = 60"
      ],
      "execution_count": null,
      "outputs": []
    },
    {
      "cell_type": "code",
      "metadata": {
        "id": "4pBsaqw7YuIk",
        "colab_type": "code",
        "colab": {}
      },
      "source": [
        "my_height(CM) = 181"
      ],
      "execution_count": null,
      "outputs": []
    },
    {
      "cell_type": "code",
      "metadata": {
        "id": "ob-3UL7RY2cQ",
        "colab_type": "code",
        "colab": {}
      },
      "source": [
        "BMI = my_weight/((my_height/100)^2)"
      ],
      "execution_count": null,
      "outputs": []
    },
    {
      "cell_type": "code",
      "metadata": {
        "id": "CxAc8K5tZB_C",
        "colab_type": "code",
        "colab": {
          "base_uri": "https://localhost:8080/",
          "height": 34
        },
        "outputId": "79e6022f-7a2e-4d94-e0c5-fc037bbb5bdb"
      },
      "source": [
        "BMI"
      ],
      "execution_count": null,
      "outputs": [
        {
          "output_type": "display_data",
          "data": {
            "text/plain": [
              "[1] 18.31446"
            ],
            "text/latex": "18.3144592655902",
            "text/markdown": "18.3144592655902",
            "text/html": [
              "18.3144592655902"
            ]
          },
          "metadata": {
            "tags": []
          }
        }
      ]
    },
    {
      "cell_type": "code",
      "metadata": {
        "id": "CfS7nWNmZDS5",
        "colab_type": "code",
        "colab": {}
      },
      "source": [
        "my_name = \"yourui\""
      ],
      "execution_count": null,
      "outputs": []
    },
    {
      "cell_type": "code",
      "metadata": {
        "id": "x_cxIVScbcbY",
        "colab_type": "code",
        "colab": {
          "base_uri": "https://localhost:8080/",
          "height": 34
        },
        "outputId": "b630b729-89fe-4e64-a9ce-6bb69f5d6afb"
      },
      "source": [
        "paste0(\"My name is \",my_name,\".\",\"My weight is \",my_weight,\".\",\"My height is \",my_height,\".\",\"My BMI is \",BMI,\".\")"
      ],
      "execution_count": null,
      "outputs": [
        {
          "output_type": "display_data",
          "data": {
            "text/plain": [
              "[1] \"My name is yourui.My weight is 60.My height is 181.My BMI is 18.3144592655902.\""
            ],
            "text/latex": "'My name is yourui.My weight is 60.My height is 181.My BMI is 18.3144592655902.'",
            "text/markdown": "'My name is yourui.My weight is 60.My height is 181.My BMI is 18.3144592655902.'",
            "text/html": [
              "'My name is yourui.My weight is 60.My height is 181.My BMI is 18.3144592655902.'"
            ]
          },
          "metadata": {
            "tags": []
          }
        }
      ]
    },
    {
      "cell_type": "code",
      "metadata": {
        "id": "lgz4PAMdb6yE",
        "colab_type": "code",
        "colab": {}
      },
      "source": [
        ""
      ],
      "execution_count": null,
      "outputs": []
    }
  ]
}