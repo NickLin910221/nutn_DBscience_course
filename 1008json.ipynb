{
  "nbformat": 4,
  "nbformat_minor": 0,
  "metadata": {
    "colab": {
      "name": "1008json.ipynb",
      "provenance": [],
      "collapsed_sections": [],
      "include_colab_link": true
    },
    "kernelspec": {
      "name": "ir",
      "display_name": "R"
    }
  },
  "cells": [
    {
      "cell_type": "markdown",
      "metadata": {
        "id": "view-in-github",
        "colab_type": "text"
      },
      "source": [
        "<a href=\"https://colab.research.google.com/github/NickLin910221/nutn_DBscience_course/blob/master/1008json.ipynb\" target=\"_parent\"><img src=\"https://colab.research.google.com/assets/colab-badge.svg\" alt=\"Open In Colab\"/></a>"
      ]
    },
    {
      "cell_type": "code",
      "metadata": {
        "id": "YanKelEvgP08",
        "outputId": "a7d304d9-db4d-4d0a-ae7b-73bd4c54cee3",
        "colab": {
          "base_uri": "https://localhost:8080/",
          "height": 68
        }
      },
      "source": [
        "install.packages(\"jsonlite\")"
      ],
      "execution_count": 3,
      "outputs": [
        {
          "output_type": "stream",
          "text": [
            "Installing package into ‘/usr/local/lib/R/site-library’\n",
            "(as ‘lib’ is unspecified)\n",
            "\n"
          ],
          "name": "stderr"
        }
      ]
    },
    {
      "cell_type": "code",
      "metadata": {
        "id": "xTmnyau6gX1o"
      },
      "source": [
        "library(\"jsonlite\")"
      ],
      "execution_count": 4,
      "outputs": []
    },
    {
      "cell_type": "code",
      "metadata": {
        "id": "AZZY5i3bgb_f"
      },
      "source": [
        "Petdata = jsonlite::fromJSON(\"https://data.taipei/opendata/datalist/apiAccess?scope=resourceAquire&rid=f4a75ba9-7721-4363-884d-c3820b0b917c\")"
      ],
      "execution_count": 5,
      "outputs": []
    },
    {
      "cell_type": "code",
      "metadata": {
        "id": "Kpim60drglj_",
        "outputId": "41e2867b-0223-4e79-f8bf-db5e2df47eef",
        "colab": {
          "base_uri": "https://localhost:8080/",
          "height": 496
        }
      },
      "source": [
        "str(Petdata)"
      ],
      "execution_count": 6,
      "outputs": [
        {
          "output_type": "stream",
          "text": [
            "List of 1\n",
            " $ result:List of 5\n",
            "  ..$ limit  : int 1000\n",
            "  ..$ offset : int 0\n",
            "  ..$ count  : int 365\n",
            "  ..$ sort   : chr \"\"\n",
            "  ..$ results:'data.frame':\t365 obs. of  20 variables:\n",
            "  .. ..$ AcceptNum      : chr [1:365] \"106060601\" \"106060401\" \"106060210\" \"106060207\" ...\n",
            "  .. ..$ IsSterilization: chr [1:365] \"未絕育\" \"已絕育\" \"未絕育\" \"未絕育\" ...\n",
            "  .. ..$ Name           : chr [1:365] \"\" \"\" \"俊俊\" \"小莊\" ...\n",
            "  .. ..$ Variety        : chr [1:365] \"米克斯\" \"米克斯\" \"米克斯\" \"米克斯\" ...\n",
            "  .. ..$ Age            : chr [1:365] \"成年\" \"成年\" \"成年\" \"成年\" ...\n",
            "  .. ..$ ChildreAnlong  : chr [1:365] \"\" \"\" \"\" \"\" ...\n",
            "  .. ..$ Resettlement   : chr [1:365] \"臺北市動物之家 收容編號106060601\" \"\" \"臺北市動物之家 收容編號106060210\" \"臺北市動物之家 收容編號106060207\" ...\n",
            "  .. ..$ Sex            : chr [1:365] \"雄\" \"雌\" \"雄\" \"雄\" ...\n",
            "  .. ..$ Note           : chr [1:365] \"左剪耳 輕微脫水 精神食慾不佳\" \"\" \"嗨~~我的名字叫俊俊，希望帥氣的我可以受您的青睞，快來動物之家看看我吧!\\n\" \"哈囉~我的名字叫小莊，目前我在動物之家生活，希望能快快找到，願意認養我的人來帶我回家!!\\n\" ...\n",
            "  .. ..$ Phone          : chr [1:365] \"02-87913063\" \"\" \"02-87913062\" \"02-87913062\" ...\n",
            "  .. ..$ Reason         : chr [1:365] \"民眾不擬續養\" \"民眾不擬續養\" \"動物管制\" \"動物管制\" ...\n",
            "  .. ..$ ImageName      : chr [1:365] \"http://163.29.39.183/uploads/images/medium/c0f66294-143c-4406-8714-2e6764352b13.jpg\" \"http://163.29.39.183/uploads/images/medium/4ffa231f-3108-43c1-8ccf-b8578bdf1e1a.jpg\" \"http://163.29.39.183/uploads/images/medium/e68771df-747e-4544-846a-bdd6099e7f90.jpg\" \"http://163.29.39.183/uploads/images/medium/fd75d049-5310-4016-b1f4-71d69c4a9912.jpg\" ...\n",
            "  .. ..$ HairType       : chr [1:365] \"虎斑白\" \"黃白\" \"黃白\" \"黃\" ...\n",
            "  .. ..$ Build          : chr [1:365] \"中\" \"中\" \"中\" \"中\" ...\n",
            "  .. ..$ AnimalAnlong   : chr [1:365] \"\" \"\" \"\" \"\" ...\n",
            "  .. ..$ ChipNum        : chr [1:365] \"900073000086900\" \"900073000086481\" \"\" \"\" ...\n",
            "  .. ..$ _id            : int [1:365] 1 2 3 4 5 6 7 8 9 10 ...\n",
            "  .. ..$ Type           : chr [1:365] \"貓\" \"貓\" \"貓\" \"貓\" ...\n",
            "  .. ..$ Email          : chr [1:365] \"tcapoa8@mail.taipei.gov.tw\" \"\" \"tcapoa8@mail.taipei.gov.tw\" \"tcapoa8@mail.taipei.gov.tw\" ...\n",
            "  .. ..$ Bodyweight     : chr [1:365] \"\" \"\" \"\" \"\" ...\n"
          ],
          "name": "stdout"
        }
      ]
    },
    {
      "cell_type": "code",
      "metadata": {
        "id": "1QyiXaD3gm7m",
        "outputId": "206cc661-db13-4e1a-c393-f93dcfc41d0e",
        "colab": {
          "base_uri": "https://localhost:8080/",
          "height": 68
        }
      },
      "source": [
        "#查詢 收容理由\n",
        "table(Petdata$result$results$Reason)"
      ],
      "execution_count": 7,
      "outputs": [
        {
          "output_type": "display_data",
          "data": {
            "text/plain": [
              "\n",
              "                 動物救援     動物管制 民眾不擬續養     民眾拾獲 \n",
              "          28          109          155           50           23 "
            ]
          },
          "metadata": {
            "tags": []
          }
        }
      ]
    },
    {
      "cell_type": "code",
      "metadata": {
        "id": "vELQWS4Sgr6R",
        "outputId": "1981232d-90f9-47f9-e582-e4fba23de78e",
        "colab": {
          "base_uri": "https://localhost:8080/",
          "height": 68
        }
      },
      "source": [
        "#查詢 性別\n",
        "table(Petdata$result$results$Sex)"
      ],
      "execution_count": 8,
      "outputs": [
        {
          "output_type": "display_data",
          "data": {
            "text/plain": [
              "\n",
              " 雄  雌 \n",
              "190 175 "
            ]
          },
          "metadata": {
            "tags": []
          }
        }
      ]
    },
    {
      "cell_type": "code",
      "metadata": {
        "id": "DBr6GJC3gx0g",
        "outputId": "4763b15e-cba6-418b-c5ea-2194fcf071ce",
        "colab": {
          "base_uri": "https://localhost:8080/",
          "height": 68
        }
      },
      "source": [
        "#查詢 是否已結紮\n",
        "table(Petdata$result$results$IsSterilization)"
      ],
      "execution_count": 9,
      "outputs": [
        {
          "output_type": "display_data",
          "data": {
            "text/plain": [
              "\n",
              "已絕育 未絕育 \n",
              "   151    214 "
            ]
          },
          "metadata": {
            "tags": []
          }
        }
      ]
    },
    {
      "cell_type": "code",
      "metadata": {
        "id": "YAL4IWI8gzj4",
        "outputId": "30555418-05d0-4e67-a8cd-501262ac6184",
        "colab": {
          "base_uri": "https://localhost:8080/",
          "height": 68
        }
      },
      "source": [
        "#查詢 種類?\n",
        "table(Petdata$result$results$Type)"
      ],
      "execution_count": 10,
      "outputs": [
        {
          "output_type": "display_data",
          "data": {
            "text/plain": [
              "\n",
              "其他   犬   貓 \n",
              "  62  187  116 "
            ]
          },
          "metadata": {
            "tags": []
          }
        }
      ]
    },
    {
      "cell_type": "code",
      "metadata": {
        "id": "5ba-YMl4j78H",
        "outputId": "ff244aaa-f946-4467-e5d8-8c66daa4eb5a",
        "colab": {
          "base_uri": "https://localhost:8080/",
          "height": 408
        }
      },
      "source": [
        "#查詢 晶片??\n",
        "table(Petdata$result$results$ChipNum)"
      ],
      "execution_count": 12,
      "outputs": [
        {
          "output_type": "display_data",
          "data": {
            "text/plain": [
              "\n",
              "                158097007474768 900042000220727 900042000223930 900073000013845 \n",
              "            311               1               1               1               1 \n",
              "900073000028758 900073000028772 900073000028775 900073000029451 900073000060204 \n",
              "              1               1               1               1               1 \n",
              "900073000060458 900073000060609 900073000060904 900073000062346 900073000064026 \n",
              "              1               1               1               1               1 \n",
              "900073000064270 900073000064518 900073000064625 900073000066331 900073000066337 \n",
              "              1               1               1               1               1 \n",
              "900073000083099 900073000086021 900073000086030 900073000086102 900073000086203 \n",
              "              1               1               1               1               1 \n",
              "900073000086249 900073000086441 900073000086481 900073000086609 900073000086698 \n",
              "              1               1               1               1               1 \n",
              "900073000086867 900073000086900 900073000087438 900073000092104 900073000092114 \n",
              "              1               1               1               1               1 \n",
              "900073000092817 900128000286182 900128000408849 900128000452096 900128000499958 \n",
              "              1               1               1               1               1 \n",
              "900128000570837 900128000606663 900128001361287 900138000031146 900138000037994 \n",
              "              1               1               1               1               1 \n",
              "900138000388018 900138000400622 900138000462725 900138000482615 900138000762818 \n",
              "              1               1               1               1               1 \n",
              "900138000763651 900138000781115 900138000794069 965000000263051 985140000416679 \n",
              "              1               1               1               1               1 "
            ]
          },
          "metadata": {
            "tags": []
          }
        }
      ]
    },
    {
      "cell_type": "code",
      "metadata": {
        "id": "GKqShw9_g1ch"
      },
      "source": [
        ""
      ],
      "execution_count": null,
      "outputs": []
    }
  ]
}